{
 "cells": [
  {
   "cell_type": "markdown",
   "metadata": {},
   "source": [
    "# Setup \n",
    "## Update Data Directory"
   ]
  },
  {
   "cell_type": "code",
   "execution_count": 1,
   "metadata": {
    "collapsed": true
   },
   "outputs": [],
   "source": [
    "# Update Data/ directory.\n",
    "%run ./DownloadData.py"
   ]
  },
  {
   "cell_type": "markdown",
   "metadata": {},
   "source": [
    "## Imports"
   ]
  },
  {
   "cell_type": "code",
   "execution_count": 2,
   "metadata": {
    "collapsed": true
   },
   "outputs": [],
   "source": [
    "import os\n",
    "import numpy as np\n",
    "import pandas as pd"
   ]
  },
  {
   "cell_type": "markdown",
   "metadata": {},
   "source": [
    "## Load DataFrames"
   ]
  },
  {
   "cell_type": "code",
   "execution_count": 3,
   "metadata": {
    "collapsed": false
   },
   "outputs": [
    {
     "name": "stdout",
     "output_type": "stream",
     "text": [
      "['caste', 'caste_percent', 'communicabledisease1', 'communicabledisease2', 'hdi2011', 'mentalhealth', 'mentalhealthT', 'poverty1', 'poverty1T', 'poverty2', 'poverty2T', 'sexratio', 'vaccinations', 'vaccinationsT', 'watersanitaion', 'watersanitationT']\n"
     ]
    }
   ],
   "source": [
    "df = {}\n",
    "for data in os.listdir('Data/'):\n",
    "    if data.endswith('.csv'):\n",
    "        df[data[:-4]] = pd.read_csv('Data/' + data)\n",
    "print sorted(df.keys())"
   ]
  },
  {
   "cell_type": "markdown",
   "metadata": {},
   "source": [
    "# Create DataFrames\n",
    "## caste_percent\n",
    "This DataFrame summarizes the percent of the population belonging to each caste by district."
   ]
  },
  {
   "cell_type": "code",
   "execution_count": 37,
   "metadata": {
    "collapsed": false
   },
   "outputs": [],
   "source": [
    "series = []\n",
    "totalpop = {}\n",
    "for district in df['caste']['District'].unique():\n",
    "    caste = df['caste'][(df['caste']['District'] == district)].groupby('Caste/Ethnicity').sum()['In number']\n",
    "    if district == 'Darchula':\n",
    "        district = 'Darchaula'\n",
    "    if district == 'Kavrepalanchok':\n",
    "        district = 'Kavre'\n",
    "    series.append((100.0 * (caste / caste.sum())).rename(district))\n",
    "    totalpop[district] = caste.sum()\n",
    "\n",
    "df['caste_percent'] = pd.DataFrame(series).fillna(0)\n",
    "df['caste_percent']['Tot_Pop'] = pd.Series(totalpop).rename('Total_Population')\n",
    "df['caste_percent'].to_csv('Data/caste_percent.csv')"
   ]
  },
  {
   "cell_type": "markdown",
   "metadata": {},
   "source": [
    "## Poverty"
   ]
  },
  {
   "cell_type": "code",
   "execution_count": 5,
   "metadata": {
    "collapsed": false
   },
   "outputs": [],
   "source": [
    "poverty = df['poverty1'][df['poverty1']['Year AD'] == 2011]\n",
    "series = []\n",
    "for district in poverty['District'].unique():\n",
    "    indicators = poverty[(poverty['District'] == district)].groupby('Indicators').sum()['Value']\n",
    "    series.append(indicators.rename(district).T)\n",
    "\n",
    "df['poverty1T'] = pd.DataFrame(series)\n",
    "df['poverty1T'].to_csv('Data/poverty1T.csv')\n",
    "\n",
    "series = []\n",
    "poverty = df['poverty2']\n",
    "\n",
    "for district in poverty['District'].unique():\n",
    "    subgroups = poverty[(poverty['District'] == district)].groupby('Sub Group').sum()['Value']\n",
    "    series.append(subgroups.rename(district).T)\n",
    "\n",
    "df['poverty2T'] = pd.DataFrame(series)\n",
    "df['poverty2T'].to_csv('Data/poverty2T.csv')"
   ]
  },
  {
   "cell_type": "markdown",
   "metadata": {},
   "source": [
    "## vaccinationsT"
   ]
  },
  {
   "cell_type": "code",
   "execution_count": 6,
   "metadata": {
    "collapsed": false
   },
   "outputs": [],
   "source": [
    "vacc = df['vaccinations'][df['vaccinations']['Year AD'] == '2011/12']\n",
    "series = []\n",
    "\n",
    "for district in vacc['District'].unique():\n",
    "    vaccines = vacc[vacc['District'] == district].groupby('Vaccines').sum()\n",
    "    vaccines.columns = [district]\n",
    "    series.append(vaccines.T.ix[0])\n",
    "    \n",
    "df['vaccinationsT'] = pd.DataFrame(series)\n",
    "df['vaccinationsT'].to_csv('Data/vaccinationsT.csv')"
   ]
  },
  {
   "cell_type": "markdown",
   "metadata": {
    "collapsed": true
   },
   "source": [
    "## watersanitationT"
   ]
  },
  {
   "cell_type": "code",
   "execution_count": 7,
   "metadata": {
    "collapsed": false
   },
   "outputs": [],
   "source": [
    "df['watersanitaion']\n",
    "series = []\n",
    "\n",
    "for district in df['watersanitaion']['Districts'].unique():\n",
    "    sani = df['watersanitaion'][df['watersanitaion']['Districts'] == district].groupby('Sub group').sum()\n",
    "    sani.columns = [district]\n",
    "    series.append(sani.T.ix[0])\n",
    "df['watersanitationT'] = pd.DataFrame(series)\n",
    "df['watersanitationT'].to_csv('Data/watersanitationT.csv')"
   ]
  },
  {
   "cell_type": "markdown",
   "metadata": {},
   "source": [
    "## mentalhealthT"
   ]
  },
  {
   "cell_type": "code",
   "execution_count": 8,
   "metadata": {
    "collapsed": false
   },
   "outputs": [],
   "source": [
    "mh = df['mentalhealth']\n",
    "series = []\n",
    "\n",
    "for district in mh['District'].unique():\n",
    "    mental = mh[mh['District'] == district].groupby('Mental problem').sum()\n",
    "    mental.columns = [district]\n",
    "    series.append(mental.T.ix[0])\n",
    "\n",
    "df['mentalhealthT'] = pd.DataFrame(series)\n",
    "df['mentalhealthT'].to_csv('Data/mentalhealthT.csv')"
   ]
  },
  {
   "cell_type": "markdown",
   "metadata": {},
   "source": [
    "## Communicable Disease"
   ]
  },
  {
   "cell_type": "code",
   "execution_count": 36,
   "metadata": {
    "collapsed": false
   },
   "outputs": [],
   "source": [
    "cd1 = df['communicabledisease1'][df['communicabledisease1']['Year AD'] == '2011/12']\n",
    "series = []\n",
    "\n",
    "for district in cd1['District'].unique():\n",
    "    disease1 = cd1[cd1['District'] == district].groupby('Communicable Diseases').sum()\n",
    "    disease1.columns = [district]\n",
    "    series.append(disease1.T.ix[0])\n",
    "\n",
    "df['communicabledisease1T'] = pd.DataFrame(series)\n",
    "df['communicabledisease1T'].to_csv('Data/communicabledisease1T.csv')\n",
    "\n",
    "cd2 = df['communicabledisease2'][df['communicabledisease2']['Year AD'] == '2011/12']\n",
    "series = []\n",
    "\n",
    "for district in cd2['District'].unique():\n",
    "    disease2 = cd2[cd2['District'] == district].groupby('Diseases').sum()\n",
    "    disease2.columns = [district]\n",
    "    series.append(disease2.T.ix[0])\n",
    "\n",
    "df['communicabledisease2T'] = pd.DataFrame(series)\n",
    "df['communicabledisease2T'].to_csv('Data/communicabledisease2T.csv')"
   ]
  },
  {
   "cell_type": "code",
   "execution_count": 10,
   "metadata": {
    "collapsed": false
   },
   "outputs": [
    {
     "name": "stdout",
     "output_type": "stream",
     "text": [
      "['caste', 'caste_percent', 'communicabledisease1', 'communicabledisease1T', 'communicabledisease2', 'communicabledisease2T', 'hdi2011', 'mentalhealth', 'mentalhealthT', 'poverty1', 'poverty1T', 'poverty2', 'poverty2T', 'sexratio', 'vaccinations', 'vaccinationsT', 'watersanitaion', 'watersanitationT']\n"
     ]
    }
   ],
   "source": [
    "print sorted(df.keys())"
   ]
  },
  {
   "cell_type": "code",
   "execution_count": 39,
   "metadata": {
    "collapsed": false
   },
   "outputs": [],
   "source": [
    "df['hdi2011'] = df['hdi2011'].set_index(['District '])\n",
    "df['sexratio'] = df['sexratio'].set_index('District ')\n",
    "\n",
    "pd.concat([df['caste_percent'], df['communicabledisease1T'],\n",
    "           df['communicabledisease2T'], df['mentalhealthT'],\n",
    "           df['poverty1T'], df['poverty2T'], df['vaccinationsT'],\n",
    "           df['watersanitationT'], df['hdi2011'], df['sexratio']], axis=1).to_csv('Data/master.csv')"
   ]
  },
  {
   "cell_type": "code",
   "execution_count": null,
   "metadata": {
    "collapsed": true
   },
   "outputs": [],
   "source": []
  }
 ],
 "metadata": {
  "kernelspec": {
   "display_name": "Python 2",
   "language": "python",
   "name": "python2"
  },
  "language_info": {
   "codemirror_mode": {
    "name": "ipython",
    "version": 2
   },
   "file_extension": ".py",
   "mimetype": "text/x-python",
   "name": "python",
   "nbconvert_exporter": "python",
   "pygments_lexer": "ipython2",
   "version": "2.7.12"
  }
 },
 "nbformat": 4,
 "nbformat_minor": 1
}

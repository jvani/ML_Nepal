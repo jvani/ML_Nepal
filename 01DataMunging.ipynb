{
 "cells": [
  {
   "cell_type": "markdown",
   "metadata": {},
   "source": [
    "# Setup \n",
    "## Update Data Directory"
   ]
  },
  {
   "cell_type": "code",
   "execution_count": 1,
   "metadata": {
    "collapsed": true
   },
   "outputs": [],
   "source": [
    "# Update Data/ directory.\n",
    "%run ./DownloadData.py"
   ]
  },
  {
   "cell_type": "markdown",
   "metadata": {},
   "source": [
    "## Imports"
   ]
  },
  {
   "cell_type": "code",
   "execution_count": 2,
   "metadata": {
    "collapsed": true
   },
   "outputs": [],
   "source": [
    "import os\n",
    "import numpy as np\n",
    "import pandas as pd"
   ]
  },
  {
   "cell_type": "markdown",
   "metadata": {},
   "source": [
    "## Load DataFrames"
   ]
  },
  {
   "cell_type": "code",
   "execution_count": 3,
   "metadata": {
    "collapsed": false
   },
   "outputs": [
    {
     "name": "stdout",
     "output_type": "stream",
     "text": [
      "['caste', 'caste_grouped', 'caste_percent', 'communicabledisease1', 'communicabledisease1T', 'communicabledisease2', 'communicabledisease2T', 'hdi2011', 'master', 'mentalhealth', 'mentalhealthT', 'poverty1', 'poverty1T', 'poverty2', 'poverty2T', 'sexratio', 'vaccinations', 'vaccinationsT', 'watersanitaion', 'watersanitationT']\n"
     ]
    }
   ],
   "source": [
    "df = {}\n",
    "for data in os.listdir('Data/'):\n",
    "    if data.endswith('.csv'):\n",
    "        df[data[:-4]] = pd.read_csv('Data/' + data)\n",
    "print sorted(df.keys())"
   ]
  },
  {
   "cell_type": "markdown",
   "metadata": {},
   "source": [
    "# Create DataFrames\n",
    "## caste_percent\n",
    "This DataFrame summarizes the percent of the population belonging to each caste by district."
   ]
  },
  {
   "cell_type": "code",
   "execution_count": 4,
   "metadata": {
    "collapsed": false
   },
   "outputs": [],
   "source": [
    "series = []\n",
    "totalpop = {}\n",
    "for district in df['caste']['District'].unique():\n",
    "    caste = df['caste'][(df['caste']['District'] == district)].groupby('Caste/Ethnicity').sum()['In number']\n",
    "    if district == 'Darchula':\n",
    "        district = 'Darchaula'\n",
    "    if district == 'Kavrepalanchok':\n",
    "        district = 'Kavre'\n",
    "    series.append((100.0 * (caste / caste.sum())).rename(district))\n",
    "    totalpop[district] = caste.sum()\n",
    "\n",
    "df['caste_percent'] = pd.DataFrame(series).fillna(0)\n",
    "df['caste_percent']['Tot_Pop'] = pd.Series(totalpop).rename('Total_Population')\n",
    "df['caste_percent'].to_csv('Data/caste_percent.csv')"
   ]
  },
  {
   "cell_type": "code",
   "execution_count": 5,
   "metadata": {
    "collapsed": false
   },
   "outputs": [],
   "source": [
    "caste = pd.read_csv('Data/caste.csv')\n",
    "sg = {'Brahman - Hill':'Hill Brahman', 'Chhetree':'Hill Chhetree', 'Thakuri':'Hill Chhetree', \\\n",
    "      'Dashnami/Sanyasi':'Hill Chhetree', 'Brahman - Tarai':'Madhesi Brahman/Chhetree', \\\n",
    "     'Kayastha':'Madhesi Brahman/Chhetree', 'Rajput':'Madhesi Brahman/Chhetree', 'Amat':'Madhesi Other - OC A', \\\n",
    "     'Badhaee':'Madhesi Other - OC A', 'Baraee':'Madhesi Other - OC A', 'Dev':'Madhesi Other - OC A', \\\n",
    "     'Gaderi/Bhedhar':'Madhesi Other - OC A', 'Hajam/Thakur':'Madhesi Other - OC A', \\\n",
    "     'Haluwai':'Madhesi Other - OC A', 'Kalar':'Madhesi Other - OC A', 'Kalwar':'Madhesi Other - OC A', \\\n",
    "     'Kamar':'Madhesi Other - OC A', 'Kathbaniyan':'Madhesi Other - OC A', 'Koiri/Kushwaha':'Madhesi Other - OC A', \\\n",
    "     'Kurmi':'Madhesi Other - OC A', 'Lohar':'Madhesi Other - OC A', 'Rajbhar':'Madhesi Other - OC A', \\\n",
    "     'Rajdhob':'Madhesi Other - OC A', 'Sonar':'Madhesi Other - OC A', 'Sudhi':'Madhesi Other - OC A', 'Kanu':'Madhesi Other - OC A', \\\n",
    "     'Teli':'Madhesi Other - OC A', 'Yadav':'Madhesi Other - OC A', 'Bin':'Madhesi Other - OC B', \\\n",
    "     'Dhandi':'Madhesi Other - OC B', 'Dhankar/Kharikar':'Madhesi Other - OC B', 'Dhunia':'Madhesi Other - OC B', \\\n",
    "     'Kahar':'Madhesi Other - OC B', 'Kewat':'Madhesi Other - OC B', 'Kori':'Madhesi Other - OC B', \\\n",
    "     'Kumhar':'Madhesi Other - OC B', 'Lodh':'Madhesi Other - OC B', 'Mali':'Madhesi Other - OC B', \\\n",
    "     'Mallaha':'Madhesi Other - OC B', 'Natuwa':'Madhesi Other - OC B', 'Nuniya':'Madhesi Other - OC B', \\\n",
    "     'Nurang':'Madhesi Other - OC B', 'Sarbaria':'Madhesi Other - OC B', 'Badi': 'Hill Dalit', \\\n",
    "     'Damai/Dholi':'Hill Dalit', 'Gaine':'Hill Dalit', 'Kami':'Hill Dalit', 'Sarki':'Hill Dalit', \\\n",
    "     'Bantar/Sardar':'Madhesi Dalit', 'Chamar/Harijan/Ram':'Madhesi Dalit', 'Chidimar':'Madhesi Dalit', \\\n",
    "     'Dhobi':'Madhesi Dalit', 'Dom':'Madhesi Dalit', 'Dusadh/Pasawan/Pasi':'Madhesi Dalit', \\\n",
    "     'Halkhor':'Madhesi Dalit', 'Khatwe':'Madhesi Dalit', 'Musahar':'Madhesi Dalit', 'Tatma/Tatwa':'Madhesi Dalit', \\\n",
    "     'Newar':'Newar', 'Sherpa':'Mtn/Hill Janajati A', 'Yakkha':'Mtn/Hill Janajati A', 'Jirel':'Mtn/Hill Janajati A', \\\n",
    "     'Kulung':'Mtn/Hill Janajati A', 'Yamphu':'Mtn/Hill Janajati A', 'Mewahang':'Mtn/Hill Janajati A', \\\n",
    "     'Gharti/Bhujel':'Mtn/Hill Janajati A', 'Khaling':'Mtn/Hill Janajati A', 'Darai':'Mtn/Hill Janajati A', \\\n",
    "     'Magar':'Mtn/Hill Janajati A', 'Chhantyal/Chhantel':'Mtn/Hill Janajati A', 'Aathpariya':'Mtn/Hill Janajati A', \\\n",
    "     'Bahing':'Mtn/Hill Janajati A', 'Rai':'Mtn/Hill Janajati A', 'Thulung':'Mtn/Hill Janajati A', \\\n",
    "     'Gurung':'Mtn/Hill Janajati A', 'Limbu':'Mtn/Hill Janajati A', 'Lepcha':'Mtn/Hill Janajati A', \\\n",
    "     'Sampang':'Mtn/Hill Janajati A', 'Dura':'Mtn/Hill Janajati A', 'Chamling':'Mtn/Hill Janajati A', \\\n",
    "     'Bantaba':'Mtn/Hill Janajati A', 'Loharung':'Mtn/Hill Janajati A', 'Thakali':'Mtn/Hill Janajati A', \\\n",
    "     'Bhote':'Mtn/Hill Janajati B', 'Bote':'Mtn/Hill Janajati B', 'Brahmu/Baramo':'Mtn/Hill Janajati B', \\\n",
    "     'Byasi/Sauka':'Mtn/Hill Janajati B', 'Chepang/Praja':'Mtn/Hill Janajati B', 'Danuwar':'Mtn/Hill Janajati B', \\\n",
    "     'Dolpo':'Mtn/Hill Janajati B', 'Ghale':'Mtn/Hill Janajati B', 'Hayu':'Mtn/Hill Janajati B', 'Hyolmo':'Mtn/Hill Janajati B', \\\n",
    "     'Kumal':'Mtn/Hill Janajati B', 'Kusunda':'Mtn/Hill Janajati B', 'Lhomi':'Mtn/Hill Janajati B', \\\n",
    "     'Lhopa':'Mtn/Hill Janajati B', 'Majhi':'Mtn/Hill Janajati B', 'Nachhiring':'Mtn/Hill Janajati B', \\\n",
    "     'Pahari':'Mtn/Hill Janajati B', 'Raji':'Mtn/Hill Janajati B', 'Raute':'Mtn/Hill Janajati B', \\\n",
    "     'Sunuwar':'Mtn/Hill Janajati B', 'Tamang':'Mtn/Hill Janajati B', 'Thami':'Mtn/Hill Janajati B', \\\n",
    "     'Topkegola':'Mtn/Hill Janajati B', 'Walung':'Mtn/Hill Janajati B', 'Dhanuk':'Tarai Janajati', \\\n",
    "     'Dhimal':'Tarai Janajati', 'Gangai':'Tarai Janajati', 'Jhangad/Dhagar':'Tarai Janajati', 'Kisan':'Tarai Janajati', \\\n",
    "     'Koche':'Tarai Janajati', 'Meche':'Tarai Janajati', 'Munda':'Tarai Janajati', 'Pattharkatta/Kushwadiya':'Tarai Janajati', \\\n",
    "     'Rajbansi':'Tarai Janajati', 'Satar/Santhal':'Tarai Janajati', 'Tajpuriya':'Tarai Janajati', 'Tharu':'Tarai Janajati', \\\n",
    "     'Musalman':'Musalman', 'Marwadi':'Other (MPB)', 'Punjabi/Shikh':'Other (MPB)', 'Bangali':'Other (MPB)', \\\n",
    "     'Dalit Others':'Other undefined', 'Janajati Others':'Other undefined', 'Undefined Others':'Other undefined', \\\n",
    "     'Terai Others':'Other undefined', 'Others':'Other undefined', 'Foreigner':'Foreigner', 'Khawas':'Other undefined'}\n",
    "caste['social_groups'] = caste['Caste/Ethnicity'].map(sg)\n",
    "grouped = pd.DataFrame()\n",
    "grouped['district'] = caste['District']\n",
    "grouped['unique'] = caste['social_groups']\n",
    "grouped['number'] = caste['In number']\n",
    "grouped = pd.DataFrame(grouped['number'].groupby([grouped['district'], grouped['unique']]).sum())\n",
    "grouped = grouped.reset_index()\n",
    "grouped = grouped.pivot(index='district', columns='unique', values='number')\n",
    "grouped = grouped.reset_index()\n",
    "grouped = grouped.fillna(0)\n",
    "grouped['Total Pop Census'] = grouped.sum(axis=1)\n",
    "grouped.iloc[:,[1, 2, 3, 4, 5, 6, 7, 8, 9, 10, 11, 12, 13, 14, 15]] = \\\n",
    "   grouped.iloc[:,[1, 2, 3, 4, 5, 6, 7, 8, 9, 10, 11, 12, 13, 14, 15]].div(grouped['Total Pop Census'],axis=0)\n",
    "grouped = grouped.set_index('district')\n",
    "grouped.index = grouped.index.rename('District ')\n",
    "grouped.to_csv('Data/caste_grouped.csv')"
   ]
  },
  {
   "cell_type": "markdown",
   "metadata": {},
   "source": [
    "## Poverty"
   ]
  },
  {
   "cell_type": "code",
   "execution_count": 6,
   "metadata": {
    "collapsed": false
   },
   "outputs": [],
   "source": [
    "poverty = df['poverty1'][df['poverty1']['Year AD'] == 2011]\n",
    "series = []\n",
    "for district in poverty['District'].unique():\n",
    "    indicators = poverty[(poverty['District'] == district)].groupby('Indicators').sum()['Value']\n",
    "    series.append(indicators.rename(district).T)\n",
    "\n",
    "df['poverty1T'] = pd.DataFrame(series)\n",
    "df['poverty1T'].to_csv('Data/poverty1T.csv')\n",
    "\n",
    "series = []\n",
    "poverty = df['poverty2']\n",
    "\n",
    "for district in poverty['District'].unique():\n",
    "    subgroups = poverty[(poverty['District'] == district)].groupby('Sub Group').sum()['Value']\n",
    "    series.append(subgroups.rename(district).T)\n",
    "\n",
    "df['poverty2T'] = pd.DataFrame(series)\n",
    "df['poverty2T'].to_csv('Data/poverty2T.csv')"
   ]
  },
  {
   "cell_type": "markdown",
   "metadata": {},
   "source": [
    "## vaccinationsT"
   ]
  },
  {
   "cell_type": "code",
   "execution_count": 7,
   "metadata": {
    "collapsed": false
   },
   "outputs": [],
   "source": [
    "vacc = df['vaccinations'][df['vaccinations']['Year AD'] == '2011/12']\n",
    "series = []\n",
    "\n",
    "for district in vacc['District'].unique():\n",
    "    vaccines = vacc[vacc['District'] == district].groupby('Vaccines').sum()\n",
    "    vaccines.columns = [district]\n",
    "    series.append(vaccines.T.ix[0])\n",
    "    \n",
    "df['vaccinationsT'] = pd.DataFrame(series)\n",
    "df['vaccinationsT'].to_csv('Data/vaccinationsT.csv')"
   ]
  },
  {
   "cell_type": "markdown",
   "metadata": {
    "collapsed": true
   },
   "source": [
    "## watersanitationT"
   ]
  },
  {
   "cell_type": "code",
   "execution_count": 8,
   "metadata": {
    "collapsed": false
   },
   "outputs": [],
   "source": [
    "df['watersanitaion']\n",
    "series = []\n",
    "\n",
    "for district in df['watersanitaion']['Districts'].unique():\n",
    "    sani = df['watersanitaion'][df['watersanitaion']['Districts'] == district].groupby('Sub group').sum()\n",
    "    sani.columns = [district]\n",
    "    series.append(sani.T.ix[0])\n",
    "df['watersanitationT'] = pd.DataFrame(series)\n",
    "df['watersanitationT'].to_csv('Data/watersanitationT.csv')"
   ]
  },
  {
   "cell_type": "markdown",
   "metadata": {},
   "source": [
    "## mentalhealthT"
   ]
  },
  {
   "cell_type": "code",
   "execution_count": 9,
   "metadata": {
    "collapsed": false
   },
   "outputs": [],
   "source": [
    "mh = df['mentalhealth']\n",
    "series = []\n",
    "\n",
    "for district in mh['District'].unique():\n",
    "    mental = mh[mh['District'] == district].groupby('Mental problem').sum()\n",
    "    mental.columns = [district]\n",
    "    series.append(mental.T.ix[0])\n",
    "\n",
    "df['mentalhealthT'] = pd.DataFrame(series)\n",
    "df['mentalhealthT'].to_csv('Data/mentalhealthT.csv')"
   ]
  },
  {
   "cell_type": "markdown",
   "metadata": {},
   "source": [
    "## Communicable Disease"
   ]
  },
  {
   "cell_type": "code",
   "execution_count": 10,
   "metadata": {
    "collapsed": false
   },
   "outputs": [],
   "source": [
    "cd1 = df['communicabledisease1'][df['communicabledisease1']['Year AD'] == '2011/12']\n",
    "series = []\n",
    "\n",
    "for district in cd1['District'].unique():\n",
    "    disease1 = cd1[cd1['District'] == district].groupby('Communicable Diseases').sum()\n",
    "    disease1.columns = [district]\n",
    "    series.append(disease1.T.ix[0])\n",
    "\n",
    "df['communicabledisease1T'] = pd.DataFrame(series)\n",
    "df['communicabledisease1T'].to_csv('Data/communicabledisease1T.csv')\n",
    "\n",
    "cd2 = df['communicabledisease2'][df['communicabledisease2']['Year AD'] == '2011/12']\n",
    "series = []\n",
    "\n",
    "for district in cd2['District'].unique():\n",
    "    disease2 = cd2[cd2['District'] == district].groupby('Diseases').sum()\n",
    "    disease2.columns = [district]\n",
    "    series.append(disease2.T.ix[0])\n",
    "\n",
    "df['communicabledisease2T'] = pd.DataFrame(series)\n",
    "df['communicabledisease2T'].to_csv('Data/communicabledisease2T.csv')"
   ]
  },
  {
   "cell_type": "code",
   "execution_count": 11,
   "metadata": {
    "collapsed": false
   },
   "outputs": [
    {
     "data": {
      "text/html": [
       "<div>\n",
       "<table border=\"1\" class=\"dataframe\">\n",
       "  <thead>\n",
       "    <tr style=\"text-align: right;\">\n",
       "      <th>Diseases</th>\n",
       "      <th>Acute Flacid Paralysis</th>\n",
       "      <th>Chicken pox</th>\n",
       "      <th>Diptheria</th>\n",
       "      <th>Hepatatis-B</th>\n",
       "      <th>Measles</th>\n",
       "      <th>Mumps</th>\n",
       "      <th>Neonatal Tetanus</th>\n",
       "      <th>Rubella</th>\n",
       "      <th>Tetanus</th>\n",
       "      <th>Tuberculosis</th>\n",
       "      <th>Whooping cough</th>\n",
       "    </tr>\n",
       "  </thead>\n",
       "  <tbody>\n",
       "    <tr>\n",
       "      <th>Taplejung</th>\n",
       "      <td>8</td>\n",
       "      <td>218</td>\n",
       "      <td>0</td>\n",
       "      <td>56</td>\n",
       "      <td>32</td>\n",
       "      <td>463</td>\n",
       "      <td>0</td>\n",
       "      <td>9</td>\n",
       "      <td>0</td>\n",
       "      <td>28</td>\n",
       "      <td>2</td>\n",
       "    </tr>\n",
       "    <tr>\n",
       "      <th>Panchthar</th>\n",
       "      <td>0</td>\n",
       "      <td>113</td>\n",
       "      <td>0</td>\n",
       "      <td>8</td>\n",
       "      <td>10</td>\n",
       "      <td>492</td>\n",
       "      <td>1</td>\n",
       "      <td>0</td>\n",
       "      <td>0</td>\n",
       "      <td>24</td>\n",
       "      <td>11</td>\n",
       "    </tr>\n",
       "    <tr>\n",
       "      <th>Ilam</th>\n",
       "      <td>0</td>\n",
       "      <td>162</td>\n",
       "      <td>0</td>\n",
       "      <td>2</td>\n",
       "      <td>41</td>\n",
       "      <td>677</td>\n",
       "      <td>0</td>\n",
       "      <td>17</td>\n",
       "      <td>2</td>\n",
       "      <td>51</td>\n",
       "      <td>0</td>\n",
       "    </tr>\n",
       "    <tr>\n",
       "      <th>Jhapa</th>\n",
       "      <td>138</td>\n",
       "      <td>626</td>\n",
       "      <td>0</td>\n",
       "      <td>18</td>\n",
       "      <td>32</td>\n",
       "      <td>1546</td>\n",
       "      <td>0</td>\n",
       "      <td>20</td>\n",
       "      <td>0</td>\n",
       "      <td>1207</td>\n",
       "      <td>3</td>\n",
       "    </tr>\n",
       "    <tr>\n",
       "      <th>Morang</th>\n",
       "      <td>89</td>\n",
       "      <td>706</td>\n",
       "      <td>0</td>\n",
       "      <td>134</td>\n",
       "      <td>96</td>\n",
       "      <td>1205</td>\n",
       "      <td>0</td>\n",
       "      <td>36</td>\n",
       "      <td>2</td>\n",
       "      <td>849</td>\n",
       "      <td>4</td>\n",
       "    </tr>\n",
       "  </tbody>\n",
       "</table>\n",
       "</div>"
      ],
      "text/plain": [
       "Diseases   Acute Flacid Paralysis  Chicken pox  Diptheria  Hepatatis-B  \\\n",
       "Taplejung                       8          218          0           56   \n",
       "Panchthar                       0          113          0            8   \n",
       "Ilam                            0          162          0            2   \n",
       "Jhapa                         138          626          0           18   \n",
       "Morang                         89          706          0          134   \n",
       "\n",
       "Diseases   Measles  Mumps  Neonatal Tetanus  Rubella  Tetanus  Tuberculosis  \\\n",
       "Taplejung       32    463                 0        9        0            28   \n",
       "Panchthar       10    492                 1        0        0            24   \n",
       "Ilam            41    677                 0       17        2            51   \n",
       "Jhapa           32   1546                 0       20        0          1207   \n",
       "Morang          96   1205                 0       36        2           849   \n",
       "\n",
       "Diseases   Whooping cough  \n",
       "Taplejung               2  \n",
       "Panchthar              11  \n",
       "Ilam                    0  \n",
       "Jhapa                   3  \n",
       "Morang                  4  "
      ]
     },
     "execution_count": 11,
     "metadata": {},
     "output_type": "execute_result"
    }
   ],
   "source": [
    "df['communicabledisease2T'].head()"
   ]
  },
  {
   "cell_type": "code",
   "execution_count": 12,
   "metadata": {
    "collapsed": false
   },
   "outputs": [
    {
     "data": {
      "text/html": [
       "<div>\n",
       "<table border=\"1\" class=\"dataframe\">\n",
       "  <thead>\n",
       "    <tr style=\"text-align: right;\">\n",
       "      <th></th>\n",
       "      <th>District</th>\n",
       "      <th>Zone</th>\n",
       "      <th>Geographical Region</th>\n",
       "      <th>Development Region</th>\n",
       "      <th>HDI</th>\n",
       "    </tr>\n",
       "  </thead>\n",
       "  <tbody>\n",
       "    <tr>\n",
       "      <th>0</th>\n",
       "      <td>Achham</td>\n",
       "      <td>Seti</td>\n",
       "      <td>Hill</td>\n",
       "      <td>Far-Western</td>\n",
       "      <td>0.378</td>\n",
       "    </tr>\n",
       "    <tr>\n",
       "      <th>1</th>\n",
       "      <td>Arghakhanchi</td>\n",
       "      <td>Lumbini</td>\n",
       "      <td>Hill</td>\n",
       "      <td>Western</td>\n",
       "      <td>0.482</td>\n",
       "    </tr>\n",
       "    <tr>\n",
       "      <th>2</th>\n",
       "      <td>Banke</td>\n",
       "      <td>Bheri</td>\n",
       "      <td>Terai</td>\n",
       "      <td>Mid-Western</td>\n",
       "      <td>0.475</td>\n",
       "    </tr>\n",
       "    <tr>\n",
       "      <th>3</th>\n",
       "      <td>Baglung</td>\n",
       "      <td>Dhawalagiri</td>\n",
       "      <td>Hill</td>\n",
       "      <td>Western</td>\n",
       "      <td>0.478</td>\n",
       "    </tr>\n",
       "    <tr>\n",
       "      <th>4</th>\n",
       "      <td>Baitadi</td>\n",
       "      <td>Mahakali</td>\n",
       "      <td>Hill</td>\n",
       "      <td>Far-Western</td>\n",
       "      <td>0.416</td>\n",
       "    </tr>\n",
       "  </tbody>\n",
       "</table>\n",
       "</div>"
      ],
      "text/plain": [
       "      District          Zone Geographical Region Development Region   HDI \n",
       "0        Achham         Seti                Hill        Far-Western  0.378\n",
       "1  Arghakhanchi      Lumbini                Hill            Western  0.482\n",
       "2         Banke        Bheri               Terai        Mid-Western  0.475\n",
       "3       Baglung  Dhawalagiri                Hill            Western  0.478\n",
       "4       Baitadi     Mahakali                Hill        Far-Western  0.416"
      ]
     },
     "execution_count": 12,
     "metadata": {},
     "output_type": "execute_result"
    }
   ],
   "source": [
    "df['hdi2011'].head()"
   ]
  },
  {
   "cell_type": "code",
   "execution_count": 13,
   "metadata": {
    "collapsed": false
   },
   "outputs": [
    {
     "name": "stdout",
     "output_type": "stream",
     "text": [
      "['caste', 'caste_grouped', 'caste_percent', 'communicabledisease1', 'communicabledisease1T', 'communicabledisease2', 'communicabledisease2T', 'hdi2011', 'master', 'mentalhealth', 'mentalhealthT', 'poverty1', 'poverty1T', 'poverty2', 'poverty2T', 'sexratio', 'vaccinations', 'vaccinationsT', 'watersanitaion', 'watersanitationT']\n"
     ]
    }
   ],
   "source": [
    "print sorted(df.keys())"
   ]
  },
  {
   "cell_type": "code",
   "execution_count": 14,
   "metadata": {
    "collapsed": false
   },
   "outputs": [],
   "source": [
    "df['hdi2011'] = df['hdi2011'].set_index(['District '])\n",
    "df['sexratio'] = df['sexratio'].set_index('District ')\n",
    "\n",
    "pd.concat([grouped, df['poverty1T'], df['poverty2T'],\n",
    "           df['vaccinationsT'], df['watersanitationT'], df['hdi2011'],\n",
    "           df['sexratio'], df['communicabledisease1T'], df['communicabledisease2T'],\n",
    "           df['mentalhealthT'],], axis=1).to_csv('Data/master.csv')"
   ]
  },
  {
   "cell_type": "code",
   "execution_count": 15,
   "metadata": {
    "collapsed": true
   },
   "outputs": [],
   "source": [
    "test = pd.read_csv('Data/master.csv')"
   ]
  },
  {
   "cell_type": "code",
   "execution_count": 16,
   "metadata": {
    "collapsed": false
   },
   "outputs": [
    {
     "data": {
      "text/html": [
       "<div>\n",
       "<table border=\"1\" class=\"dataframe\">\n",
       "  <thead>\n",
       "    <tr style=\"text-align: right;\">\n",
       "      <th></th>\n",
       "      <th>Unnamed: 0</th>\n",
       "      <th>Foreigner</th>\n",
       "      <th>Hill Brahman</th>\n",
       "      <th>Hill Chhetree</th>\n",
       "      <th>Hill Dalit</th>\n",
       "      <th>Madhesi Brahman/Chhetree</th>\n",
       "      <th>Madhesi Dalit</th>\n",
       "      <th>Madhesi Other - OC A</th>\n",
       "      <th>Madhesi Other - OC B</th>\n",
       "      <th>Mtn/Hill Janajati A</th>\n",
       "      <th>...</th>\n",
       "      <th>Tetanus</th>\n",
       "      <th>Tuberculosis</th>\n",
       "      <th>Whooping cough</th>\n",
       "      <th>Alcoholism</th>\n",
       "      <th>Anxiety (Neurosis</th>\n",
       "      <th>Conversive disorder\n",
       "(Hysteria)</th>\n",
       "      <th>Depression</th>\n",
       "      <th>Epilesy</th>\n",
       "      <th>Mental retardation</th>\n",
       "      <th>Psychosis</th>\n",
       "    </tr>\n",
       "  </thead>\n",
       "  <tbody>\n",
       "    <tr>\n",
       "      <th>0</th>\n",
       "      <td>Achham</td>\n",
       "      <td>0.000000</td>\n",
       "      <td>0.102036</td>\n",
       "      <td>0.581749</td>\n",
       "      <td>0.135158</td>\n",
       "      <td>0.000101</td>\n",
       "      <td>0.000000</td>\n",
       "      <td>0.004921</td>\n",
       "      <td>0.0</td>\n",
       "      <td>0.006921</td>\n",
       "      <td>...</td>\n",
       "      <td>0.0</td>\n",
       "      <td>62.0</td>\n",
       "      <td>16.0</td>\n",
       "      <td>189.0</td>\n",
       "      <td>2202.0</td>\n",
       "      <td>281.0</td>\n",
       "      <td>1925.0</td>\n",
       "      <td>1118.0</td>\n",
       "      <td>69.0</td>\n",
       "      <td>413.0</td>\n",
       "    </tr>\n",
       "    <tr>\n",
       "      <th>1</th>\n",
       "      <td>Arghakhanchi</td>\n",
       "      <td>0.000000</td>\n",
       "      <td>0.327665</td>\n",
       "      <td>0.193248</td>\n",
       "      <td>0.209020</td>\n",
       "      <td>0.001604</td>\n",
       "      <td>0.000066</td>\n",
       "      <td>0.001058</td>\n",
       "      <td>0.0</td>\n",
       "      <td>0.193349</td>\n",
       "      <td>...</td>\n",
       "      <td>0.0</td>\n",
       "      <td>47.0</td>\n",
       "      <td>0.0</td>\n",
       "      <td>206.0</td>\n",
       "      <td>1597.0</td>\n",
       "      <td>112.0</td>\n",
       "      <td>1544.0</td>\n",
       "      <td>124.0</td>\n",
       "      <td>78.0</td>\n",
       "      <td>137.0</td>\n",
       "    </tr>\n",
       "    <tr>\n",
       "      <th>2</th>\n",
       "      <td>Baglung</td>\n",
       "      <td>0.000045</td>\n",
       "      <td>0.195385</td>\n",
       "      <td>0.205601</td>\n",
       "      <td>0.263230</td>\n",
       "      <td>0.001165</td>\n",
       "      <td>0.000000</td>\n",
       "      <td>0.000927</td>\n",
       "      <td>0.0</td>\n",
       "      <td>0.308176</td>\n",
       "      <td>...</td>\n",
       "      <td>4.0</td>\n",
       "      <td>40.0</td>\n",
       "      <td>0.0</td>\n",
       "      <td>600.0</td>\n",
       "      <td>3769.0</td>\n",
       "      <td>221.0</td>\n",
       "      <td>1695.0</td>\n",
       "      <td>386.0</td>\n",
       "      <td>349.0</td>\n",
       "      <td>429.0</td>\n",
       "    </tr>\n",
       "    <tr>\n",
       "      <th>3</th>\n",
       "      <td>Baitadi</td>\n",
       "      <td>0.000052</td>\n",
       "      <td>0.185498</td>\n",
       "      <td>0.603899</td>\n",
       "      <td>0.083153</td>\n",
       "      <td>0.001610</td>\n",
       "      <td>0.000128</td>\n",
       "      <td>0.052499</td>\n",
       "      <td>0.0</td>\n",
       "      <td>0.003870</td>\n",
       "      <td>...</td>\n",
       "      <td>6.0</td>\n",
       "      <td>141.0</td>\n",
       "      <td>1.0</td>\n",
       "      <td>125.0</td>\n",
       "      <td>407.0</td>\n",
       "      <td>45.0</td>\n",
       "      <td>518.0</td>\n",
       "      <td>29.0</td>\n",
       "      <td>76.0</td>\n",
       "      <td>39.0</td>\n",
       "    </tr>\n",
       "    <tr>\n",
       "      <th>4</th>\n",
       "      <td>Bajhang</td>\n",
       "      <td>0.000077</td>\n",
       "      <td>0.101953</td>\n",
       "      <td>0.726490</td>\n",
       "      <td>0.113103</td>\n",
       "      <td>0.000497</td>\n",
       "      <td>0.000102</td>\n",
       "      <td>0.000277</td>\n",
       "      <td>0.0</td>\n",
       "      <td>0.002055</td>\n",
       "      <td>...</td>\n",
       "      <td>1.0</td>\n",
       "      <td>90.0</td>\n",
       "      <td>4.0</td>\n",
       "      <td>162.0</td>\n",
       "      <td>1312.0</td>\n",
       "      <td>196.0</td>\n",
       "      <td>1178.0</td>\n",
       "      <td>253.0</td>\n",
       "      <td>44.0</td>\n",
       "      <td>178.0</td>\n",
       "    </tr>\n",
       "  </tbody>\n",
       "</table>\n",
       "<p>5 rows × 76 columns</p>\n",
       "</div>"
      ],
      "text/plain": [
       "     Unnamed: 0  Foreigner  Hill Brahman  Hill Chhetree  Hill Dalit  \\\n",
       "0        Achham   0.000000      0.102036       0.581749    0.135158   \n",
       "1  Arghakhanchi   0.000000      0.327665       0.193248    0.209020   \n",
       "2       Baglung   0.000045      0.195385       0.205601    0.263230   \n",
       "3       Baitadi   0.000052      0.185498       0.603899    0.083153   \n",
       "4       Bajhang   0.000077      0.101953       0.726490    0.113103   \n",
       "\n",
       "   Madhesi Brahman/Chhetree  Madhesi Dalit  Madhesi Other - OC A  \\\n",
       "0                  0.000101       0.000000              0.004921   \n",
       "1                  0.001604       0.000066              0.001058   \n",
       "2                  0.001165       0.000000              0.000927   \n",
       "3                  0.001610       0.000128              0.052499   \n",
       "4                  0.000497       0.000102              0.000277   \n",
       "\n",
       "   Madhesi Other - OC B  Mtn/Hill Janajati A    ...      Tetanus  \\\n",
       "0                   0.0             0.006921    ...          0.0   \n",
       "1                   0.0             0.193349    ...          0.0   \n",
       "2                   0.0             0.308176    ...          4.0   \n",
       "3                   0.0             0.003870    ...          6.0   \n",
       "4                   0.0             0.002055    ...          1.0   \n",
       "\n",
       "   Tuberculosis  Whooping cough  Alcoholism  Anxiety (Neurosis  \\\n",
       "0          62.0            16.0       189.0             2202.0   \n",
       "1          47.0             0.0       206.0             1597.0   \n",
       "2          40.0             0.0       600.0             3769.0   \n",
       "3         141.0             1.0       125.0              407.0   \n",
       "4          90.0             4.0       162.0             1312.0   \n",
       "\n",
       "   Conversive disorder\\n(Hysteria)  Depression  Epilesy  Mental retardation  \\\n",
       "0                            281.0      1925.0   1118.0                69.0   \n",
       "1                            112.0      1544.0    124.0                78.0   \n",
       "2                            221.0      1695.0    386.0               349.0   \n",
       "3                             45.0       518.0     29.0                76.0   \n",
       "4                            196.0      1178.0    253.0                44.0   \n",
       "\n",
       "   Psychosis  \n",
       "0      413.0  \n",
       "1      137.0  \n",
       "2      429.0  \n",
       "3       39.0  \n",
       "4      178.0  \n",
       "\n",
       "[5 rows x 76 columns]"
      ]
     },
     "execution_count": 16,
     "metadata": {},
     "output_type": "execute_result"
    }
   ],
   "source": [
    "test.head()"
   ]
  }
 ],
 "metadata": {
  "kernelspec": {
   "display_name": "Python 2",
   "language": "python",
   "name": "python2"
  },
  "language_info": {
   "codemirror_mode": {
    "name": "ipython",
    "version": 2
   },
   "file_extension": ".py",
   "mimetype": "text/x-python",
   "name": "python",
   "nbconvert_exporter": "python",
   "pygments_lexer": "ipython2",
   "version": "2.7.12"
  }
 },
 "nbformat": 4,
 "nbformat_minor": 1
}

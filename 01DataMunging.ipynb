{
 "cells": [
  {
   "cell_type": "markdown",
   "metadata": {},
   "source": [
    "# Setup \n",
    "## Update Data Directory"
   ]
  },
  {
   "cell_type": "code",
   "execution_count": 6,
   "metadata": {
    "collapsed": true
   },
   "outputs": [],
   "source": [
    "# Update Data/ directory.\n",
    "%run ./DownloadData.py"
   ]
  },
  {
   "cell_type": "markdown",
   "metadata": {},
   "source": [
    "## Imports"
   ]
  },
  {
   "cell_type": "code",
   "execution_count": 7,
   "metadata": {
    "collapsed": true
   },
   "outputs": [],
   "source": [
    "import os\n",
    "import numpy as np\n",
    "import pandas as pd"
   ]
  },
  {
   "cell_type": "markdown",
   "metadata": {},
   "source": [
    "## Load DataFrames"
   ]
  },
  {
   "cell_type": "code",
   "execution_count": 8,
   "metadata": {
    "collapsed": false
   },
   "outputs": [
    {
     "name": "stdout",
     "output_type": "stream",
     "text": [
      "['caste', 'caste_grouped', 'communicabledisease1', 'communicabledisease2', 'hdi2011', 'mentalhealth', 'poverty1', 'poverty2', 'sexratio', 'vaccinations', 'watersanitaion']\n"
     ]
    }
   ],
   "source": [
    "df = {}\n",
    "for data in os.listdir('Data/'):\n",
    "    if data.endswith('.csv'):\n",
    "        df[data[:-4]] = pd.read_csv('Data/' + data)\n",
    "print sorted(df.keys())"
   ]
  },
  {
   "cell_type": "markdown",
   "metadata": {},
   "source": [
    "# Create DataFrames\n",
    "## caste_percent\n",
    "This DataFrame summarizes the percent of the population belonging to each caste by district."
   ]
  },
  {
   "cell_type": "code",
   "execution_count": 9,
   "metadata": {
    "collapsed": false
   },
   "outputs": [],
   "source": [
    "series = []\n",
    "totalpop = {}\n",
    "for district in df['caste']['District'].unique():\n",
    "    caste = df['caste'][(df['caste']['District'] == district)].groupby('Caste/Ethnicity').sum()['In number']\n",
    "    if district == 'Darchula':\n",
    "        district = 'Darchaula'\n",
    "    if district == 'Kavrepalanchok':\n",
    "        district = 'Kavre'\n",
    "    series.append((100.0 * (caste / caste.sum())).rename(district))\n",
    "    totalpop[district] = caste.sum()\n",
    "\n",
    "df['caste_percent'] = pd.DataFrame(series).fillna(0)\n",
    "df['caste_percent']['Tot_Pop'] = pd.Series(totalpop).rename('Total_Population')\n",
    "df['caste_percent'].to_csv('Data/caste_percent.csv')"
   ]
  },
  {
   "cell_type": "code",
   "execution_count": 10,
   "metadata": {
    "collapsed": false
   },
   "outputs": [],
   "source": [
    "caste = pd.read_csv('Data/caste.csv')\n",
    "sg = {'Brahman - Hill':'Hill Brahman', 'Chhetree':'Hill Chhetree', 'Thakuri':'Hill Chhetree', \\\n",
    "      'Dashnami/Sanyasi':'Hill Chhetree', 'Brahman - Tarai':'Madhesi Brahman/Chhetree', \\\n",
    "     'Kayastha':'Madhesi Brahman/Chhetree', 'Rajput':'Madhesi Brahman/Chhetree', 'Amat':'Madhesi Other - OC A', \\\n",
    "     'Badhaee':'Madhesi Other - OC A', 'Baraee':'Madhesi Other - OC A', 'Dev':'Madhesi Other - OC A', \\\n",
    "     'Gaderi/Bhedhar':'Madhesi Other - OC A', 'Hajam/Thakur':'Madhesi Other - OC A', \\\n",
    "     'Haluwai':'Madhesi Other - OC A', 'Kalar':'Madhesi Other - OC A', 'Kalwar':'Madhesi Other - OC A', \\\n",
    "     'Kamar':'Madhesi Other - OC A', 'Kathbaniyan':'Madhesi Other - OC A', 'Koiri/Kushwaha':'Madhesi Other - OC A', \\\n",
    "     'Kurmi':'Madhesi Other - OC A', 'Lohar':'Madhesi Other - OC A', 'Rajbhar':'Madhesi Other - OC A', \\\n",
    "     'Rajdhob':'Madhesi Other - OC A', 'Sonar':'Madhesi Other - OC A', 'Sudhi':'Madhesi Other - OC A', 'Kanu':'Madhesi Other - OC A', \\\n",
    "     'Teli':'Madhesi Other - OC A', 'Yadav':'Madhesi Other - OC A', 'Bin':'Madhesi Other - OC B', \\\n",
    "     'Dhandi':'Madhesi Other - OC B', 'Dhankar/Kharikar':'Madhesi Other - OC B', 'Dhunia':'Madhesi Other - OC B', \\\n",
    "     'Kahar':'Madhesi Other - OC B', 'Kewat':'Madhesi Other - OC B', 'Kori':'Madhesi Other - OC B', \\\n",
    "     'Kumhar':'Madhesi Other - OC B', 'Lodh':'Madhesi Other - OC B', 'Mali':'Madhesi Other - OC B', \\\n",
    "     'Mallaha':'Madhesi Other - OC B', 'Natuwa':'Madhesi Other - OC B', 'Nuniya':'Madhesi Other - OC B', \\\n",
    "     'Nurang':'Madhesi Other - OC B', 'Sarbaria':'Madhesi Other - OC B', 'Badi': 'Hill Dalit', \\\n",
    "     'Damai/Dholi':'Hill Dalit', 'Gaine':'Hill Dalit', 'Kami':'Hill Dalit', 'Sarki':'Hill Dalit', \\\n",
    "     'Bantar/Sardar':'Madhesi Dalit', 'Chamar/Harijan/Ram':'Madhesi Dalit', 'Chidimar':'Madhesi Dalit', \\\n",
    "     'Dhobi':'Madhesi Dalit', 'Dom':'Madhesi Dalit', 'Dusadh/Pasawan/Pasi':'Madhesi Dalit', \\\n",
    "     'Halkhor':'Madhesi Dalit', 'Khatwe':'Madhesi Dalit', 'Musahar':'Madhesi Dalit', 'Tatma/Tatwa':'Madhesi Dalit', \\\n",
    "     'Newar':'Newar', 'Sherpa':'Mtn/Hill Janajati A', 'Yakkha':'Mtn/Hill Janajati A', 'Jirel':'Mtn/Hill Janajati A', \\\n",
    "     'Kulung':'Mtn/Hill Janajati A', 'Yamphu':'Mtn/Hill Janajati A', 'Mewahang':'Mtn/Hill Janajati A', \\\n",
    "     'Gharti/Bhujel':'Mtn/Hill Janajati A', 'Khaling':'Mtn/Hill Janajati A', 'Darai':'Mtn/Hill Janajati A', \\\n",
    "     'Magar':'Mtn/Hill Janajati A', 'Chhantyal/Chhantel':'Mtn/Hill Janajati A', 'Aathpariya':'Mtn/Hill Janajati A', \\\n",
    "     'Bahing':'Mtn/Hill Janajati A', 'Rai':'Mtn/Hill Janajati A', 'Thulung':'Mtn/Hill Janajati A', \\\n",
    "     'Gurung':'Mtn/Hill Janajati A', 'Limbu':'Mtn/Hill Janajati A', 'Lepcha':'Mtn/Hill Janajati A', \\\n",
    "     'Sampang':'Mtn/Hill Janajati A', 'Dura':'Mtn/Hill Janajati A', 'Chamling':'Mtn/Hill Janajati A', \\\n",
    "     'Bantaba':'Mtn/Hill Janajati A', 'Loharung':'Mtn/Hill Janajati A', 'Thakali':'Mtn/Hill Janajati A', \\\n",
    "     'Bhote':'Mtn/Hill Janajati B', 'Bote':'Mtn/Hill Janajati B', 'Brahmu/Baramo':'Mtn/Hill Janajati B', \\\n",
    "     'Byasi/Sauka':'Mtn/Hill Janajati B', 'Chepang/Praja':'Mtn/Hill Janajati B', 'Danuwar':'Mtn/Hill Janajati B', \\\n",
    "     'Dolpo':'Mtn/Hill Janajati B', 'Ghale':'Mtn/Hill Janajati B', 'Hayu':'Mtn/Hill Janajati B', 'Hyolmo':'Mtn/Hill Janajati B', \\\n",
    "     'Kumal':'Mtn/Hill Janajati B', 'Kusunda':'Mtn/Hill Janajati B', 'Lhomi':'Mtn/Hill Janajati B', \\\n",
    "     'Lhopa':'Mtn/Hill Janajati B', 'Majhi':'Mtn/Hill Janajati B', 'Nachhiring':'Mtn/Hill Janajati B', \\\n",
    "     'Pahari':'Mtn/Hill Janajati B', 'Raji':'Mtn/Hill Janajati B', 'Raute':'Mtn/Hill Janajati B', \\\n",
    "     'Sunuwar':'Mtn/Hill Janajati B', 'Tamang':'Mtn/Hill Janajati B', 'Thami':'Mtn/Hill Janajati B', \\\n",
    "     'Topkegola':'Mtn/Hill Janajati B', 'Walung':'Mtn/Hill Janajati B', 'Dhanuk':'Tarai Janajati', \\\n",
    "     'Dhimal':'Tarai Janajati', 'Gangai':'Tarai Janajati', 'Jhangad/Dhagar':'Tarai Janajati', 'Kisan':'Tarai Janajati', \\\n",
    "     'Koche':'Tarai Janajati', 'Meche':'Tarai Janajati', 'Munda':'Tarai Janajati', 'Pattharkatta/Kushwadiya':'Tarai Janajati', \\\n",
    "     'Rajbansi':'Tarai Janajati', 'Satar/Santhal':'Tarai Janajati', 'Tajpuriya':'Tarai Janajati', 'Tharu':'Tarai Janajati', \\\n",
    "     'Musalman':'Musalman', 'Marwadi':'Other (MPB)', 'Punjabi/Shikh':'Other (MPB)', 'Bangali':'Other (MPB)', \\\n",
    "     'Dalit Others':'Other undefined', 'Janajati Others':'Other undefined', 'Undefined Others':'Other undefined', \\\n",
    "     'Terai Others':'Other undefined', 'Others':'Other undefined', 'Foreigner':'Foreigner', 'Khawas':'Other undefined'}\n",
    "caste['social_groups'] = caste['Caste/Ethnicity'].map(sg)\n",
    "grouped = pd.DataFrame()\n",
    "grouped['district'] = caste['District']\n",
    "grouped['unique'] = caste['social_groups']\n",
    "grouped['number'] = caste['In number']\n",
    "grouped = pd.DataFrame(grouped['number'].groupby([grouped['district'], grouped['unique']]).sum())\n",
    "grouped = grouped.reset_index()\n",
    "grouped = grouped.pivot(index='district', columns='unique', values='number')\n",
    "grouped = grouped.reset_index()\n",
    "grouped = grouped.fillna(0)\n",
    "grouped['Total Pop Census'] = grouped.sum(axis=1)\n",
    "grouped.iloc[:,[1, 2, 3, 4, 5, 6, 7, 8, 9, 10, 11, 12, 13, 14, 15]] = \\\n",
    "   grouped.iloc[:,[1, 2, 3, 4, 5, 6, 7, 8, 9, 10, 11, 12, 13, 14, 15]].div(grouped['Total Pop Census'],axis=0)\n",
    "grouped.to_csv('Data/caste_grouped.csv')"
   ]
  },
  {
   "cell_type": "markdown",
   "metadata": {},
   "source": [
    "## Poverty"
   ]
  },
  {
   "cell_type": "code",
   "execution_count": 11,
   "metadata": {
    "collapsed": false
   },
   "outputs": [],
   "source": [
    "poverty = df['poverty1'][df['poverty1']['Year AD'] == 2011]\n",
    "series = []\n",
    "for district in poverty['District'].unique():\n",
    "    indicators = poverty[(poverty['District'] == district)].groupby('Indicators').sum()['Value']\n",
    "    series.append(indicators.rename(district).T)\n",
    "\n",
    "df['poverty1T'] = pd.DataFrame(series)\n",
    "df['poverty1T'].to_csv('Data/poverty1T.csv')\n",
    "\n",
    "series = []\n",
    "poverty = df['poverty2']\n",
    "\n",
    "for district in poverty['District'].unique():\n",
    "    subgroups = poverty[(poverty['District'] == district)].groupby('Sub Group').sum()['Value']\n",
    "    series.append(subgroups.rename(district).T)\n",
    "\n",
    "df['poverty2T'] = pd.DataFrame(series)\n",
    "df['poverty2T'].to_csv('Data/poverty2T.csv')"
   ]
  },
  {
   "cell_type": "markdown",
   "metadata": {},
   "source": [
    "## vaccinationsT"
   ]
  },
  {
   "cell_type": "code",
   "execution_count": 12,
   "metadata": {
    "collapsed": false
   },
   "outputs": [],
   "source": [
    "vacc = df['vaccinations'][df['vaccinations']['Year AD'] == '2011/12']\n",
    "series = []\n",
    "\n",
    "for district in vacc['District'].unique():\n",
    "    vaccines = vacc[vacc['District'] == district].groupby('Vaccines').sum()\n",
    "    vaccines.columns = [district]\n",
    "    series.append(vaccines.T.ix[0])\n",
    "    \n",
    "df['vaccinationsT'] = pd.DataFrame(series)\n",
    "df['vaccinationsT'].to_csv('Data/vaccinationsT.csv')"
   ]
  },
  {
   "cell_type": "markdown",
   "metadata": {
    "collapsed": true
   },
   "source": [
    "## watersanitationT"
   ]
  },
  {
   "cell_type": "code",
   "execution_count": 13,
   "metadata": {
    "collapsed": false
   },
   "outputs": [],
   "source": [
    "df['watersanitaion']\n",
    "series = []\n",
    "\n",
    "for district in df['watersanitaion']['Districts'].unique():\n",
    "    sani = df['watersanitaion'][df['watersanitaion']['Districts'] == district].groupby('Sub group').sum()\n",
    "    sani.columns = [district]\n",
    "    series.append(sani.T.ix[0])\n",
    "df['watersanitationT'] = pd.DataFrame(series)\n",
    "df['watersanitationT'].to_csv('Data/watersanitationT.csv')"
   ]
  },
  {
   "cell_type": "markdown",
   "metadata": {},
   "source": [
    "## mentalhealthT"
   ]
  },
  {
   "cell_type": "code",
   "execution_count": 14,
   "metadata": {
    "collapsed": false
   },
   "outputs": [],
   "source": [
    "mh = df['mentalhealth']\n",
    "series = []\n",
    "\n",
    "for district in mh['District'].unique():\n",
    "    mental = mh[mh['District'] == district].groupby('Mental problem').sum()\n",
    "    mental.columns = [district]\n",
    "    series.append(mental.T.ix[0])\n",
    "\n",
    "df['mentalhealthT'] = pd.DataFrame(series)\n",
    "df['mentalhealthT'].to_csv('Data/mentalhealthT.csv')"
   ]
  },
  {
   "cell_type": "markdown",
   "metadata": {},
   "source": [
    "## Communicable Disease"
   ]
  },
  {
   "cell_type": "code",
   "execution_count": 15,
   "metadata": {
    "collapsed": false
   },
   "outputs": [],
   "source": [
    "cd1 = df['communicabledisease1'][df['communicabledisease1']['Year AD'] == '2011/12']\n",
    "series = []\n",
    "\n",
    "for district in cd1['District'].unique():\n",
    "    disease1 = cd1[cd1['District'] == district].groupby('Communicable Diseases').sum()\n",
    "    disease1.columns = [district]\n",
    "    series.append(disease1.T.ix[0])\n",
    "\n",
    "df['communicabledisease1T'] = pd.DataFrame(series)\n",
    "df['communicabledisease1T'].to_csv('Data/communicabledisease1T.csv')\n",
    "\n",
    "cd2 = df['communicabledisease2'][df['communicabledisease2']['Year AD'] == '2011/12']\n",
    "series = []\n",
    "\n",
    "for district in cd2['District'].unique():\n",
    "    disease2 = cd2[cd2['District'] == district].groupby('Diseases').sum()\n",
    "    disease2.columns = [district]\n",
    "    series.append(disease2.T.ix[0])\n",
    "\n",
    "df['communicabledisease2T'] = pd.DataFrame(series)\n",
    "df['communicabledisease2T'].to_csv('Data/communicabledisease2T.csv')"
   ]
  },
  {
   "cell_type": "code",
   "execution_count": 16,
   "metadata": {
    "collapsed": false
   },
   "outputs": [
    {
     "name": "stdout",
     "output_type": "stream",
     "text": [
      "['caste', 'caste_grouped', 'caste_percent', 'communicabledisease1', 'communicabledisease1T', 'communicabledisease2', 'communicabledisease2T', 'hdi2011', 'mentalhealth', 'mentalhealthT', 'poverty1', 'poverty1T', 'poverty2', 'poverty2T', 'sexratio', 'vaccinations', 'vaccinationsT', 'watersanitaion', 'watersanitationT']\n"
     ]
    }
   ],
   "source": [
    "print sorted(df.keys())"
   ]
  },
  {
   "cell_type": "code",
   "execution_count": 17,
   "metadata": {
    "collapsed": false
   },
   "outputs": [],
   "source": [
    "df['hdi2011'] = df['hdi2011'].set_index(['District '])\n",
    "df['sexratio'] = df['sexratio'].set_index('District ')\n",
    "\n",
    "pd.concat([grouped, df['poverty1T'], df['poverty2T'],\n",
    "           df['vaccinationsT'], df['watersanitationT'], df['hdi2011'],\n",
    "           df['sexratio'], df['communicabledisease1T'], df['communicabledisease2T'],\n",
    "           df['mentalhealthT'],], axis=1).to_csv('Data/master.csv')"
   ]
  },
  {
   "cell_type": "code",
   "execution_count": null,
   "metadata": {
    "collapsed": true
   },
   "outputs": [],
   "source": []
  }
 ],
 "metadata": {
  "kernelspec": {
   "display_name": "Python 2",
   "language": "python",
   "name": "python2"
  },
  "language_info": {
   "codemirror_mode": {
    "name": "ipython",
    "version": 2
   },
   "file_extension": ".py",
   "mimetype": "text/x-python",
   "name": "python",
   "nbconvert_exporter": "python",
   "pygments_lexer": "ipython2",
   "version": "2.7.12"
  }
 },
 "nbformat": 4,
 "nbformat_minor": 1
}

{
 "cells": [
  {
   "cell_type": "markdown",
   "metadata": {},
   "source": [
    "# Setup \n",
    "## Update Data Directory"
   ]
  },
  {
   "cell_type": "code",
   "execution_count": 1,
   "metadata": {
    "collapsed": true
   },
   "outputs": [],
   "source": [
    "# # Update Data/ directory.\n",
    "# %run ./DownloadData.py"
   ]
  },
  {
   "cell_type": "markdown",
   "metadata": {},
   "source": [
    "## Imports"
   ]
  },
  {
   "cell_type": "code",
   "execution_count": 1,
   "metadata": {
    "collapsed": true
   },
   "outputs": [],
   "source": [
    "import os\n",
    "import numpy as np\n",
    "import pandas as pd"
   ]
  },
  {
   "cell_type": "markdown",
   "metadata": {},
   "source": [
    "## Load DataFrames"
   ]
  },
  {
   "cell_type": "code",
   "execution_count": 2,
   "metadata": {
    "collapsed": false
   },
   "outputs": [
    {
     "name": "stdout",
     "output_type": "stream",
     "text": [
      "['caste', 'caste_grouped', 'caste_percent', 'communicabledisease1', 'communicabledisease1T', 'communicabledisease1_2009T', 'communicabledisease1_2011T', 'communicabledisease1_2013T', 'communicabledisease2', 'communicabledisease2T', 'communicabledisease2_2009T', 'communicabledisease2_2011T', 'hdi2011', 'master', 'master0911', 'master0913', 'master_updated', 'mentalhealth', 'mentalhealthT', 'mentalhealth_2009T', 'mentalhealth_2011T', 'mentalhealth_2013T', 'poverty1', 'poverty1T', 'poverty2', 'poverty2T', 'sexratio', 'simplified_master', 'simplified_master0911', 'simplified_master0913', 'vaccinations', 'vaccinationsT', 'vaccinations_2009T', 'vaccinations_2011T', 'vaccinations_2013T', 'watersanitaion', 'watersanitationT']\n"
     ]
    }
   ],
   "source": [
    "df = {}\n",
    "for data in os.listdir('Data/'):\n",
    "    if data.endswith('.csv'):\n",
    "        df[data[:-4]] = pd.read_csv('Data/' + data)\n",
    "print sorted(df.keys())"
   ]
  },
  {
   "cell_type": "markdown",
   "metadata": {},
   "source": [
    "# Create DataFrames\n",
    "## caste_percent\n",
    "This DataFrame summarizes the percent of the population belonging to each caste by district."
   ]
  },
  {
   "cell_type": "code",
   "execution_count": 3,
   "metadata": {
    "collapsed": false
   },
   "outputs": [],
   "source": [
    "series = []\n",
    "totalpop = {}\n",
    "for district in df['caste']['District'].unique():\n",
    "    caste = df['caste'][(df['caste']['District'] == district)].groupby('Caste/Ethnicity').sum()['In number']\n",
    "    if district == 'Darchula':\n",
    "        district = 'Darchaula'\n",
    "    if district == 'Kavrepalanchok':\n",
    "        district = 'Kavre'\n",
    "    series.append((100.0 * (caste / caste.sum())).rename(district))\n",
    "    totalpop[district] = caste.sum()\n",
    "\n",
    "df['caste_percent'] = pd.DataFrame(series).fillna(0)\n",
    "df['caste_percent']['Tot_Pop'] = pd.Series(totalpop).rename('Total_Population')\n",
    "df['caste_percent'].to_csv('Data/caste_percent.csv')"
   ]
  },
  {
   "cell_type": "code",
   "execution_count": 4,
   "metadata": {
    "collapsed": false
   },
   "outputs": [],
   "source": [
    "caste = pd.read_csv('Data/caste.csv')\n",
    "sg = {'Brahman - Hill':'Hill Brahman', 'Chhetree':'Hill Chhetree', 'Thakuri':'Hill Chhetree', \\\n",
    "      'Dashnami/Sanyasi':'Hill Chhetree', 'Brahman - Tarai':'Madhesi Brahman/Chhetree', \\\n",
    "     'Kayastha':'Madhesi Brahman/Chhetree', 'Rajput':'Madhesi Brahman/Chhetree', 'Amat':'Madhesi Other - OC A', \\\n",
    "     'Badhaee':'Madhesi Other - OC A', 'Baraee':'Madhesi Other - OC A', 'Dev':'Madhesi Other - OC A', \\\n",
    "     'Gaderi/Bhedhar':'Madhesi Other - OC A', 'Hajam/Thakur':'Madhesi Other - OC A', \\\n",
    "     'Haluwai':'Madhesi Other - OC A', 'Kalar':'Madhesi Other - OC A', 'Kalwar':'Madhesi Other - OC A', \\\n",
    "     'Kamar':'Madhesi Other - OC A', 'Kathbaniyan':'Madhesi Other - OC A', 'Koiri/Kushwaha':'Madhesi Other - OC A', \\\n",
    "     'Kurmi':'Madhesi Other - OC A', 'Lohar':'Madhesi Other - OC A', 'Rajbhar':'Madhesi Other - OC A', \\\n",
    "     'Rajdhob':'Madhesi Other - OC A', 'Sonar':'Madhesi Other - OC A', 'Sudhi':'Madhesi Other - OC A', 'Kanu':'Madhesi Other - OC A', \\\n",
    "     'Teli':'Madhesi Other - OC A', 'Yadav':'Madhesi Other - OC A', 'Bin':'Madhesi Other - OC B', \\\n",
    "     'Dhandi':'Madhesi Other - OC B', 'Dhankar/Kharikar':'Madhesi Other - OC B', 'Dhunia':'Madhesi Other - OC B', \\\n",
    "     'Kahar':'Madhesi Other - OC B', 'Kewat':'Madhesi Other - OC B', 'Kori':'Madhesi Other - OC B', \\\n",
    "     'Kumhar':'Madhesi Other - OC B', 'Lodh':'Madhesi Other - OC B', 'Mali':'Madhesi Other - OC B', \\\n",
    "     'Mallaha':'Madhesi Other - OC B', 'Natuwa':'Madhesi Other - OC B', 'Nuniya':'Madhesi Other - OC B', \\\n",
    "     'Nurang':'Madhesi Other - OC B', 'Sarbaria':'Madhesi Other - OC B', 'Badi': 'Hill Dalit', \\\n",
    "     'Damai/Dholi':'Hill Dalit', 'Gaine':'Hill Dalit', 'Kami':'Hill Dalit', 'Sarki':'Hill Dalit', \\\n",
    "     'Bantar/Sardar':'Madhesi Dalit', 'Chamar/Harijan/Ram':'Madhesi Dalit', 'Chidimar':'Madhesi Dalit', \\\n",
    "     'Dhobi':'Madhesi Dalit', 'Dom':'Madhesi Dalit', 'Dusadh/Pasawan/Pasi':'Madhesi Dalit', \\\n",
    "     'Halkhor':'Madhesi Dalit', 'Khatwe':'Madhesi Dalit', 'Musahar':'Madhesi Dalit', 'Tatma/Tatwa':'Madhesi Dalit', \\\n",
    "     'Newar':'Newar', 'Sherpa':'Mtn/Hill Janajati A', 'Yakkha':'Mtn/Hill Janajati A', 'Jirel':'Mtn/Hill Janajati A', \\\n",
    "     'Kulung':'Mtn/Hill Janajati A', 'Yamphu':'Mtn/Hill Janajati A', 'Mewahang':'Mtn/Hill Janajati A', \\\n",
    "     'Gharti/Bhujel':'Mtn/Hill Janajati A', 'Khaling':'Mtn/Hill Janajati A', 'Darai':'Mtn/Hill Janajati A', \\\n",
    "     'Magar':'Mtn/Hill Janajati A', 'Chhantyal/Chhantel':'Mtn/Hill Janajati A', 'Aathpariya':'Mtn/Hill Janajati A', \\\n",
    "     'Bahing':'Mtn/Hill Janajati A', 'Rai':'Mtn/Hill Janajati A', 'Thulung':'Mtn/Hill Janajati A', \\\n",
    "     'Gurung':'Mtn/Hill Janajati A', 'Limbu':'Mtn/Hill Janajati A', 'Lepcha':'Mtn/Hill Janajati A', \\\n",
    "     'Sampang':'Mtn/Hill Janajati A', 'Dura':'Mtn/Hill Janajati A', 'Chamling':'Mtn/Hill Janajati A', \\\n",
    "     'Bantaba':'Mtn/Hill Janajati A', 'Loharung':'Mtn/Hill Janajati A', 'Thakali':'Mtn/Hill Janajati A', \\\n",
    "     'Bhote':'Mtn/Hill Janajati B', 'Bote':'Mtn/Hill Janajati B', 'Brahmu/Baramo':'Mtn/Hill Janajati B', \\\n",
    "     'Byasi/Sauka':'Mtn/Hill Janajati B', 'Chepang/Praja':'Mtn/Hill Janajati B', 'Danuwar':'Mtn/Hill Janajati B', \\\n",
    "     'Dolpo':'Mtn/Hill Janajati B', 'Ghale':'Mtn/Hill Janajati B', 'Hayu':'Mtn/Hill Janajati B', 'Hyolmo':'Mtn/Hill Janajati B', \\\n",
    "     'Kumal':'Mtn/Hill Janajati B', 'Kusunda':'Mtn/Hill Janajati B', 'Lhomi':'Mtn/Hill Janajati B', \\\n",
    "     'Lhopa':'Mtn/Hill Janajati B', 'Majhi':'Mtn/Hill Janajati B', 'Nachhiring':'Mtn/Hill Janajati B', \\\n",
    "     'Pahari':'Mtn/Hill Janajati B', 'Raji':'Mtn/Hill Janajati B', 'Raute':'Mtn/Hill Janajati B', \\\n",
    "     'Sunuwar':'Mtn/Hill Janajati B', 'Tamang':'Mtn/Hill Janajati B', 'Thami':'Mtn/Hill Janajati B', \\\n",
    "     'Topkegola':'Mtn/Hill Janajati B', 'Walung':'Mtn/Hill Janajati B', 'Dhanuk':'Tarai Janajati', \\\n",
    "     'Dhimal':'Tarai Janajati', 'Gangai':'Tarai Janajati', 'Jhangad/Dhagar':'Tarai Janajati', 'Kisan':'Tarai Janajati', \\\n",
    "     'Koche':'Tarai Janajati', 'Meche':'Tarai Janajati', 'Munda':'Tarai Janajati', 'Pattharkatta/Kushwadiya':'Tarai Janajati', \\\n",
    "     'Rajbansi':'Tarai Janajati', 'Satar/Santhal':'Tarai Janajati', 'Tajpuriya':'Tarai Janajati', 'Tharu':'Tarai Janajati', \\\n",
    "     'Musalman':'Musalman', 'Marwadi':'Other (MPB)', 'Punjabi/Shikh':'Other (MPB)', 'Bangali':'Other (MPB)', \\\n",
    "     'Dalit Others':'Other undefined', 'Janajati Others':'Other undefined', 'Undefined Others':'Other undefined', \\\n",
    "     'Terai Others':'Other undefined', 'Others':'Other undefined', 'Foreigner':'Foreigner', 'Khawas':'Other undefined'}\n",
    "caste['social_groups'] = caste['Caste/Ethnicity'].map(sg)\n",
    "grouped = pd.DataFrame()\n",
    "grouped['district'] = caste['District']\n",
    "grouped['unique'] = caste['social_groups']\n",
    "grouped['number'] = caste['In number']\n",
    "grouped = pd.DataFrame(grouped['number'].groupby([grouped['district'], grouped['unique']]).sum())\n",
    "grouped = grouped.reset_index()\n",
    "grouped = grouped.pivot(index='district', columns='unique', values='number')\n",
    "grouped = grouped.reset_index()\n",
    "grouped = grouped.fillna(0)\n",
    "grouped['Total Pop Census'] = grouped.sum(axis=1)\n",
    "grouped.iloc[:,[1, 2, 3, 4, 5, 6, 7, 8, 9, 10, 11, 12, 13, 14, 15]] = \\\n",
    "   grouped.iloc[:,[1, 2, 3, 4, 5, 6, 7, 8, 9, 10, 11, 12, 13, 14, 15]].div(grouped['Total Pop Census'],axis=0)\n",
    "grouped = grouped.set_index('district')\n",
    "grouped.index = grouped.index.rename('District ')\n",
    "grouped.to_csv('Data/caste_grouped.csv')"
   ]
  },
  {
   "cell_type": "markdown",
   "metadata": {},
   "source": [
    "## Poverty"
   ]
  },
  {
   "cell_type": "code",
   "execution_count": 5,
   "metadata": {
    "collapsed": false
   },
   "outputs": [],
   "source": [
    "poverty = df['poverty1'][df['poverty1']['Year AD'] == 2011]\n",
    "series = []\n",
    "for district in poverty['District'].unique():\n",
    "    indicators = poverty[(poverty['District'] == district)].groupby('Indicators').sum()['Value']\n",
    "    series.append(indicators.rename(district).T)\n",
    "\n",
    "df['poverty1T'] = pd.DataFrame(series)\n",
    "df['poverty1T'].to_csv('Data/poverty1T.csv')\n",
    "\n",
    "series = []\n",
    "poverty = df['poverty2']\n",
    "\n",
    "for district in poverty['District'].unique():\n",
    "    subgroups = poverty[(poverty['District'] == district)].groupby('Sub Group').sum()['Value']\n",
    "    series.append(subgroups.rename(district).T)\n",
    "\n",
    "df['poverty2T'] = pd.DataFrame(series)\n",
    "df['poverty2T'].to_csv('Data/poverty2T.csv')"
   ]
  },
  {
   "cell_type": "markdown",
   "metadata": {},
   "source": [
    "## vaccinationsT"
   ]
  },
  {
   "cell_type": "code",
   "execution_count": 6,
   "metadata": {
    "collapsed": true
   },
   "outputs": [],
   "source": [
    "vacc = df['vaccinations'][df['vaccinations']['Year AD'] == '2009/10']\n",
    "series = []\n",
    "\n",
    "for district in vacc['District'].unique():\n",
    "    vaccines = vacc[vacc['District'] == district].groupby('Vaccines').sum()\n",
    "    vaccines.columns = [district]\n",
    "    series.append(vaccines.T.ix[0])\n",
    "    \n",
    "df['vaccinations_2009T'] = pd.DataFrame(series)\n",
    "df['vaccinations_2009T'].to_csv('Data/vaccinations_2009T.csv')"
   ]
  },
  {
   "cell_type": "code",
   "execution_count": 7,
   "metadata": {
    "collapsed": false
   },
   "outputs": [],
   "source": [
    "vacc = df['vaccinations'][df['vaccinations']['Year AD'] == '2011/12']\n",
    "series = []\n",
    "\n",
    "for district in vacc['District'].unique():\n",
    "    vaccines = vacc[vacc['District'] == district].groupby('Vaccines').sum()\n",
    "    vaccines.columns = [district]\n",
    "    series.append(vaccines.T.ix[0])\n",
    "    \n",
    "df['vaccinations_2011T'] = pd.DataFrame(series)\n",
    "df['vaccinations_2011T'].to_csv('Data/vaccinations_2011T.csv')"
   ]
  },
  {
   "cell_type": "code",
   "execution_count": 8,
   "metadata": {
    "collapsed": true
   },
   "outputs": [],
   "source": [
    "vacc = df['vaccinations'][df['vaccinations']['Year AD'] == '2013/14']\n",
    "series = []\n",
    "\n",
    "for district in vacc['District'].unique():\n",
    "    vaccines = vacc[vacc['District'] == district].groupby('Vaccines').sum()\n",
    "    vaccines.columns = [district]\n",
    "    series.append(vaccines.T.ix[0])\n",
    "    \n",
    "df['vaccinations_2013T'] = pd.DataFrame(series)\n",
    "df['vaccinations_2013T'].to_csv('Data/vaccinations_2013T.csv')"
   ]
  },
  {
   "cell_type": "markdown",
   "metadata": {
    "collapsed": true
   },
   "source": [
    "## watersanitationT"
   ]
  },
  {
   "cell_type": "code",
   "execution_count": 9,
   "metadata": {
    "collapsed": false
   },
   "outputs": [],
   "source": [
    "df['watersanitaion']\n",
    "series = []\n",
    "\n",
    "for district in df['watersanitaion']['Districts'].unique():\n",
    "    sani = df['watersanitaion'][df['watersanitaion']['Districts'] == district].groupby('Sub group').sum()\n",
    "    sani.columns = [district]\n",
    "    series.append(sani.T.ix[0])\n",
    "df['watersanitationT'] = pd.DataFrame(series)\n",
    "df['watersanitationT'].to_csv('Data/watersanitationT.csv')"
   ]
  },
  {
   "cell_type": "markdown",
   "metadata": {},
   "source": [
    "## mentalhealthT"
   ]
  },
  {
   "cell_type": "code",
   "execution_count": 10,
   "metadata": {
    "collapsed": true
   },
   "outputs": [],
   "source": [
    "mh = df['mentalhealth'][df['mentalhealth']['Year AD'] == '2009/10']\n",
    "series = []\n",
    "\n",
    "for district in mh['District'].unique():\n",
    "    mental = mh[mh['District'] == district].groupby('Mental problem').sum()\n",
    "    mental.columns = [district]\n",
    "    series.append(mental.T.ix[0])\n",
    "\n",
    "df['mentalhealth_2009T'] = pd.DataFrame(series)\n",
    "df['mentalhealth_2009T'].to_csv('Data/mentalhealth_2009T.csv')"
   ]
  },
  {
   "cell_type": "code",
   "execution_count": 11,
   "metadata": {
    "collapsed": false
   },
   "outputs": [],
   "source": [
    "mh = df['mentalhealth'][df['mentalhealth']['Year AD'] == '2011/12']\n",
    "series = []\n",
    "\n",
    "for district in mh['District'].unique():\n",
    "    mental = mh[mh['District'] == district].groupby('Mental problem').sum()\n",
    "    mental.columns = [district]\n",
    "    series.append(mental.T.ix[0])\n",
    "\n",
    "df['mentalhealth_2011T'] = pd.DataFrame(series)\n",
    "df['mentalhealth_2011T'].to_csv('Data/mentalhealth_2011T.csv')"
   ]
  },
  {
   "cell_type": "code",
   "execution_count": 12,
   "metadata": {
    "collapsed": true
   },
   "outputs": [],
   "source": [
    "mh = df['mentalhealth'][df['mentalhealth']['Year AD'] == '2013/14']\n",
    "series = []\n",
    "\n",
    "for district in mh['District'].unique():\n",
    "    mental = mh[mh['District'] == district].groupby('Mental problem').sum()\n",
    "    mental.columns = [district]\n",
    "    series.append(mental.T.ix[0])\n",
    "\n",
    "df['mentalhealth_2013T'] = pd.DataFrame(series)\n",
    "df['mentalhealth_2013T'].to_csv('Data/mentalhealth_2013T.csv')"
   ]
  },
  {
   "cell_type": "markdown",
   "metadata": {},
   "source": [
    "## Communicable Disease"
   ]
  },
  {
   "cell_type": "code",
   "execution_count": 13,
   "metadata": {
    "collapsed": false
   },
   "outputs": [],
   "source": [
    "cd1 = df['communicabledisease1'][df['communicabledisease1']['Year AD'] == '2009/10']\n",
    "series = []\n",
    "\n",
    "for district in cd1['District'].unique():\n",
    "    disease1 = cd1[cd1['District'] == district].groupby('Communicable Diseases').sum()\n",
    "    disease1.columns = [district]\n",
    "    series.append(disease1.T.ix[0])\n",
    "\n",
    "df['communicabledisease1_2009T'] = pd.DataFrame(series)\n",
    "df['communicabledisease1_2009T'].to_csv('Data/communicabledisease1_2009T.csv')\n",
    "\n",
    "cd2 = df['communicabledisease2'][df['communicabledisease2']['Year AD'] == '2009/10']\n",
    "series = []\n",
    "\n",
    "for district in cd2['District'].unique():\n",
    "    disease2 = cd2[cd2['District'] == district].groupby('Diseases').sum()\n",
    "    disease2.columns = [district]\n",
    "    series.append(disease2.T.ix[0])\n",
    "\n",
    "df['communicabledisease2_2009T'] = pd.DataFrame(series)\n",
    "df['communicabledisease2_2009T'].to_csv('Data/communicabledisease2_2009T.csv')"
   ]
  },
  {
   "cell_type": "code",
   "execution_count": 14,
   "metadata": {
    "collapsed": false
   },
   "outputs": [],
   "source": [
    "cd1 = df['communicabledisease1'][df['communicabledisease1']['Year AD'] == '2011/12']\n",
    "series = []\n",
    "\n",
    "for district in cd1['District'].unique():\n",
    "    disease1 = cd1[cd1['District'] == district].groupby('Communicable Diseases').sum()\n",
    "    disease1.columns = [district]\n",
    "    series.append(disease1.T.ix[0])\n",
    "\n",
    "df['communicabledisease1_2011T'] = pd.DataFrame(series)\n",
    "df['communicabledisease1_2011T'].to_csv('Data/communicabledisease1_2011T.csv')\n",
    "\n",
    "cd2 = df['communicabledisease2'][df['communicabledisease2']['Year AD'] == '2011/12']\n",
    "series = []\n",
    "\n",
    "for district in cd2['District'].unique():\n",
    "    disease2 = cd2[cd2['District'] == district].groupby('Diseases').sum()\n",
    "    disease2.columns = [district]\n",
    "    series.append(disease2.T.ix[0])\n",
    "\n",
    "df['communicabledisease2_2011T'] = pd.DataFrame(series)\n",
    "df['communicabledisease2_2011T'].to_csv('Data/communicabledisease2_2011T.csv')"
   ]
  },
  {
   "cell_type": "code",
   "execution_count": 15,
   "metadata": {
    "collapsed": true
   },
   "outputs": [],
   "source": [
    "cd1 = df['communicabledisease1'][df['communicabledisease1']['Year AD'] == '2013/14']\n",
    "series = []\n",
    "\n",
    "for district in cd1['District'].unique():\n",
    "    disease1 = cd1[cd1['District'] == district].groupby('Communicable Diseases').sum()\n",
    "    disease1.columns = [district]\n",
    "    series.append(disease1.T.ix[0])\n",
    "\n",
    "df['communicabledisease1_2013T'] = pd.DataFrame(series)\n",
    "df['communicabledisease1_2013T'].to_csv('Data/communicabledisease1_2013T.csv')"
   ]
  },
  {
   "cell_type": "code",
   "execution_count": 16,
   "metadata": {
    "collapsed": false
   },
   "outputs": [
    {
     "name": "stdout",
     "output_type": "stream",
     "text": [
      "['caste', 'caste_grouped', 'caste_percent', 'communicabledisease1', 'communicabledisease1T', 'communicabledisease1_2009T', 'communicabledisease1_2011T', 'communicabledisease1_2013T', 'communicabledisease2', 'communicabledisease2T', 'communicabledisease2_2009T', 'communicabledisease2_2011T', 'hdi2011', 'master', 'master0911', 'master0913', 'master_updated', 'mentalhealth', 'mentalhealthT', 'mentalhealth_2009T', 'mentalhealth_2011T', 'mentalhealth_2013T', 'poverty1', 'poverty1T', 'poverty2', 'poverty2T', 'sexratio', 'simplified_master', 'simplified_master0911', 'simplified_master0913', 'vaccinations', 'vaccinationsT', 'vaccinations_2009T', 'vaccinations_2011T', 'vaccinations_2013T', 'watersanitaion', 'watersanitationT']\n"
     ]
    }
   ],
   "source": [
    "print sorted(df.keys())"
   ]
  },
  {
   "cell_type": "code",
   "execution_count": 17,
   "metadata": {
    "collapsed": false
   },
   "outputs": [],
   "source": [
    "df['hdi2011'] = df['hdi2011'].set_index(['District '])\n",
    "df['sexratio'] = df['sexratio'].set_index('District ')"
   ]
  },
  {
   "cell_type": "markdown",
   "metadata": {},
   "source": [
    "# Create Master 2011-2012 Dataset"
   ]
  },
  {
   "cell_type": "code",
   "execution_count": 20,
   "metadata": {
    "collapsed": false
   },
   "outputs": [
    {
     "name": "stdout",
     "output_type": "stream",
     "text": [
      "['poverty1', 'poverty2', 'master0913', 'master0911', 'communicabledisease1_2009T', 'hdi2011', 'communicabledisease1_2013T', 'communicabledisease2T', 'communicabledisease1_2011T', 'sexratio', 'mentalhealth', 'communicabledisease2_2009T', 'simplified_master0911', 'simplified_master0913', 'master', 'watersanitaion', 'poverty2T', 'mentalhealth_2009T', 'vaccinations_2009T', 'poverty1T', 'simplified_master', 'communicabledisease2', 'communicabledisease1', 'caste_percent', 'master_updated', 'mentalhealth_2011T', 'vaccinations', 'vaccinationsT', 'communicabledisease1T', 'mentalhealth_2013T', 'vaccinations_2011T', 'mentalhealthT', 'vaccinations_2013T', 'watersanitationT', 'communicabledisease2_2011T', 'caste_grouped', 'caste']\n"
     ]
    }
   ],
   "source": [
    "keys = []\n",
    "for elem in df.keys():\n",
    "    keys.append(elem)\n",
    "print keys"
   ]
  },
  {
   "cell_type": "code",
   "execution_count": 21,
   "metadata": {
    "collapsed": true
   },
   "outputs": [],
   "source": [
    "master = pd.concat(\n",
    "    [grouped, df['poverty1T'], df['poverty2T'], df['vaccinations_2011T'],\n",
    "     df['watersanitationT'], df['hdi2011'], df['sexratio'],\n",
    "     df['communicabledisease1_2011T'], df['communicabledisease2_2011T'],\n",
    "     df['mentalhealth_2011T'],], axis=1)"
   ]
  },
  {
   "cell_type": "code",
   "execution_count": 22,
   "metadata": {
    "collapsed": false
   },
   "outputs": [],
   "source": [
    "darchula = pd.concat([master.ix['Darchula'][:16], master.ix['Darchaula'][16:]], axis=0)\n",
    "darchula.name = 'Darchula'\n",
    "master.drop(['Darchula', 'Darchaula'], inplace=True)\n",
    "master = master.append(darchula, ignore_index=False)\n",
    "\n",
    "kavre = pd.concat([master.ix['Kavrepalanchok'][:16], master.ix['Kavre'][16:]], axis=0)\n",
    "kavre.name = 'Kavre'\n",
    "master.drop(['Kavre', 'Kavrepalanchok'], inplace=True)\n",
    "master = master.append(kavre, ignore_index=False)\n",
    "\n",
    "master.to_csv('Data/master.csv')"
   ]
  },
  {
   "cell_type": "markdown",
   "metadata": {},
   "source": [
    "## Create Master 2009-2012"
   ]
  },
  {
   "cell_type": "code",
   "execution_count": 23,
   "metadata": {
    "collapsed": true
   },
   "outputs": [],
   "source": [
    "master2009 = pd.concat(\n",
    "    [grouped, df['poverty1T'], df['poverty2T'], df['vaccinations_2009T'],\n",
    "     df['watersanitationT'], df['hdi2011'], df['sexratio'],\n",
    "     df['communicabledisease1_2009T'], df['communicabledisease2_2009T'],\n",
    "     df['mentalhealth_2009T'],], axis=1)\n",
    "master2009 = master2009.rename(columns={'index':'District'})\n",
    "master2011 = pd.concat(\n",
    "    [grouped, df['poverty1T'], df['poverty2T'], df['vaccinations_2011T'],\n",
    "     df['watersanitationT'], df['hdi2011'], df['sexratio'],\n",
    "     df['communicabledisease1_2011T'], df['communicabledisease2_2011T'],\n",
    "     df['mentalhealth_2011T'],], axis=1)\n",
    "master2011 = master2011.rename(columns={'index':'District'})"
   ]
  },
  {
   "cell_type": "code",
   "execution_count": 24,
   "metadata": {
    "collapsed": true
   },
   "outputs": [],
   "source": [
    "master2009 = master2009.rename(columns={'BCG':'BCG3', 'DPT-HepB 1':'DPT-HepB 1 3', \\\n",
    "            'DPT-HepB 2':'DPT-HepB 2 3', 'DPT-HepB 3':'DPT-HepB 3 3', 'Japenese Encephalitis':\\\n",
    "        'Japenese Encephalitis 3', 'Measles 12-23':'Measles 12-23 3', 'Measles 9-11 months':\\\n",
    "        'Measles 9-11 months 3', 'Polio1':'Polio13', 'Polio2':'Polio23', 'Polio3':'Polio33',\\\n",
    "        'TT 1':'TT 1 3', 'TT 2+':'TT 2+ 3', 'TT2':'TT23','Confirmed Meningitis':\\\n",
    "        'Confirmed Meningitis 3', 'HIV/AIDS':'HIV/AIDS3', 'Leprosy':'Leprosy3', \\\n",
    "        'STD/STI':'STD/STI3'})"
   ]
  },
  {
   "cell_type": "code",
   "execution_count": 25,
   "metadata": {
    "collapsed": true
   },
   "outputs": [],
   "source": [
    "master0911 = pd.concat([master2009, master2011])"
   ]
  },
  {
   "cell_type": "code",
   "execution_count": 26,
   "metadata": {
    "collapsed": false
   },
   "outputs": [],
   "source": [
    "darchula = pd.concat([master0911.ix['Darchula'][:16], master0911.ix['Darchaula'][16:]], axis=0)\n",
    "darchula.name = 'Darchula'\n",
    "master0911.drop(['Darchula', 'Darchaula'], inplace=True)\n",
    "master0911 = master0911.append(darchula, ignore_index=False)\n",
    "\n",
    "kavre = pd.concat([master0911.ix['Kavrepalanchok'][:16], master0911.ix['Kavre'][16:]], axis=0)\n",
    "kavre.name = 'Kavre'\n",
    "master0911.drop(['Kavre', 'Kavrepalanchok'], inplace=True)\n",
    "master0911 = master0911.append(kavre, ignore_index=False)"
   ]
  },
  {
   "cell_type": "code",
   "execution_count": 27,
   "metadata": {
    "collapsed": false
   },
   "outputs": [],
   "source": [
    "master0911.to_csv('Data/master0911.csv')"
   ]
  },
  {
   "cell_type": "markdown",
   "metadata": {},
   "source": [
    "## Create Master 2009-2014 Dataset"
   ]
  },
  {
   "cell_type": "code",
   "execution_count": 28,
   "metadata": {
    "collapsed": false
   },
   "outputs": [],
   "source": [
    "master2009 = pd.concat(\n",
    "    [grouped, df['poverty1T'], df['poverty2T'], df['vaccinations_2009T'],\n",
    "     df['watersanitationT'], df['hdi2011'], df['sexratio'],\n",
    "     df['communicabledisease1_2009T'], \n",
    "     df['mentalhealth_2009T'],], axis=1)\n",
    "master2009 = master2009.rename(columns={'index':'District'})\n",
    "master2009 = master2009.drop('Alcoholism',axis=1)\n",
    "master2011 = pd.concat(\n",
    "    [grouped, df['poverty1T'], df['poverty2T'], df['vaccinations_2011T'],\n",
    "     df['watersanitationT'], df['hdi2011'], df['sexratio'],\n",
    "     df['communicabledisease1_2011T'], \n",
    "     df['mentalhealth_2011T'],], axis=1)\n",
    "master2011 = master2011.rename(columns={'index':'District'})\n",
    "master2011 = master2011.drop('Alcoholism',axis=1)\n",
    "master2013 = pd.concat(\n",
    "    [grouped, df['poverty1T'], df['poverty2T'], df['vaccinations_2013T'],\n",
    "     df['watersanitationT'], df['hdi2011'], df['sexratio'],\n",
    "     df['communicabledisease1_2013T'], \n",
    "     df['mentalhealth_2013T'],], axis=1)\n",
    "master2013 = master2013.rename(columns={'index':'District'})"
   ]
  },
  {
   "cell_type": "code",
   "execution_count": 29,
   "metadata": {
    "collapsed": true
   },
   "outputs": [],
   "source": [
    "master2009 = master2009.rename(columns={'BCG':'BCG3', 'DPT-HepB 1':'DPT-HepB 1 3', \\\n",
    "            'DPT-HepB 2':'DPT-HepB 2 3', 'DPT-HepB 3':'DPT-HepB 3 3', 'Japenese Encephalitis':\\\n",
    "        'Japenese Encephalitis 3', 'Measles 12-23':'Measles 12-23 3', 'Measles 9-11 months':\\\n",
    "        'Measles 9-11 months 3', 'Polio1':'Polio13', 'Polio2':'Polio23', 'Polio3':'Polio33',\\\n",
    "        'TT 1':'TT 1 3', 'TT 2+':'TT 2+ 3', 'TT2':'TT23','Confirmed Meningitis':\\\n",
    "        'Confirmed Meningitis 3', 'HIV/AIDS':'HIV/AIDS3', 'Leprosy':'Leprosy3', \\\n",
    "        'STD/STI':'STD/STI3'})"
   ]
  },
  {
   "cell_type": "code",
   "execution_count": 30,
   "metadata": {
    "collapsed": false
   },
   "outputs": [],
   "source": [
    "master2013 = master2013.rename(columns={'BCG5':'BCG3', 'DPT-HepB 1 4':'DPT-HepB 1 3', \\\n",
    "            'DPT-HepB 2 4':'DPT-HepB 2 3', 'DPT-HepB 3 4':'DPT-HepB 3 3', 'Japenese Encephalitis 4':\\\n",
    "        'Japenese Encephalitis 3', 'Measles 12-23 4':'Measles 12-23 3', 'Measles 9-11 months 4':\\\n",
    "        'Measles 9-11 months 3', 'Polio14':'Polio13', 'Polio24':'Polio23', 'Polio34':'Polio33', \\\n",
    "        'TT 1 5':'TT 1 3', 'TT 2+ 5':'TT 2+ 3', 'TT24':'TT23', 'Confirmed Meningitis 5':\\\n",
    "        'Confirmed Meningitis 3', 'HIV/AIDS5':'HIV/AIDS3', 'Leprosy5':'Leprosy3', \\\n",
    "        'STD/STI5':'STD/STI3'})\n",
    "master2013 = master2013.drop(['HIV/AIDS', 'STD/STI'],axis=1)"
   ]
  },
  {
   "cell_type": "code",
   "execution_count": 31,
   "metadata": {
    "collapsed": false
   },
   "outputs": [],
   "source": [
    "master0913 = pd.concat([master2009, master2011, master2013])"
   ]
  },
  {
   "cell_type": "code",
   "execution_count": 32,
   "metadata": {
    "collapsed": true
   },
   "outputs": [],
   "source": [
    "master0913.to_csv('Data/master0913.csv')"
   ]
  },
  {
   "cell_type": "markdown",
   "metadata": {
    "collapsed": true
   },
   "source": [
    "# Calculate Per Capita"
   ]
  },
  {
   "cell_type": "code",
   "execution_count": 33,
   "metadata": {
    "collapsed": false
   },
   "outputs": [],
   "source": [
    "def per_capita(df):\n",
    "    master = pd.read_csv('Data/'+df, index_col='Unnamed: 0')\n",
    "    \n",
    "    # Remove unnecessary columns\n",
    "    master =  master.drop(\n",
    "        ['Population', 'Standard Error of Poverty Gap', 'Standard Error of Poverty Incidence', \n",
    "         'Standard Error of Poverty Severity', 'Total Population', 'Zone', 'Geographical Region', \n",
    "         'Development Region', 'Zone.1', 'Geographical Region.1', 'Development Region.1'], axis=1)\n",
    "\n",
    "    # Convert columns to float\n",
    "    master['Percentage of People not expected to survive age 40'] = master['Percentage of People not expected to survive age 40'] * .01\n",
    "    master['Percentage of children under age five who are malnurished'] = master['Percentage of children under age five who are malnurished'] * .01\n",
    "    master['Percentage without safe water'] = master['Percentage without safe water'] * .01\n",
    "\n",
    "    # Calculate per capita rates of disease/illness\n",
    "    master.iloc[:,range(25, 38)] = master.iloc[:,range(25, 38)].div(master['Total Pop Census'],axis=0)\n",
    "    master.iloc[:,range(42, len(master.columns))] = master.iloc[:,range(42, len(master.columns))].div(master['Total Pop Census'],axis=0)\n",
    "\n",
    "    master['Vacc_Access'] = master[['BCG3', 'DPT-HepB 1 3', 'DPT-HepB 2 3', 'DPT-HepB 3 3', \n",
    "                                           'Japenese Encephalitis 3', 'Measles 12-23 3',\n",
    "                                           'Measles 9-11 months 3', 'Polio13', 'Polio23', 'Polio33',\n",
    "                                           'TT 1 3', 'TT 2+ 3', 'TT23',]].sum(axis=1)\n",
    "    master['Vacc_Access'] = (master['Vacc_Access'] - master['Vacc_Access'].mean()) / master['Vacc_Access'].std()\n",
    "\n",
    "    # Rename columns\n",
    "    master = master.rename(\n",
    "        columns={'Percentage of People not expected to survive age 40':'People not expected to survive age 40',\n",
    "                 'Percentage of children under age five who are malnurished':'Children <5 years malnourished',\n",
    "                 'Percentage without safe water':'Without safe water'})\n",
    "\n",
    "    master = master.fillna(0)\n",
    "    master.to_csv('Data/'+str(df[:-4])+'.csv')"
   ]
  },
  {
   "cell_type": "code",
   "execution_count": 34,
   "metadata": {
    "collapsed": false
   },
   "outputs": [],
   "source": [
    "per_capita('master.csv')\n",
    "per_capita('master0911.csv')\n",
    "per_capita('master0913.csv')"
   ]
  },
  {
   "cell_type": "markdown",
   "metadata": {
    "collapsed": true
   },
   "source": [
    "# Simplified Data"
   ]
  },
  {
   "cell_type": "code",
   "execution_count": 34,
   "metadata": {
    "collapsed": false
   },
   "outputs": [
    {
     "data": {
      "text/plain": [
       "Index([u'Unnamed: 0', u'Foreigner', u'Hill Brahman', u'Hill Chhetree',\n",
       "       u'Hill Dalit', u'Madhesi Brahman/Chhetree', u'Madhesi Dalit',\n",
       "       u'Madhesi Other - OC A', u'Madhesi Other - OC B',\n",
       "       u'Mtn/Hill Janajati A', u'Mtn/Hill Janajati B', u'Musalman', u'Newar',\n",
       "       u'Other (MPB)', u'Other undefined', u'Tarai Janajati',\n",
       "       u'Total Pop Census', u'Poverty Gap', u'Poverty Incidence',\n",
       "       u'Poverty Severity', u'Adult illiteracy rate',\n",
       "       u'Deprivation in economic provisioning', u'HPI',\n",
       "       u'People not expected to survive age 40',\n",
       "       u'Children <5 years malnourished', u'Without safe water', u'BCG3',\n",
       "       u'DPT-HepB 1 3', u'DPT-HepB 2 3', u'DPT-HepB 3 3',\n",
       "       u'Japenese Encephalitis 3', u'Measles 12-23 3',\n",
       "       u'Measles 9-11 months 3', u'Polio13', u'Polio23', u'Polio33', u'TT 1 3',\n",
       "       u'TT 2+ 3', u'TT23', u'Sanitation Coverage (%',\n",
       "       u'Water Coverage Supply (%)', u'HDI ',\n",
       "       u'Sex Ratio (male per 100 female)', u'Confirmed Meningitis 3',\n",
       "       u'HIV/AIDS3', u'Leprosy3', u'STD/STI3', u'Acute Flacid Paralysis',\n",
       "       u'Chicken pox', u'Diptheria', u'Hepatatis-B', u'Measles', u'Mumps',\n",
       "       u'Neonatal Tetanus', u'Rubella', u'Tetanus', u'Tuberculosis',\n",
       "       u'Whooping cough', u'Alcoholism', u'Anxiety (Neurosis',\n",
       "       u'Conversive disorder\\n(Hysteria)', u'Depression', u'Epilesy',\n",
       "       u'Mental retardation', u'Psychosis'],\n",
       "      dtype='object')"
      ]
     },
     "execution_count": 34,
     "metadata": {},
     "output_type": "execute_result"
    }
   ],
   "source": [
    "master = pd.read_csv('Data/master.csv')\n",
    "master.columns"
   ]
  },
  {
   "cell_type": "code",
   "execution_count": 35,
   "metadata": {
    "collapsed": false
   },
   "outputs": [],
   "source": [
    "def simplified(df):\n",
    "    master = pd.read_csv('Data/'+df, index_col='Unnamed: 0')\n",
    "    castes = np.square(master.iloc[:,[i for i in range(0,15)]])\n",
    "    master['caste_diversity'] = castes.sum(axis=1)\n",
    "\n",
    "    master[['BCG3', 'DPT-HepB 1 3', 'DPT-HepB 2 3', 'DPT-HepB 3 3',\n",
    "            'Japenese Encephalitis 3', 'Measles 12-23 3',\n",
    "            'Measles 9-11 months 3', 'Polio13', 'Polio23', 'Polio33', 'TT 1 3',\n",
    "            'TT 2+ 3', 'TT23',]].sum(axis=1)\n",
    "\n",
    "    simplified_df = master.drop(['Total Pop Census', 'Poverty Gap', 'Poverty Incidence',\n",
    "                             'Deprivation in economic provisioning', 'HPI',\n",
    "                             'People not expected to survive age 40', 'Without safe water',\n",
    "                             'Water Coverage Supply (%)', 'HDI '], axis=1)\n",
    "    \n",
    "    simplified_df['Vacc_Access'] = master[['BCG3', 'DPT-HepB 1 3', 'DPT-HepB 2 3', 'DPT-HepB 3 3', \n",
    "                                           'Japenese Encephalitis 3', 'Measles 12-23 3',\n",
    "                                           'Measles 9-11 months 3', 'Polio13', 'Polio23', 'Polio33',\n",
    "                                           'TT 1 3', 'TT 2+ 3', 'TT23',]].sum(axis=1)\n",
    "    simplified_df['Vacc_Access'] = (simplified_df['Vacc_Access'] - simplified_df['Vacc_Access'].mean())/simplified_df['Vacc_Access'].std()\n",
    "\n",
    "    simplified_df.drop(['BCG3', 'DPT-HepB 1 3', 'DPT-HepB 2 3', 'DPT-HepB 3 3', \n",
    "                        'Japenese Encephalitis 3', 'Measles 12-23 3', 'Measles 9-11 months 3',\n",
    "                        'Polio13', 'Polio23', 'Polio33', 'TT 1 3', 'TT 2+ 3', 'TT23',], axis=1, inplace=True)\n",
    "    simplified_df.to_csv('Data/simplified_'+str(df[:-4])+'.csv')"
   ]
  },
  {
   "cell_type": "code",
   "execution_count": 36,
   "metadata": {
    "collapsed": false
   },
   "outputs": [],
   "source": [
    "simplified('master.csv')\n",
    "simplified('master0911.csv')\n",
    "simplified('master0913.csv')"
   ]
  },
  {
   "cell_type": "code",
   "execution_count": null,
   "metadata": {
    "collapsed": true
   },
   "outputs": [],
   "source": []
  }
 ],
 "metadata": {
  "kernelspec": {
   "display_name": "Python 2",
   "language": "python",
   "name": "python2"
  },
  "language_info": {
   "codemirror_mode": {
    "name": "ipython",
    "version": 2
   },
   "file_extension": ".py",
   "mimetype": "text/x-python",
   "name": "python",
   "nbconvert_exporter": "python",
   "pygments_lexer": "ipython2",
   "version": "2.7.12"
  }
 },
 "nbformat": 4,
 "nbformat_minor": 1
}

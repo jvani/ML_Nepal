{
 "cells": [
  {
   "cell_type": "code",
   "execution_count": 1,
   "metadata": {
    "collapsed": false
   },
   "outputs": [
    {
     "name": "stdout",
     "output_type": "stream",
     "text": [
      "Populating the interactive namespace from numpy and matplotlib\n"
     ]
    }
   ],
   "source": [
    "import pandas as pd\n",
    "import os\n",
    "import geopandas as gpd\n",
    "import matplotlib.pyplot as plt\n",
    "import zipfile\n",
    "% pylab inline"
   ]
  },
  {
   "cell_type": "code",
   "execution_count": 2,
   "metadata": {
    "collapsed": false
   },
   "outputs": [
    {
     "data": {
      "text/plain": [
       "u'/Users/kristikorsberg/devel/ML/ML_Nepal'"
      ]
     },
     "execution_count": 2,
     "metadata": {},
     "output_type": "execute_result"
    }
   ],
   "source": [
    "pwd"
   ]
  },
  {
   "cell_type": "code",
   "execution_count": 3,
   "metadata": {
    "collapsed": false,
    "scrolled": true
   },
   "outputs": [
    {
     "name": "stdout",
     "output_type": "stream",
     "text": [
      "caste.csv                  normalized_ce.csv\r\n",
      "caste_percent.csv          poverty1.csv\r\n",
      "communicabledisease1.csv   poverty1T.csv\r\n",
      "communicabledisease1T.csv  poverty2.csv\r\n",
      "communicabledisease2.csv   poverty2T.csv\r\n",
      "communicabledisease2T.csv  sexratio.csv\r\n",
      "hdi2011.csv                vaccinations.csv\r\n",
      "master.csv                 vaccinationsT.csv\r\n",
      "mentalhealth.csv           watersanitaion.csv\r\n",
      "mentalhealthT.csv          watersanitationT.csv\r\n",
      "nepaldistricts.zip\r\n"
     ]
    }
   ],
   "source": [
    "ls Data/"
   ]
  },
  {
   "cell_type": "code",
   "execution_count": 4,
   "metadata": {
    "collapsed": false
   },
   "outputs": [
    {
     "data": {
      "text/html": [
       "<div>\n",
       "<table border=\"1\" class=\"dataframe\">\n",
       "  <thead>\n",
       "    <tr style=\"text-align: right;\">\n",
       "      <th></th>\n",
       "      <th>District</th>\n",
       "      <th>Zone</th>\n",
       "      <th>Ecological Belt</th>\n",
       "      <th>Development Region</th>\n",
       "      <th>Year (BS)</th>\n",
       "      <th>Year (AD)</th>\n",
       "      <th>Caste/Ethnicity</th>\n",
       "      <th>Gender</th>\n",
       "      <th>In number</th>\n",
       "    </tr>\n",
       "  </thead>\n",
       "  <tbody>\n",
       "    <tr>\n",
       "      <th>0</th>\n",
       "      <td>Achham</td>\n",
       "      <td>Seti</td>\n",
       "      <td>Hill</td>\n",
       "      <td>Far-Western</td>\n",
       "      <td>2068/69</td>\n",
       "      <td>2011/12</td>\n",
       "      <td>Chhetree</td>\n",
       "      <td>Male</td>\n",
       "      <td>66837</td>\n",
       "    </tr>\n",
       "    <tr>\n",
       "      <th>1</th>\n",
       "      <td>Achham</td>\n",
       "      <td>Seti</td>\n",
       "      <td>Hill</td>\n",
       "      <td>Far-Western</td>\n",
       "      <td>2068/69</td>\n",
       "      <td>2011/12</td>\n",
       "      <td>Chhetree</td>\n",
       "      <td>Female</td>\n",
       "      <td>76097</td>\n",
       "    </tr>\n",
       "    <tr>\n",
       "      <th>2</th>\n",
       "      <td>Achham</td>\n",
       "      <td>Seti</td>\n",
       "      <td>Hill</td>\n",
       "      <td>Far-Western</td>\n",
       "      <td>2068/69</td>\n",
       "      <td>2011/12</td>\n",
       "      <td>Brahman - Hill</td>\n",
       "      <td>Male</td>\n",
       "      <td>12289</td>\n",
       "    </tr>\n",
       "    <tr>\n",
       "      <th>3</th>\n",
       "      <td>Achham</td>\n",
       "      <td>Seti</td>\n",
       "      <td>Hill</td>\n",
       "      <td>Far-Western</td>\n",
       "      <td>2068/69</td>\n",
       "      <td>2011/12</td>\n",
       "      <td>Brahman - Hill</td>\n",
       "      <td>Female</td>\n",
       "      <td>13983</td>\n",
       "    </tr>\n",
       "    <tr>\n",
       "      <th>4</th>\n",
       "      <td>Achham</td>\n",
       "      <td>Seti</td>\n",
       "      <td>Hill</td>\n",
       "      <td>Far-Western</td>\n",
       "      <td>2068/69</td>\n",
       "      <td>2011/12</td>\n",
       "      <td>Kami</td>\n",
       "      <td>Male</td>\n",
       "      <td>11340</td>\n",
       "    </tr>\n",
       "  </tbody>\n",
       "</table>\n",
       "</div>"
      ],
      "text/plain": [
       "  District  Zone Ecological Belt Development Region Year (BS) Year (AD)  \\\n",
       "0   Achham  Seti            Hill        Far-Western   2068/69   2011/12   \n",
       "1   Achham  Seti            Hill        Far-Western   2068/69   2011/12   \n",
       "2   Achham  Seti            Hill        Far-Western   2068/69   2011/12   \n",
       "3   Achham  Seti            Hill        Far-Western   2068/69   2011/12   \n",
       "4   Achham  Seti            Hill        Far-Western   2068/69   2011/12   \n",
       "\n",
       "  Caste/Ethnicity  Gender  In number  \n",
       "0        Chhetree    Male      66837  \n",
       "1        Chhetree  Female      76097  \n",
       "2  Brahman - Hill    Male      12289  \n",
       "3  Brahman - Hill  Female      13983  \n",
       "4            Kami    Male      11340  "
      ]
     },
     "execution_count": 4,
     "metadata": {},
     "output_type": "execute_result"
    }
   ],
   "source": [
    "caste = pd.read_csv('Data/caste.csv')\n",
    "caste.head()"
   ]
  },
  {
   "cell_type": "code",
   "execution_count": 5,
   "metadata": {
    "collapsed": false
   },
   "outputs": [],
   "source": [
    "#caste = caste.replace(['Darchula', 'Kavrepalanchok'], ['Darchaula','Kavre'])"
   ]
  },
  {
   "cell_type": "markdown",
   "metadata": {},
   "source": [
    "### aggregate caste/ethnicity to 13 more generalized groups\n",
    "*  Classification of these categories is based more on a cultural basis as caste/ethnic groups included in each broader category have more or less common cultural values \n",
    "\n",
    "* file:///Users/kristikorsberg/Downloads/Social%20Demography%20of%20Nepal%202011%20-%20YBG.pdf"
   ]
  },
  {
   "cell_type": "code",
   "execution_count": 6,
   "metadata": {
    "collapsed": false
   },
   "outputs": [],
   "source": [
    "sg = {'Brahman - Hill':'Hill Brahman', 'Chhetree':'Hill Chhetree', 'Thakuri':'Hill Chhetree', \\\n",
    "      'Dashnami/Sanyasi':'Hill Chhetree', 'Brahman - Tarai':'Madhesi Brahman/Chhetree', \\\n",
    "     'Kayastha':'Madhesi Brahman/Chhetree', 'Rajput':'Madhesi Brahman/Chhetree', 'Amat':'Madhesi Other - OC A', \\\n",
    "     'Badhaee':'Madhesi Other - OC A', 'Baraee':'Madhesi Other - OC A', 'Dev':'Madhesi Other - OC A', \\\n",
    "     'Gaderi/Bhedhar':'Madhesi Other - OC A', 'Hajam/Thakur':'Madhesi Other - OC A', \\\n",
    "     'Haluwai':'Madhesi Other - OC A', 'Kalar':'Madhesi Other - OC A', 'Kalwar':'Madhesi Other - OC A', \\\n",
    "     'Kamar':'Madhesi Other - OC A', 'Kathbaniyan':'Madhesi Other - OC A', 'Koiri/Kushwaha':'Madhesi Other - OC A', \\\n",
    "     'Kurmi':'Madhesi Other - OC A', 'Lohar':'Madhesi Other - OC A', 'Rajbhar':'Madhesi Other - OC A', \\\n",
    "     'Rajdhob':'Madhesi Other - OC A', 'Sonar':'Madhesi Other - OC A', 'Sudhi':'Madhesi Other - OC A', 'Kanu':'Madhesi Other - OC A', \\\n",
    "     'Teli':'Madhesi Other - OC A', 'Yadav':'Madhesi Other - OC A', 'Bin':'Madhesi Other - OC B', \\\n",
    "     'Dhandi':'Madhesi Other - OC B', 'Dhankar/Kharikar':'Madhesi Other - OC B', 'Dhunia':'Madhesi Other - OC B', \\\n",
    "     'Kahar':'Madhesi Other - OC B', 'Kewat':'Madhesi Other - OC B', 'Kori':'Madhesi Other - OC B', \\\n",
    "     'Kumhar':'Madhesi Other - OC B', 'Lodh':'Madhesi Other - OC B', 'Mali':'Madhesi Other - OC B', \\\n",
    "     'Mallaha':'Madhesi Other - OC B', 'Natuwa':'Madhesi Other - OC B', 'Nuniya':'Madhesi Other - OC B', \\\n",
    "     'Nurang':'Madhesi Other - OC B', 'Sarbaria':'Madhesi Other - OC B', 'Badi': 'Hill Dalit', \\\n",
    "     'Damai/Dholi':'Hill Dalit', 'Gaine':'Hill Dalit', 'Kami':'Hill Dalit', 'Sarki':'Hill Dalit', \\\n",
    "     'Bantar/Sardar':'Madhesi Dalit', 'Chamar/Harijan/Ram':'Madhesi Dalit', 'Chidimar':'Madhesi Dalit', \\\n",
    "     'Dhobi':'Madhesi Dalit', 'Dom':'Madhesi Dalit', 'Dusadh/Pasawan/Pasi':'Madhesi Dalit', \\\n",
    "     'Halkhor':'Madhesi Dalit', 'Khatwe':'Madhesi Dalit', 'Musahar':'Madhesi Dalit', 'Tatma/Tatwa':'Madhesi Dalit', \\\n",
    "     'Newar':'Newar', 'Sherpa':'Mtn/Hill Janajati A', 'Yakkha':'Mtn/Hill Janajati A', 'Jirel':'Mtn/Hill Janajati A', \\\n",
    "     'Kulung':'Mtn/Hill Janajati A', 'Yamphu':'Mtn/Hill Janajati A', 'Mewahang':'Mtn/Hill Janajati A', \\\n",
    "     'Gharti/Bhujel':'Mtn/Hill Janajati A', 'Khaling':'Mtn/Hill Janajati A', 'Darai':'Mtn/Hill Janajati A', \\\n",
    "     'Magar':'Mtn/Hill Janajati A', 'Chhantyal/Chhantel':'Mtn/Hill Janajati A', 'Aathpariya':'Mtn/Hill Janajati A', \\\n",
    "     'Bahing':'Mtn/Hill Janajati A', 'Rai':'Mtn/Hill Janajati A', 'Thulung':'Mtn/Hill Janajati A', \\\n",
    "     'Gurung':'Mtn/Hill Janajati A', 'Limbu':'Mtn/Hill Janajati A', 'Lepcha':'Mtn/Hill Janajati A', \\\n",
    "     'Sampang':'Mtn/Hill Janajati A', 'Dura':'Mtn/Hill Janajati A', 'Chamling':'Mtn/Hill Janajati A', \\\n",
    "     'Bantaba':'Mtn/Hill Janajati A', 'Loharung':'Mtn/Hill Janajati A', 'Thakali':'Mtn/Hill Janajati A', \\\n",
    "     'Bhote':'Mtn/Hill Janajati B', 'Bote':'Mtn/Hill Janajati B', 'Brahmu/Baramo':'Mtn/Hill Janajati B', \\\n",
    "     'Byasi/Sauka':'Mtn/Hill Janajati B', 'Chepang/Praja':'Mtn/Hill Janajati B', 'Danuwar':'Mtn/Hill Janajati B', \\\n",
    "     'Dolpo':'Mtn/Hill Janajati B', 'Ghale':'Mtn/Hill Janajati B', 'Hayu':'Mtn/Hill Janajati B', 'Hyolmo':'Mtn/Hill Janajati B', \\\n",
    "     'Kumal':'Mtn/Hill Janajati B', 'Kusunda':'Mtn/Hill Janajati B', 'Lhomi':'Mtn/Hill Janajati B', \\\n",
    "     'Lhopa':'Mtn/Hill Janajati B', 'Majhi':'Mtn/Hill Janajati B', 'Nachhiring':'Mtn/Hill Janajati B', \\\n",
    "     'Pahari':'Mtn/Hill Janajati B', 'Raji':'Mtn/Hill Janajati B', 'Raute':'Mtn/Hill Janajati B', \\\n",
    "     'Sunuwar':'Mtn/Hill Janajati B', 'Tamang':'Mtn/Hill Janajati B', 'Thami':'Mtn/Hill Janajati B', \\\n",
    "     'Topkegola':'Mtn/Hill Janajati B', 'Walung':'Mtn/Hill Janajati B', 'Dhanuk':'Tarai Janajati', \\\n",
    "     'Dhimal':'Tarai Janajati', 'Gangai':'Tarai Janajati', 'Jhangad/Dhagar':'Tarai Janajati', 'Kisan':'Tarai Janajati', \\\n",
    "     'Koche':'Tarai Janajati', 'Meche':'Tarai Janajati', 'Munda':'Tarai Janajati', 'Pattharkatta/Kushwadiya':'Tarai Janajati', \\\n",
    "     'Rajbansi':'Tarai Janajati', 'Satar/Santhal':'Tarai Janajati', 'Tajpuriya':'Tarai Janajati', 'Tharu':'Tarai Janajati', \\\n",
    "     'Musalman':'Musalman', 'Marwadi':'Other (MPB)', 'Punjabi/Shikh':'Other (MPB)', 'Bangali':'Other (MPB)', \\\n",
    "     'Dalit Others':'Other undefined', 'Janajati Others':'Other undefined', 'Undefined Others':'Other undefined', \\\n",
    "     'Terai Others':'Other undefined', 'Others':'Other undefined', 'Foreigner':'Foreigner'}"
   ]
  },
  {
   "cell_type": "code",
   "execution_count": 7,
   "metadata": {
    "collapsed": false
   },
   "outputs": [],
   "source": [
    "caste['social_groups'] = caste['Caste/Ethnicity'].map(sg)"
   ]
  },
  {
   "cell_type": "code",
   "execution_count": 8,
   "metadata": {
    "collapsed": false
   },
   "outputs": [
    {
     "data": {
      "text/plain": [
       "District               0\n",
       "Zone                   0\n",
       "Ecological Belt        0\n",
       "Development Region     0\n",
       "Year (BS)              0\n",
       "Year (AD)              0\n",
       "Caste/Ethnicity        0\n",
       "Gender                 0\n",
       "In number              0\n",
       "social_groups         54\n",
       "dtype: int64"
      ]
     },
     "execution_count": 8,
     "metadata": {},
     "output_type": "execute_result"
    }
   ],
   "source": [
    "caste.isnull().sum()"
   ]
  },
  {
   "cell_type": "code",
   "execution_count": 9,
   "metadata": {
    "collapsed": false
   },
   "outputs": [
    {
     "data": {
      "text/html": [
       "<div>\n",
       "<table border=\"1\" class=\"dataframe\">\n",
       "  <thead>\n",
       "    <tr style=\"text-align: right;\">\n",
       "      <th></th>\n",
       "      <th>District</th>\n",
       "      <th>Zone</th>\n",
       "      <th>Ecological Belt</th>\n",
       "      <th>Development Region</th>\n",
       "      <th>Year (BS)</th>\n",
       "      <th>Year (AD)</th>\n",
       "      <th>Caste/Ethnicity</th>\n",
       "      <th>Gender</th>\n",
       "      <th>In number</th>\n",
       "      <th>social_groups</th>\n",
       "    </tr>\n",
       "  </thead>\n",
       "  <tbody>\n",
       "    <tr>\n",
       "      <th>580</th>\n",
       "      <td>Banke</td>\n",
       "      <td>Bheri</td>\n",
       "      <td>Terai</td>\n",
       "      <td>Mid-Western</td>\n",
       "      <td>2068/69</td>\n",
       "      <td>2011/12</td>\n",
       "      <td>Khawas</td>\n",
       "      <td>Male</td>\n",
       "      <td>6</td>\n",
       "      <td>NaN</td>\n",
       "    </tr>\n",
       "    <tr>\n",
       "      <th>581</th>\n",
       "      <td>Banke</td>\n",
       "      <td>Bheri</td>\n",
       "      <td>Terai</td>\n",
       "      <td>Mid-Western</td>\n",
       "      <td>2068/69</td>\n",
       "      <td>2011/12</td>\n",
       "      <td>Khawas</td>\n",
       "      <td>Female</td>\n",
       "      <td>6</td>\n",
       "      <td>NaN</td>\n",
       "    </tr>\n",
       "  </tbody>\n",
       "</table>\n",
       "</div>"
      ],
      "text/plain": [
       "    District   Zone Ecological Belt Development Region Year (BS) Year (AD)  \\\n",
       "580    Banke  Bheri           Terai        Mid-Western   2068/69   2011/12   \n",
       "581    Banke  Bheri           Terai        Mid-Western   2068/69   2011/12   \n",
       "\n",
       "    Caste/Ethnicity  Gender  In number social_groups  \n",
       "580          Khawas    Male          6           NaN  \n",
       "581          Khawas  Female          6           NaN  "
      ]
     },
     "execution_count": 9,
     "metadata": {},
     "output_type": "execute_result"
    }
   ],
   "source": [
    "caste[caste.isnull().any(axis=1)].head(2)"
   ]
  },
  {
   "cell_type": "code",
   "execution_count": 10,
   "metadata": {
    "collapsed": false
   },
   "outputs": [],
   "source": [
    "#sorted(caste['Caste/Ethnicity'].unique())"
   ]
  },
  {
   "cell_type": "code",
   "execution_count": 11,
   "metadata": {
    "collapsed": false
   },
   "outputs": [],
   "source": [
    "caste_two = pd.DataFrame()\n",
    "caste_two['district'] = caste['District']\n",
    "caste_two['unique'] = caste['social_groups']+'_'+caste['Gender']\n",
    "caste_two['number'] = caste['In number']"
   ]
  },
  {
   "cell_type": "code",
   "execution_count": 12,
   "metadata": {
    "collapsed": true
   },
   "outputs": [],
   "source": [
    "caste_two = caste_two.dropna()"
   ]
  },
  {
   "cell_type": "code",
   "execution_count": 13,
   "metadata": {
    "collapsed": true
   },
   "outputs": [],
   "source": [
    "caste_three = pd.DataFrame()\n",
    "caste_three['district'] = caste['District']\n",
    "caste_three['unique'] = caste['social_groups']\n",
    "caste_three['number'] = caste['In number']"
   ]
  },
  {
   "cell_type": "code",
   "execution_count": 14,
   "metadata": {
    "collapsed": true
   },
   "outputs": [],
   "source": [
    "caste_three = caste_three.dropna()"
   ]
  },
  {
   "cell_type": "code",
   "execution_count": 15,
   "metadata": {
    "collapsed": false
   },
   "outputs": [
    {
     "data": {
      "text/html": [
       "<div>\n",
       "<table border=\"1\" class=\"dataframe\">\n",
       "  <thead>\n",
       "    <tr style=\"text-align: right;\">\n",
       "      <th></th>\n",
       "      <th>district</th>\n",
       "      <th>unique</th>\n",
       "      <th>number</th>\n",
       "    </tr>\n",
       "  </thead>\n",
       "  <tbody>\n",
       "    <tr>\n",
       "      <th>0</th>\n",
       "      <td>Achham</td>\n",
       "      <td>Hill Chhetree</td>\n",
       "      <td>66837</td>\n",
       "    </tr>\n",
       "    <tr>\n",
       "      <th>1</th>\n",
       "      <td>Achham</td>\n",
       "      <td>Hill Chhetree</td>\n",
       "      <td>76097</td>\n",
       "    </tr>\n",
       "    <tr>\n",
       "      <th>2</th>\n",
       "      <td>Achham</td>\n",
       "      <td>Hill Brahman</td>\n",
       "      <td>12289</td>\n",
       "    </tr>\n",
       "    <tr>\n",
       "      <th>3</th>\n",
       "      <td>Achham</td>\n",
       "      <td>Hill Brahman</td>\n",
       "      <td>13983</td>\n",
       "    </tr>\n",
       "    <tr>\n",
       "      <th>4</th>\n",
       "      <td>Achham</td>\n",
       "      <td>Hill Dalit</td>\n",
       "      <td>11340</td>\n",
       "    </tr>\n",
       "  </tbody>\n",
       "</table>\n",
       "</div>"
      ],
      "text/plain": [
       "  district         unique  number\n",
       "0   Achham  Hill Chhetree   66837\n",
       "1   Achham  Hill Chhetree   76097\n",
       "2   Achham   Hill Brahman   12289\n",
       "3   Achham   Hill Brahman   13983\n",
       "4   Achham     Hill Dalit   11340"
      ]
     },
     "execution_count": 15,
     "metadata": {},
     "output_type": "execute_result"
    }
   ],
   "source": [
    "caste_three.head()"
   ]
  },
  {
   "cell_type": "code",
   "execution_count": 16,
   "metadata": {
    "collapsed": true
   },
   "outputs": [],
   "source": [
    "grouped2 = pd.DataFrame(caste_three['number'].groupby([caste_three['district'], caste_three['unique']]).sum())\n",
    "grouped2 = grouped2.reset_index()"
   ]
  },
  {
   "cell_type": "code",
   "execution_count": 17,
   "metadata": {
    "collapsed": false
   },
   "outputs": [
    {
     "data": {
      "text/html": [
       "<div>\n",
       "<table border=\"1\" class=\"dataframe\">\n",
       "  <thead>\n",
       "    <tr style=\"text-align: right;\">\n",
       "      <th></th>\n",
       "      <th>district</th>\n",
       "      <th>unique</th>\n",
       "      <th>number</th>\n",
       "    </tr>\n",
       "  </thead>\n",
       "  <tbody>\n",
       "    <tr>\n",
       "      <th>0</th>\n",
       "      <td>Achham</td>\n",
       "      <td>Hill Brahman</td>\n",
       "      <td>26272</td>\n",
       "    </tr>\n",
       "    <tr>\n",
       "      <th>1</th>\n",
       "      <td>Achham</td>\n",
       "      <td>Hill Chhetree</td>\n",
       "      <td>149787</td>\n",
       "    </tr>\n",
       "    <tr>\n",
       "      <th>2</th>\n",
       "      <td>Achham</td>\n",
       "      <td>Hill Dalit</td>\n",
       "      <td>34800</td>\n",
       "    </tr>\n",
       "    <tr>\n",
       "      <th>3</th>\n",
       "      <td>Achham</td>\n",
       "      <td>Madhesi Brahman/Chhetree</td>\n",
       "      <td>26</td>\n",
       "    </tr>\n",
       "    <tr>\n",
       "      <th>4</th>\n",
       "      <td>Achham</td>\n",
       "      <td>Madhesi Other - OC A</td>\n",
       "      <td>1267</td>\n",
       "    </tr>\n",
       "  </tbody>\n",
       "</table>\n",
       "</div>"
      ],
      "text/plain": [
       "  district                    unique  number\n",
       "0   Achham              Hill Brahman   26272\n",
       "1   Achham             Hill Chhetree  149787\n",
       "2   Achham                Hill Dalit   34800\n",
       "3   Achham  Madhesi Brahman/Chhetree      26\n",
       "4   Achham      Madhesi Other - OC A    1267"
      ]
     },
     "execution_count": 17,
     "metadata": {},
     "output_type": "execute_result"
    }
   ],
   "source": [
    "grouped2.head()"
   ]
  },
  {
   "cell_type": "code",
   "execution_count": 18,
   "metadata": {
    "collapsed": false
   },
   "outputs": [
    {
     "data": {
      "text/plain": [
       "8502"
      ]
     },
     "execution_count": 18,
     "metadata": {},
     "output_type": "execute_result"
    }
   ],
   "source": [
    "len(caste_two)"
   ]
  },
  {
   "cell_type": "code",
   "execution_count": 19,
   "metadata": {
    "collapsed": false
   },
   "outputs": [],
   "source": [
    "grouped = pd.DataFrame(caste_two['number'].groupby([caste_two['district'], caste_two['unique']]).sum())\n",
    "grouped = grouped.reset_index()"
   ]
  },
  {
   "cell_type": "code",
   "execution_count": 20,
   "metadata": {
    "collapsed": false
   },
   "outputs": [
    {
     "data": {
      "text/html": [
       "<div>\n",
       "<table border=\"1\" class=\"dataframe\">\n",
       "  <thead>\n",
       "    <tr style=\"text-align: right;\">\n",
       "      <th></th>\n",
       "      <th>district</th>\n",
       "      <th>unique</th>\n",
       "      <th>number</th>\n",
       "    </tr>\n",
       "  </thead>\n",
       "  <tbody>\n",
       "    <tr>\n",
       "      <th>0</th>\n",
       "      <td>Achham</td>\n",
       "      <td>Hill Brahman_Female</td>\n",
       "      <td>13983</td>\n",
       "    </tr>\n",
       "    <tr>\n",
       "      <th>1</th>\n",
       "      <td>Achham</td>\n",
       "      <td>Hill Brahman_Male</td>\n",
       "      <td>12289</td>\n",
       "    </tr>\n",
       "  </tbody>\n",
       "</table>\n",
       "</div>"
      ],
      "text/plain": [
       "  district               unique  number\n",
       "0   Achham  Hill Brahman_Female   13983\n",
       "1   Achham    Hill Brahman_Male   12289"
      ]
     },
     "execution_count": 20,
     "metadata": {},
     "output_type": "execute_result"
    }
   ],
   "source": [
    "grouped.head(2)"
   ]
  },
  {
   "cell_type": "code",
   "execution_count": 21,
   "metadata": {
    "collapsed": false
   },
   "outputs": [],
   "source": [
    "grouped = grouped.pivot(index='district', columns='unique', values='number')\n",
    "grouped = grouped.reset_index()\n",
    "grouped = grouped.fillna(0)"
   ]
  },
  {
   "cell_type": "code",
   "execution_count": 22,
   "metadata": {
    "collapsed": false
   },
   "outputs": [],
   "source": [
    "grouped2 = grouped2.pivot(index='district', columns='unique', values='number')\n",
    "grouped2 = grouped2.reset_index()\n",
    "grouped2 = grouped2.fillna(0)"
   ]
  },
  {
   "cell_type": "code",
   "execution_count": 23,
   "metadata": {
    "collapsed": false
   },
   "outputs": [
    {
     "data": {
      "text/html": [
       "<div>\n",
       "<table border=\"1\" class=\"dataframe\">\n",
       "  <thead>\n",
       "    <tr style=\"text-align: right;\">\n",
       "      <th>unique</th>\n",
       "      <th>district</th>\n",
       "      <th>Foreigner_Female</th>\n",
       "      <th>Foreigner_Male</th>\n",
       "      <th>Hill Brahman_Female</th>\n",
       "      <th>Hill Brahman_Male</th>\n",
       "      <th>Hill Chhetree_Female</th>\n",
       "      <th>Hill Chhetree_Male</th>\n",
       "      <th>Hill Dalit_Female</th>\n",
       "      <th>Hill Dalit_Male</th>\n",
       "      <th>Madhesi Brahman/Chhetree_Female</th>\n",
       "      <th>...</th>\n",
       "      <th>Musalman_Female</th>\n",
       "      <th>Musalman_Male</th>\n",
       "      <th>Newar_Female</th>\n",
       "      <th>Newar_Male</th>\n",
       "      <th>Other (MPB)_Female</th>\n",
       "      <th>Other (MPB)_Male</th>\n",
       "      <th>Other undefined_Female</th>\n",
       "      <th>Other undefined_Male</th>\n",
       "      <th>Tarai Janajati_Female</th>\n",
       "      <th>Tarai Janajati_Male</th>\n",
       "    </tr>\n",
       "  </thead>\n",
       "  <tbody>\n",
       "    <tr>\n",
       "      <th>0</th>\n",
       "      <td>Achham</td>\n",
       "      <td>0.0</td>\n",
       "      <td>0.0</td>\n",
       "      <td>13983.0</td>\n",
       "      <td>12289.0</td>\n",
       "      <td>79688.0</td>\n",
       "      <td>70099.0</td>\n",
       "      <td>18614.0</td>\n",
       "      <td>16186.0</td>\n",
       "      <td>8.0</td>\n",
       "      <td>...</td>\n",
       "      <td>103.0</td>\n",
       "      <td>154.0</td>\n",
       "      <td>58.0</td>\n",
       "      <td>69.0</td>\n",
       "      <td>233.0</td>\n",
       "      <td>216.0</td>\n",
       "      <td>22847.0</td>\n",
       "      <td>18926.0</td>\n",
       "      <td>53.0</td>\n",
       "      <td>205.0</td>\n",
       "    </tr>\n",
       "    <tr>\n",
       "      <th>1</th>\n",
       "      <td>Arghakhanchi</td>\n",
       "      <td>0.0</td>\n",
       "      <td>0.0</td>\n",
       "      <td>36806.0</td>\n",
       "      <td>27951.0</td>\n",
       "      <td>21721.0</td>\n",
       "      <td>16471.0</td>\n",
       "      <td>23320.0</td>\n",
       "      <td>17989.0</td>\n",
       "      <td>179.0</td>\n",
       "      <td>...</td>\n",
       "      <td>954.0</td>\n",
       "      <td>819.0</td>\n",
       "      <td>3167.0</td>\n",
       "      <td>2361.0</td>\n",
       "      <td>0.0</td>\n",
       "      <td>0.0</td>\n",
       "      <td>126.0</td>\n",
       "      <td>99.0</td>\n",
       "      <td>60.0</td>\n",
       "      <td>174.0</td>\n",
       "    </tr>\n",
       "  </tbody>\n",
       "</table>\n",
       "<p>2 rows × 31 columns</p>\n",
       "</div>"
      ],
      "text/plain": [
       "unique      district  Foreigner_Female  Foreigner_Male  Hill Brahman_Female  \\\n",
       "0             Achham               0.0             0.0              13983.0   \n",
       "1       Arghakhanchi               0.0             0.0              36806.0   \n",
       "\n",
       "unique  Hill Brahman_Male  Hill Chhetree_Female  Hill Chhetree_Male  \\\n",
       "0                 12289.0               79688.0             70099.0   \n",
       "1                 27951.0               21721.0             16471.0   \n",
       "\n",
       "unique  Hill Dalit_Female  Hill Dalit_Male  Madhesi Brahman/Chhetree_Female  \\\n",
       "0                 18614.0          16186.0                              8.0   \n",
       "1                 23320.0          17989.0                            179.0   \n",
       "\n",
       "unique         ...           Musalman_Female  Musalman_Male  Newar_Female  \\\n",
       "0              ...                     103.0          154.0          58.0   \n",
       "1              ...                     954.0          819.0        3167.0   \n",
       "\n",
       "unique  Newar_Male  Other (MPB)_Female  Other (MPB)_Male  \\\n",
       "0             69.0               233.0             216.0   \n",
       "1           2361.0                 0.0               0.0   \n",
       "\n",
       "unique  Other undefined_Female  Other undefined_Male  Tarai Janajati_Female  \\\n",
       "0                      22847.0               18926.0                   53.0   \n",
       "1                        126.0                  99.0                   60.0   \n",
       "\n",
       "unique  Tarai Janajati_Male  \n",
       "0                     205.0  \n",
       "1                     174.0  \n",
       "\n",
       "[2 rows x 31 columns]"
      ]
     },
     "execution_count": 23,
     "metadata": {},
     "output_type": "execute_result"
    }
   ],
   "source": [
    "grouped.head(2)"
   ]
  },
  {
   "cell_type": "code",
   "execution_count": 24,
   "metadata": {
    "collapsed": false
   },
   "outputs": [
    {
     "data": {
      "text/html": [
       "<div>\n",
       "<table border=\"1\" class=\"dataframe\">\n",
       "  <thead>\n",
       "    <tr style=\"text-align: right;\">\n",
       "      <th>unique</th>\n",
       "      <th>district</th>\n",
       "      <th>Foreigner</th>\n",
       "      <th>Hill Brahman</th>\n",
       "      <th>Hill Chhetree</th>\n",
       "      <th>Hill Dalit</th>\n",
       "      <th>Madhesi Brahman/Chhetree</th>\n",
       "      <th>Madhesi Dalit</th>\n",
       "      <th>Madhesi Other - OC A</th>\n",
       "      <th>Madhesi Other - OC B</th>\n",
       "      <th>Mtn/Hill Janajati A</th>\n",
       "      <th>Mtn/Hill Janajati B</th>\n",
       "      <th>Musalman</th>\n",
       "      <th>Newar</th>\n",
       "      <th>Other (MPB)</th>\n",
       "      <th>Other undefined</th>\n",
       "      <th>Tarai Janajati</th>\n",
       "    </tr>\n",
       "  </thead>\n",
       "  <tbody>\n",
       "    <tr>\n",
       "      <th>0</th>\n",
       "      <td>Achham</td>\n",
       "      <td>0.0</td>\n",
       "      <td>26272.0</td>\n",
       "      <td>149787.0</td>\n",
       "      <td>34800.0</td>\n",
       "      <td>26.0</td>\n",
       "      <td>0.0</td>\n",
       "      <td>1267.0</td>\n",
       "      <td>0.0</td>\n",
       "      <td>1782.0</td>\n",
       "      <td>679.0</td>\n",
       "      <td>257.0</td>\n",
       "      <td>127.0</td>\n",
       "      <td>449.0</td>\n",
       "      <td>41773.0</td>\n",
       "      <td>258.0</td>\n",
       "    </tr>\n",
       "    <tr>\n",
       "      <th>1</th>\n",
       "      <td>Arghakhanchi</td>\n",
       "      <td>0.0</td>\n",
       "      <td>64757.0</td>\n",
       "      <td>38192.0</td>\n",
       "      <td>41309.0</td>\n",
       "      <td>317.0</td>\n",
       "      <td>13.0</td>\n",
       "      <td>209.0</td>\n",
       "      <td>0.0</td>\n",
       "      <td>38212.0</td>\n",
       "      <td>6863.0</td>\n",
       "      <td>1773.0</td>\n",
       "      <td>5528.0</td>\n",
       "      <td>0.0</td>\n",
       "      <td>225.0</td>\n",
       "      <td>234.0</td>\n",
       "    </tr>\n",
       "  </tbody>\n",
       "</table>\n",
       "</div>"
      ],
      "text/plain": [
       "unique      district  Foreigner  Hill Brahman  Hill Chhetree  Hill Dalit  \\\n",
       "0             Achham        0.0       26272.0       149787.0     34800.0   \n",
       "1       Arghakhanchi        0.0       64757.0        38192.0     41309.0   \n",
       "\n",
       "unique  Madhesi Brahman/Chhetree  Madhesi Dalit  Madhesi Other - OC A  \\\n",
       "0                           26.0            0.0                1267.0   \n",
       "1                          317.0           13.0                 209.0   \n",
       "\n",
       "unique  Madhesi Other - OC B  Mtn/Hill Janajati A  Mtn/Hill Janajati B  \\\n",
       "0                        0.0               1782.0                679.0   \n",
       "1                        0.0              38212.0               6863.0   \n",
       "\n",
       "unique  Musalman   Newar  Other (MPB)  Other undefined  Tarai Janajati  \n",
       "0          257.0   127.0        449.0          41773.0           258.0  \n",
       "1         1773.0  5528.0          0.0            225.0           234.0  "
      ]
     },
     "execution_count": 24,
     "metadata": {},
     "output_type": "execute_result"
    }
   ],
   "source": [
    "grouped2.head(2)"
   ]
  },
  {
   "cell_type": "code",
   "execution_count": 25,
   "metadata": {
    "collapsed": false
   },
   "outputs": [
    {
     "data": {
      "text/html": [
       "<div>\n",
       "<table border=\"1\" class=\"dataframe\">\n",
       "  <thead>\n",
       "    <tr style=\"text-align: right;\">\n",
       "      <th></th>\n",
       "      <th>District</th>\n",
       "      <th>Zone</th>\n",
       "      <th>Geographical Region</th>\n",
       "      <th>Development Region</th>\n",
       "      <th>HDI</th>\n",
       "    </tr>\n",
       "  </thead>\n",
       "  <tbody>\n",
       "    <tr>\n",
       "      <th>0</th>\n",
       "      <td>Achham</td>\n",
       "      <td>Seti</td>\n",
       "      <td>Hill</td>\n",
       "      <td>Far-Western</td>\n",
       "      <td>0.378</td>\n",
       "    </tr>\n",
       "    <tr>\n",
       "      <th>1</th>\n",
       "      <td>Arghakhanchi</td>\n",
       "      <td>Lumbini</td>\n",
       "      <td>Hill</td>\n",
       "      <td>Western</td>\n",
       "      <td>0.482</td>\n",
       "    </tr>\n",
       "    <tr>\n",
       "      <th>2</th>\n",
       "      <td>Banke</td>\n",
       "      <td>Bheri</td>\n",
       "      <td>Terai</td>\n",
       "      <td>Mid-Western</td>\n",
       "      <td>0.475</td>\n",
       "    </tr>\n",
       "    <tr>\n",
       "      <th>3</th>\n",
       "      <td>Baglung</td>\n",
       "      <td>Dhawalagiri</td>\n",
       "      <td>Hill</td>\n",
       "      <td>Western</td>\n",
       "      <td>0.478</td>\n",
       "    </tr>\n",
       "    <tr>\n",
       "      <th>4</th>\n",
       "      <td>Baitadi</td>\n",
       "      <td>Mahakali</td>\n",
       "      <td>Hill</td>\n",
       "      <td>Far-Western</td>\n",
       "      <td>0.416</td>\n",
       "    </tr>\n",
       "  </tbody>\n",
       "</table>\n",
       "</div>"
      ],
      "text/plain": [
       "      District          Zone Geographical Region Development Region   HDI \n",
       "0        Achham         Seti                Hill        Far-Western  0.378\n",
       "1  Arghakhanchi      Lumbini                Hill            Western  0.482\n",
       "2         Banke        Bheri               Terai        Mid-Western  0.475\n",
       "3       Baglung  Dhawalagiri                Hill            Western  0.478\n",
       "4       Baitadi     Mahakali                Hill        Far-Western  0.416"
      ]
     },
     "execution_count": 25,
     "metadata": {},
     "output_type": "execute_result"
    }
   ],
   "source": [
    "hdi = pd.read_csv('Data/hdi2011.csv')\n",
    "hdi.head()"
   ]
  },
  {
   "cell_type": "code",
   "execution_count": 26,
   "metadata": {
    "collapsed": false
   },
   "outputs": [
    {
     "data": {
      "text/plain": [
       "Index([u'District ', u'Zone', u'Geographical Region', u'Development Region',\n",
       "       u'HDI '],\n",
       "      dtype='object')"
      ]
     },
     "execution_count": 26,
     "metadata": {},
     "output_type": "execute_result"
    }
   ],
   "source": [
    "hdi.columns"
   ]
  },
  {
   "cell_type": "code",
   "execution_count": 27,
   "metadata": {
    "collapsed": false
   },
   "outputs": [],
   "source": [
    "hdi_caste = pd.merge(hdi, grouped, left_on='District ', right_on='district')"
   ]
  },
  {
   "cell_type": "code",
   "execution_count": 28,
   "metadata": {
    "collapsed": false
   },
   "outputs": [],
   "source": [
    "hdi_caste2 = pd.merge(hdi, grouped2, left_on='District ', right_on='district')"
   ]
  },
  {
   "cell_type": "code",
   "execution_count": 29,
   "metadata": {
    "collapsed": false
   },
   "outputs": [],
   "source": [
    "hdi_caste = hdi_caste.drop('district',axis=1)\n",
    "hdi_caste2 = hdi_caste2.drop('district',axis=1)"
   ]
  },
  {
   "cell_type": "code",
   "execution_count": 30,
   "metadata": {
    "collapsed": false
   },
   "outputs": [
    {
     "data": {
      "text/html": [
       "<div>\n",
       "<table border=\"1\" class=\"dataframe\">\n",
       "  <thead>\n",
       "    <tr style=\"text-align: right;\">\n",
       "      <th></th>\n",
       "      <th>District</th>\n",
       "      <th>Zone</th>\n",
       "      <th>Geographical Region</th>\n",
       "      <th>Development Region</th>\n",
       "      <th>HDI</th>\n",
       "      <th>Foreigner_Female</th>\n",
       "      <th>Foreigner_Male</th>\n",
       "      <th>Hill Brahman_Female</th>\n",
       "      <th>Hill Brahman_Male</th>\n",
       "      <th>Hill Chhetree_Female</th>\n",
       "      <th>...</th>\n",
       "      <th>Musalman_Female</th>\n",
       "      <th>Musalman_Male</th>\n",
       "      <th>Newar_Female</th>\n",
       "      <th>Newar_Male</th>\n",
       "      <th>Other (MPB)_Female</th>\n",
       "      <th>Other (MPB)_Male</th>\n",
       "      <th>Other undefined_Female</th>\n",
       "      <th>Other undefined_Male</th>\n",
       "      <th>Tarai Janajati_Female</th>\n",
       "      <th>Tarai Janajati_Male</th>\n",
       "    </tr>\n",
       "  </thead>\n",
       "  <tbody>\n",
       "    <tr>\n",
       "      <th>0</th>\n",
       "      <td>Achham</td>\n",
       "      <td>Seti</td>\n",
       "      <td>Hill</td>\n",
       "      <td>Far-Western</td>\n",
       "      <td>0.378</td>\n",
       "      <td>0.0</td>\n",
       "      <td>0.0</td>\n",
       "      <td>13983.0</td>\n",
       "      <td>12289.0</td>\n",
       "      <td>79688.0</td>\n",
       "      <td>...</td>\n",
       "      <td>103.0</td>\n",
       "      <td>154.0</td>\n",
       "      <td>58.0</td>\n",
       "      <td>69.0</td>\n",
       "      <td>233.0</td>\n",
       "      <td>216.0</td>\n",
       "      <td>22847.0</td>\n",
       "      <td>18926.0</td>\n",
       "      <td>53.0</td>\n",
       "      <td>205.0</td>\n",
       "    </tr>\n",
       "    <tr>\n",
       "      <th>1</th>\n",
       "      <td>Arghakhanchi</td>\n",
       "      <td>Lumbini</td>\n",
       "      <td>Hill</td>\n",
       "      <td>Western</td>\n",
       "      <td>0.482</td>\n",
       "      <td>0.0</td>\n",
       "      <td>0.0</td>\n",
       "      <td>36806.0</td>\n",
       "      <td>27951.0</td>\n",
       "      <td>21721.0</td>\n",
       "      <td>...</td>\n",
       "      <td>954.0</td>\n",
       "      <td>819.0</td>\n",
       "      <td>3167.0</td>\n",
       "      <td>2361.0</td>\n",
       "      <td>0.0</td>\n",
       "      <td>0.0</td>\n",
       "      <td>126.0</td>\n",
       "      <td>99.0</td>\n",
       "      <td>60.0</td>\n",
       "      <td>174.0</td>\n",
       "    </tr>\n",
       "    <tr>\n",
       "      <th>2</th>\n",
       "      <td>Banke</td>\n",
       "      <td>Bheri</td>\n",
       "      <td>Terai</td>\n",
       "      <td>Mid-Western</td>\n",
       "      <td>0.475</td>\n",
       "      <td>130.0</td>\n",
       "      <td>154.0</td>\n",
       "      <td>16445.0</td>\n",
       "      <td>16212.0</td>\n",
       "      <td>49661.0</td>\n",
       "      <td>...</td>\n",
       "      <td>46054.0</td>\n",
       "      <td>47244.0</td>\n",
       "      <td>3204.0</td>\n",
       "      <td>3140.0</td>\n",
       "      <td>1176.0</td>\n",
       "      <td>1322.0</td>\n",
       "      <td>5858.0</td>\n",
       "      <td>6324.0</td>\n",
       "      <td>39360.0</td>\n",
       "      <td>38276.0</td>\n",
       "    </tr>\n",
       "    <tr>\n",
       "      <th>3</th>\n",
       "      <td>Baglung</td>\n",
       "      <td>Dhawalagiri</td>\n",
       "      <td>Hill</td>\n",
       "      <td>Western</td>\n",
       "      <td>0.478</td>\n",
       "      <td>5.0</td>\n",
       "      <td>7.0</td>\n",
       "      <td>29424.0</td>\n",
       "      <td>23059.0</td>\n",
       "      <td>31267.0</td>\n",
       "      <td>...</td>\n",
       "      <td>366.0</td>\n",
       "      <td>376.0</td>\n",
       "      <td>1540.0</td>\n",
       "      <td>1340.0</td>\n",
       "      <td>0.0</td>\n",
       "      <td>0.0</td>\n",
       "      <td>261.0</td>\n",
       "      <td>219.0</td>\n",
       "      <td>37.0</td>\n",
       "      <td>134.0</td>\n",
       "    </tr>\n",
       "    <tr>\n",
       "      <th>4</th>\n",
       "      <td>Baitadi</td>\n",
       "      <td>Mahakali</td>\n",
       "      <td>Hill</td>\n",
       "      <td>Far-Western</td>\n",
       "      <td>0.416</td>\n",
       "      <td>10.0</td>\n",
       "      <td>3.0</td>\n",
       "      <td>24954.0</td>\n",
       "      <td>21587.0</td>\n",
       "      <td>80630.0</td>\n",
       "      <td>...</td>\n",
       "      <td>3.0</td>\n",
       "      <td>18.0</td>\n",
       "      <td>57.0</td>\n",
       "      <td>64.0</td>\n",
       "      <td>23.0</td>\n",
       "      <td>11.0</td>\n",
       "      <td>8723.0</td>\n",
       "      <td>8081.0</td>\n",
       "      <td>136.0</td>\n",
       "      <td>114.0</td>\n",
       "    </tr>\n",
       "  </tbody>\n",
       "</table>\n",
       "<p>5 rows × 35 columns</p>\n",
       "</div>"
      ],
      "text/plain": [
       "      District          Zone Geographical Region Development Region   HDI   \\\n",
       "0        Achham         Seti                Hill        Far-Western  0.378   \n",
       "1  Arghakhanchi      Lumbini                Hill            Western  0.482   \n",
       "2         Banke        Bheri               Terai        Mid-Western  0.475   \n",
       "3       Baglung  Dhawalagiri                Hill            Western  0.478   \n",
       "4       Baitadi     Mahakali                Hill        Far-Western  0.416   \n",
       "\n",
       "   Foreigner_Female  Foreigner_Male  Hill Brahman_Female  Hill Brahman_Male  \\\n",
       "0               0.0             0.0              13983.0            12289.0   \n",
       "1               0.0             0.0              36806.0            27951.0   \n",
       "2             130.0           154.0              16445.0            16212.0   \n",
       "3               5.0             7.0              29424.0            23059.0   \n",
       "4              10.0             3.0              24954.0            21587.0   \n",
       "\n",
       "   Hill Chhetree_Female         ...           Musalman_Female  Musalman_Male  \\\n",
       "0               79688.0         ...                     103.0          154.0   \n",
       "1               21721.0         ...                     954.0          819.0   \n",
       "2               49661.0         ...                   46054.0        47244.0   \n",
       "3               31267.0         ...                     366.0          376.0   \n",
       "4               80630.0         ...                       3.0           18.0   \n",
       "\n",
       "   Newar_Female  Newar_Male  Other (MPB)_Female  Other (MPB)_Male  \\\n",
       "0          58.0        69.0               233.0             216.0   \n",
       "1        3167.0      2361.0                 0.0               0.0   \n",
       "2        3204.0      3140.0              1176.0            1322.0   \n",
       "3        1540.0      1340.0                 0.0               0.0   \n",
       "4          57.0        64.0                23.0              11.0   \n",
       "\n",
       "   Other undefined_Female  Other undefined_Male  Tarai Janajati_Female  \\\n",
       "0                 22847.0               18926.0                   53.0   \n",
       "1                   126.0                  99.0                   60.0   \n",
       "2                  5858.0                6324.0                39360.0   \n",
       "3                   261.0                 219.0                   37.0   \n",
       "4                  8723.0                8081.0                  136.0   \n",
       "\n",
       "   Tarai Janajati_Male  \n",
       "0                205.0  \n",
       "1                174.0  \n",
       "2              38276.0  \n",
       "3                134.0  \n",
       "4                114.0  \n",
       "\n",
       "[5 rows x 35 columns]"
      ]
     },
     "execution_count": 30,
     "metadata": {},
     "output_type": "execute_result"
    }
   ],
   "source": [
    "hdi_caste.head()"
   ]
  },
  {
   "cell_type": "code",
   "execution_count": 31,
   "metadata": {
    "collapsed": false
   },
   "outputs": [
    {
     "data": {
      "text/plain": [
       "array(['Hill', 'Terai', 'Mountain'], dtype=object)"
      ]
     },
     "execution_count": 31,
     "metadata": {},
     "output_type": "execute_result"
    }
   ],
   "source": [
    "hdi_caste['Geographical Region'].unique()"
   ]
  },
  {
   "cell_type": "code",
   "execution_count": 32,
   "metadata": {
    "collapsed": false
   },
   "outputs": [],
   "source": [
    "#url = 'http://www.arcgis.com/home/item.html?id=d4ad6faa446b42bd9f1d42407db7b5ba'\n",
    "#z = zipfile.ZipFile('Data/nepaldistricts.zip')\n",
    "#z.extractall('Data/')\n",
    "nepal = gpd.read_file('/Users/kristikorsberg/Downloads/NP_75DWGS84/NP_75DWGS84.shp')"
   ]
  },
  {
   "cell_type": "code",
   "execution_count": 33,
   "metadata": {
    "collapsed": false
   },
   "outputs": [],
   "source": [
    "nepal['area'] = nepal.area"
   ]
  },
  {
   "cell_type": "code",
   "execution_count": 34,
   "metadata": {
    "collapsed": false
   },
   "outputs": [],
   "source": [
    "nepal = nepal[['DISTRICT', 'geometry','area']]"
   ]
  },
  {
   "cell_type": "code",
   "execution_count": 35,
   "metadata": {
    "collapsed": false
   },
   "outputs": [
    {
     "data": {
      "text/html": [
       "<div>\n",
       "<table border=\"1\" class=\"dataframe\">\n",
       "  <thead>\n",
       "    <tr style=\"text-align: right;\">\n",
       "      <th></th>\n",
       "      <th>DISTRICT</th>\n",
       "      <th>geometry</th>\n",
       "      <th>area</th>\n",
       "    </tr>\n",
       "  </thead>\n",
       "  <tbody>\n",
       "    <tr>\n",
       "      <th>0</th>\n",
       "      <td>Taplejung</td>\n",
       "      <td>POLYGON ((87.83400591558305 27.95177382643147,...</td>\n",
       "      <td>0.331928</td>\n",
       "    </tr>\n",
       "    <tr>\n",
       "      <th>1</th>\n",
       "      <td>Panchthar</td>\n",
       "      <td>POLYGON ((88.07355798392611 27.43371902876805,...</td>\n",
       "      <td>0.113566</td>\n",
       "    </tr>\n",
       "  </tbody>\n",
       "</table>\n",
       "</div>"
      ],
      "text/plain": [
       "    DISTRICT                                           geometry      area\n",
       "0  Taplejung  POLYGON ((87.83400591558305 27.95177382643147,...  0.331928\n",
       "1  Panchthar  POLYGON ((88.07355798392611 27.43371902876805,...  0.113566"
      ]
     },
     "execution_count": 35,
     "metadata": {},
     "output_type": "execute_result"
    }
   ],
   "source": [
    "nepal.head(2)"
   ]
  },
  {
   "cell_type": "code",
   "execution_count": 36,
   "metadata": {
    "collapsed": false
   },
   "outputs": [
    {
     "data": {
      "text/plain": [
       "{'init': u'epsg:4326'}"
      ]
     },
     "execution_count": 36,
     "metadata": {},
     "output_type": "execute_result"
    }
   ],
   "source": [
    "nepal.crs"
   ]
  },
  {
   "cell_type": "code",
   "execution_count": 37,
   "metadata": {
    "collapsed": false
   },
   "outputs": [],
   "source": [
    "geo_df = pd.merge(hdi_caste, nepal, left_on='District ', right_on='DISTRICT')"
   ]
  },
  {
   "cell_type": "code",
   "execution_count": 38,
   "metadata": {
    "collapsed": false
   },
   "outputs": [
    {
     "data": {
      "text/html": [
       "<div>\n",
       "<table border=\"1\" class=\"dataframe\">\n",
       "  <thead>\n",
       "    <tr style=\"text-align: right;\">\n",
       "      <th></th>\n",
       "      <th>District</th>\n",
       "      <th>Zone</th>\n",
       "      <th>Geographical Region</th>\n",
       "      <th>Development Region</th>\n",
       "      <th>HDI</th>\n",
       "      <th>Foreigner_Female</th>\n",
       "      <th>Foreigner_Male</th>\n",
       "      <th>Hill Brahman_Female</th>\n",
       "      <th>Hill Brahman_Male</th>\n",
       "      <th>Hill Chhetree_Female</th>\n",
       "      <th>...</th>\n",
       "      <th>Newar_Male</th>\n",
       "      <th>Other (MPB)_Female</th>\n",
       "      <th>Other (MPB)_Male</th>\n",
       "      <th>Other undefined_Female</th>\n",
       "      <th>Other undefined_Male</th>\n",
       "      <th>Tarai Janajati_Female</th>\n",
       "      <th>Tarai Janajati_Male</th>\n",
       "      <th>DISTRICT</th>\n",
       "      <th>geometry</th>\n",
       "      <th>area</th>\n",
       "    </tr>\n",
       "  </thead>\n",
       "  <tbody>\n",
       "    <tr>\n",
       "      <th>0</th>\n",
       "      <td>Achham</td>\n",
       "      <td>Seti</td>\n",
       "      <td>Hill</td>\n",
       "      <td>Far-Western</td>\n",
       "      <td>0.378</td>\n",
       "      <td>0.0</td>\n",
       "      <td>0.0</td>\n",
       "      <td>13983.0</td>\n",
       "      <td>12289.0</td>\n",
       "      <td>79688.0</td>\n",
       "      <td>...</td>\n",
       "      <td>69.0</td>\n",
       "      <td>233.0</td>\n",
       "      <td>216.0</td>\n",
       "      <td>22847.0</td>\n",
       "      <td>18926.0</td>\n",
       "      <td>53.0</td>\n",
       "      <td>205.0</td>\n",
       "      <td>Achham</td>\n",
       "      <td>POLYGON ((81.17229242753619 29.38594791966788,...</td>\n",
       "      <td>0.157596</td>\n",
       "    </tr>\n",
       "    <tr>\n",
       "      <th>1</th>\n",
       "      <td>Arghakhanchi</td>\n",
       "      <td>Lumbini</td>\n",
       "      <td>Hill</td>\n",
       "      <td>Western</td>\n",
       "      <td>0.482</td>\n",
       "      <td>0.0</td>\n",
       "      <td>0.0</td>\n",
       "      <td>36806.0</td>\n",
       "      <td>27951.0</td>\n",
       "      <td>21721.0</td>\n",
       "      <td>...</td>\n",
       "      <td>2361.0</td>\n",
       "      <td>0.0</td>\n",
       "      <td>0.0</td>\n",
       "      <td>126.0</td>\n",
       "      <td>99.0</td>\n",
       "      <td>60.0</td>\n",
       "      <td>174.0</td>\n",
       "      <td>Arghakhanchi</td>\n",
       "      <td>POLYGON ((83.00438676076416 28.11207481910646,...</td>\n",
       "      <td>0.113578</td>\n",
       "    </tr>\n",
       "  </tbody>\n",
       "</table>\n",
       "<p>2 rows × 38 columns</p>\n",
       "</div>"
      ],
      "text/plain": [
       "      District      Zone Geographical Region Development Region   HDI   \\\n",
       "0        Achham     Seti                Hill        Far-Western  0.378   \n",
       "1  Arghakhanchi  Lumbini                Hill            Western  0.482   \n",
       "\n",
       "   Foreigner_Female  Foreigner_Male  Hill Brahman_Female  Hill Brahman_Male  \\\n",
       "0               0.0             0.0              13983.0            12289.0   \n",
       "1               0.0             0.0              36806.0            27951.0   \n",
       "\n",
       "   Hill Chhetree_Female    ...     Newar_Male  Other (MPB)_Female  \\\n",
       "0               79688.0    ...           69.0               233.0   \n",
       "1               21721.0    ...         2361.0                 0.0   \n",
       "\n",
       "   Other (MPB)_Male  Other undefined_Female  Other undefined_Male  \\\n",
       "0             216.0                 22847.0               18926.0   \n",
       "1               0.0                   126.0                  99.0   \n",
       "\n",
       "   Tarai Janajati_Female  Tarai Janajati_Male      DISTRICT  \\\n",
       "0                   53.0                205.0        Achham   \n",
       "1                   60.0                174.0  Arghakhanchi   \n",
       "\n",
       "                                            geometry      area  \n",
       "0  POLYGON ((81.17229242753619 29.38594791966788,...  0.157596  \n",
       "1  POLYGON ((83.00438676076416 28.11207481910646,...  0.113578  \n",
       "\n",
       "[2 rows x 38 columns]"
      ]
     },
     "execution_count": 38,
     "metadata": {},
     "output_type": "execute_result"
    }
   ],
   "source": [
    "geo_df = gpd.GeoDataFrame(geo_df, geometry=geo_df['geometry'])\n",
    "geo_df.crs = {'init' :'epsg:4326'}\n",
    "geo_df.head(2)"
   ]
  },
  {
   "cell_type": "code",
   "execution_count": 39,
   "metadata": {
    "collapsed": false
   },
   "outputs": [
    {
     "data": {
      "text/plain": [
       "<matplotlib.colorbar.Colorbar at 0x11749d7d0>"
      ]
     },
     "execution_count": 39,
     "metadata": {},
     "output_type": "execute_result"
    },
    {
     "data": {
      "image/png": "[encoded data removed]",
      "text/plain": [
       "<matplotlib.figure.Figure at 0x114f5e150>"
      ]
     },
     "metadata": {},
     "output_type": "display_data"
    }
   ],
   "source": [
    "f, (ax1) = plt.subplots(figsize=(12,8))\n",
    "geo_df.plot(column='HDI ',cmap='gnuplot',alpha=.9,linewidth=0.4,ax=ax1)\n",
    "ax1.set_title(\"Nepal HDI Map\", fontsize=20)\n",
    "geo_df.plot(alpha=0.01, linewidth=0.25, ax=ax1)\n",
    "\n",
    "vmin, vmax = min(geo_df['HDI '].values), \\\n",
    "            max(geo_df['HDI '].values)\n",
    "\n",
    "fig = ax1.get_figure()\n",
    "cax = fig.add_axes([0.9, 0.1, 0.03, 0.8])\n",
    "sm = plt.cm.ScalarMappable(cmap='gnuplot', norm=plt.Normalize(vmin=vmin, vmax=vmax))\n",
    "sm._A = []\n",
    "fig.colorbar(sm, cax=cax)"
   ]
  },
  {
   "cell_type": "code",
   "execution_count": 40,
   "metadata": {
    "collapsed": true
   },
   "outputs": [],
   "source": [
    "geo_df2 = pd.merge(hdi_caste2, nepal, left_on='District ', right_on='DISTRICT')"
   ]
  },
  {
   "cell_type": "code",
   "execution_count": 41,
   "metadata": {
    "collapsed": false
   },
   "outputs": [
    {
     "data": {
      "text/html": [
       "<div>\n",
       "<table border=\"1\" class=\"dataframe\">\n",
       "  <thead>\n",
       "    <tr style=\"text-align: right;\">\n",
       "      <th></th>\n",
       "      <th>District</th>\n",
       "      <th>Zone</th>\n",
       "      <th>Geographical Region</th>\n",
       "      <th>Development Region</th>\n",
       "      <th>HDI</th>\n",
       "      <th>Foreigner</th>\n",
       "      <th>Hill Brahman</th>\n",
       "      <th>Hill Chhetree</th>\n",
       "      <th>Hill Dalit</th>\n",
       "      <th>Madhesi Brahman/Chhetree</th>\n",
       "      <th>...</th>\n",
       "      <th>Mtn/Hill Janajati A</th>\n",
       "      <th>Mtn/Hill Janajati B</th>\n",
       "      <th>Musalman</th>\n",
       "      <th>Newar</th>\n",
       "      <th>Other (MPB)</th>\n",
       "      <th>Other undefined</th>\n",
       "      <th>Tarai Janajati</th>\n",
       "      <th>DISTRICT</th>\n",
       "      <th>geometry</th>\n",
       "      <th>area</th>\n",
       "    </tr>\n",
       "  </thead>\n",
       "  <tbody>\n",
       "    <tr>\n",
       "      <th>0</th>\n",
       "      <td>Achham</td>\n",
       "      <td>Seti</td>\n",
       "      <td>Hill</td>\n",
       "      <td>Far-Western</td>\n",
       "      <td>0.378</td>\n",
       "      <td>0.0</td>\n",
       "      <td>26272.0</td>\n",
       "      <td>149787.0</td>\n",
       "      <td>34800.0</td>\n",
       "      <td>26.0</td>\n",
       "      <td>...</td>\n",
       "      <td>1782.0</td>\n",
       "      <td>679.0</td>\n",
       "      <td>257.0</td>\n",
       "      <td>127.0</td>\n",
       "      <td>449.0</td>\n",
       "      <td>41773.0</td>\n",
       "      <td>258.0</td>\n",
       "      <td>Achham</td>\n",
       "      <td>POLYGON ((81.17229242753619 29.38594791966788,...</td>\n",
       "      <td>0.157596</td>\n",
       "    </tr>\n",
       "    <tr>\n",
       "      <th>1</th>\n",
       "      <td>Arghakhanchi</td>\n",
       "      <td>Lumbini</td>\n",
       "      <td>Hill</td>\n",
       "      <td>Western</td>\n",
       "      <td>0.482</td>\n",
       "      <td>0.0</td>\n",
       "      <td>64757.0</td>\n",
       "      <td>38192.0</td>\n",
       "      <td>41309.0</td>\n",
       "      <td>317.0</td>\n",
       "      <td>...</td>\n",
       "      <td>38212.0</td>\n",
       "      <td>6863.0</td>\n",
       "      <td>1773.0</td>\n",
       "      <td>5528.0</td>\n",
       "      <td>0.0</td>\n",
       "      <td>225.0</td>\n",
       "      <td>234.0</td>\n",
       "      <td>Arghakhanchi</td>\n",
       "      <td>POLYGON ((83.00438676076416 28.11207481910646,...</td>\n",
       "      <td>0.113578</td>\n",
       "    </tr>\n",
       "  </tbody>\n",
       "</table>\n",
       "<p>2 rows × 23 columns</p>\n",
       "</div>"
      ],
      "text/plain": [
       "      District      Zone Geographical Region Development Region   HDI   \\\n",
       "0        Achham     Seti                Hill        Far-Western  0.378   \n",
       "1  Arghakhanchi  Lumbini                Hill            Western  0.482   \n",
       "\n",
       "   Foreigner  Hill Brahman  Hill Chhetree  Hill Dalit  \\\n",
       "0        0.0       26272.0       149787.0     34800.0   \n",
       "1        0.0       64757.0        38192.0     41309.0   \n",
       "\n",
       "   Madhesi Brahman/Chhetree    ...     Mtn/Hill Janajati A  \\\n",
       "0                      26.0    ...                  1782.0   \n",
       "1                     317.0    ...                 38212.0   \n",
       "\n",
       "   Mtn/Hill Janajati B  Musalman   Newar  Other (MPB)  Other undefined  \\\n",
       "0                679.0     257.0   127.0        449.0          41773.0   \n",
       "1               6863.0    1773.0  5528.0          0.0            225.0   \n",
       "\n",
       "   Tarai Janajati      DISTRICT  \\\n",
       "0           258.0        Achham   \n",
       "1           234.0  Arghakhanchi   \n",
       "\n",
       "                                            geometry      area  \n",
       "0  POLYGON ((81.17229242753619 29.38594791966788,...  0.157596  \n",
       "1  POLYGON ((83.00438676076416 28.11207481910646,...  0.113578  \n",
       "\n",
       "[2 rows x 23 columns]"
      ]
     },
     "execution_count": 41,
     "metadata": {},
     "output_type": "execute_result"
    }
   ],
   "source": [
    "geo_df2 = gpd.GeoDataFrame(geo_df2, geometry=geo_df['geometry'])\n",
    "geo_df2.crs = {'init' :'epsg:4326'}\n",
    "geo_df2.head(2)"
   ]
  },
  {
   "cell_type": "code",
   "execution_count": 42,
   "metadata": {
    "collapsed": false
   },
   "outputs": [],
   "source": [
    "geo_df2 = geo_df2.drop(['Zone', 'Geographical Region', 'Development Region', 'DISTRICT'],axis=1)"
   ]
  },
  {
   "cell_type": "code",
   "execution_count": 43,
   "metadata": {
    "collapsed": true
   },
   "outputs": [],
   "source": [
    "master = pd.read_csv('Data/master.csv')"
   ]
  },
  {
   "cell_type": "code",
   "execution_count": 44,
   "metadata": {
    "collapsed": false
   },
   "outputs": [],
   "source": [
    "master = master[['Total Population','Unnamed: 0']]\n",
    "master = master.rename(columns={'Unnamed: 0':'District'})"
   ]
  },
  {
   "cell_type": "code",
   "execution_count": 45,
   "metadata": {
    "collapsed": false
   },
   "outputs": [
    {
     "name": "stdout",
     "output_type": "stream",
     "text": [
      "Total Population    float64\n",
      "District             object\n",
      "dtype: object\n",
      "District                     object\n",
      "HDI                         float64\n",
      "Foreigner                   float64\n",
      "Hill Brahman                float64\n",
      "Hill Chhetree               float64\n",
      "Hill Dalit                  float64\n",
      "Madhesi Brahman/Chhetree    float64\n",
      "Madhesi Dalit               float64\n",
      "Madhesi Other - OC A        float64\n",
      "Madhesi Other - OC B        float64\n",
      "Mtn/Hill Janajati A         float64\n",
      "Mtn/Hill Janajati B         float64\n",
      "Musalman                    float64\n",
      "Newar                       float64\n",
      "Other (MPB)                 float64\n",
      "Other undefined             float64\n",
      "Tarai Janajati              float64\n",
      "geometry                     object\n",
      "area                        float64\n",
      "dtype: object\n"
     ]
    }
   ],
   "source": [
    "print master.dtypes\n",
    "print geo_df2.dtypes"
   ]
  },
  {
   "cell_type": "code",
   "execution_count": 46,
   "metadata": {
    "collapsed": false
   },
   "outputs": [],
   "source": [
    "normed = pd.merge(geo_df2, master, left_on='District ', right_on='District')\n",
    "normed = normed.drop('District ',axis=1)"
   ]
  },
  {
   "cell_type": "code",
   "execution_count": 47,
   "metadata": {
    "collapsed": false
   },
   "outputs": [
    {
     "data": {
      "text/html": [
       "<div>\n",
       "<table border=\"1\" class=\"dataframe\">\n",
       "  <thead>\n",
       "    <tr style=\"text-align: right;\">\n",
       "      <th></th>\n",
       "      <th>HDI</th>\n",
       "      <th>Foreigner</th>\n",
       "      <th>Hill Brahman</th>\n",
       "      <th>Hill Chhetree</th>\n",
       "      <th>Hill Dalit</th>\n",
       "      <th>Madhesi Brahman/Chhetree</th>\n",
       "      <th>Madhesi Dalit</th>\n",
       "      <th>Madhesi Other - OC A</th>\n",
       "      <th>Madhesi Other - OC B</th>\n",
       "      <th>Mtn/Hill Janajati A</th>\n",
       "      <th>Mtn/Hill Janajati B</th>\n",
       "      <th>Musalman</th>\n",
       "      <th>Newar</th>\n",
       "      <th>Other (MPB)</th>\n",
       "      <th>Other undefined</th>\n",
       "      <th>Tarai Janajati</th>\n",
       "      <th>geometry</th>\n",
       "      <th>area</th>\n",
       "      <th>Total Population</th>\n",
       "      <th>District</th>\n",
       "    </tr>\n",
       "  </thead>\n",
       "  <tbody>\n",
       "    <tr>\n",
       "      <th>0</th>\n",
       "      <td>0.378</td>\n",
       "      <td>0.0</td>\n",
       "      <td>26272.0</td>\n",
       "      <td>149787.0</td>\n",
       "      <td>34800.0</td>\n",
       "      <td>26.0</td>\n",
       "      <td>0.0</td>\n",
       "      <td>1267.0</td>\n",
       "      <td>0.0</td>\n",
       "      <td>1782.0</td>\n",
       "      <td>679.0</td>\n",
       "      <td>257.0</td>\n",
       "      <td>127.0</td>\n",
       "      <td>449.0</td>\n",
       "      <td>41773.0</td>\n",
       "      <td>258.0</td>\n",
       "      <td>POLYGON ((81.17229242753619 29.38594791966788,...</td>\n",
       "      <td>0.157596</td>\n",
       "      <td>272064.0</td>\n",
       "      <td>Achham</td>\n",
       "    </tr>\n",
       "    <tr>\n",
       "      <th>1</th>\n",
       "      <td>0.482</td>\n",
       "      <td>0.0</td>\n",
       "      <td>64757.0</td>\n",
       "      <td>38192.0</td>\n",
       "      <td>41309.0</td>\n",
       "      <td>317.0</td>\n",
       "      <td>13.0</td>\n",
       "      <td>209.0</td>\n",
       "      <td>0.0</td>\n",
       "      <td>38212.0</td>\n",
       "      <td>6863.0</td>\n",
       "      <td>1773.0</td>\n",
       "      <td>5528.0</td>\n",
       "      <td>0.0</td>\n",
       "      <td>225.0</td>\n",
       "      <td>234.0</td>\n",
       "      <td>POLYGON ((83.00438676076416 28.11207481910646,...</td>\n",
       "      <td>0.113578</td>\n",
       "      <td>244257.0</td>\n",
       "      <td>Arghakhanchi</td>\n",
       "    </tr>\n",
       "    <tr>\n",
       "      <th>2</th>\n",
       "      <td>0.475</td>\n",
       "      <td>284.0</td>\n",
       "      <td>32657.0</td>\n",
       "      <td>95423.0</td>\n",
       "      <td>33385.0</td>\n",
       "      <td>7562.0</td>\n",
       "      <td>21416.0</td>\n",
       "      <td>61535.0</td>\n",
       "      <td>11062.0</td>\n",
       "      <td>32853.0</td>\n",
       "      <td>3166.0</td>\n",
       "      <td>93298.0</td>\n",
       "      <td>6344.0</td>\n",
       "      <td>2498.0</td>\n",
       "      <td>12182.0</td>\n",
       "      <td>77636.0</td>\n",
       "      <td>POLYGON ((81.68570664532412 28.33800927472859,...</td>\n",
       "      <td>0.172655</td>\n",
       "      <td>484266.0</td>\n",
       "      <td>Banke</td>\n",
       "    </tr>\n",
       "    <tr>\n",
       "      <th>3</th>\n",
       "      <td>0.478</td>\n",
       "      <td>12.0</td>\n",
       "      <td>52483.0</td>\n",
       "      <td>55227.0</td>\n",
       "      <td>70707.0</td>\n",
       "      <td>313.0</td>\n",
       "      <td>0.0</td>\n",
       "      <td>249.0</td>\n",
       "      <td>0.0</td>\n",
       "      <td>82780.0</td>\n",
       "      <td>2569.0</td>\n",
       "      <td>742.0</td>\n",
       "      <td>2880.0</td>\n",
       "      <td>0.0</td>\n",
       "      <td>480.0</td>\n",
       "      <td>171.0</td>\n",
       "      <td>POLYGON ((83.0995479013139 28.63461191368992, ...</td>\n",
       "      <td>0.168926</td>\n",
       "      <td>315702.0</td>\n",
       "      <td>Baglung</td>\n",
       "    </tr>\n",
       "    <tr>\n",
       "      <th>4</th>\n",
       "      <td>0.416</td>\n",
       "      <td>13.0</td>\n",
       "      <td>46541.0</td>\n",
       "      <td>151517.0</td>\n",
       "      <td>20863.0</td>\n",
       "      <td>404.0</td>\n",
       "      <td>32.0</td>\n",
       "      <td>13172.0</td>\n",
       "      <td>0.0</td>\n",
       "      <td>971.0</td>\n",
       "      <td>155.0</td>\n",
       "      <td>21.0</td>\n",
       "      <td>121.0</td>\n",
       "      <td>34.0</td>\n",
       "      <td>16804.0</td>\n",
       "      <td>250.0</td>\n",
       "      <td>POLYGON ((80.75732036088453 29.70588803774486,...</td>\n",
       "      <td>0.138882</td>\n",
       "      <td>275839.0</td>\n",
       "      <td>Baitadi</td>\n",
       "    </tr>\n",
       "  </tbody>\n",
       "</table>\n",
       "</div>"
      ],
      "text/plain": [
       "    HDI   Foreigner  Hill Brahman  Hill Chhetree  Hill Dalit  \\\n",
       "0  0.378        0.0       26272.0       149787.0     34800.0   \n",
       "1  0.482        0.0       64757.0        38192.0     41309.0   \n",
       "2  0.475      284.0       32657.0        95423.0     33385.0   \n",
       "3  0.478       12.0       52483.0        55227.0     70707.0   \n",
       "4  0.416       13.0       46541.0       151517.0     20863.0   \n",
       "\n",
       "   Madhesi Brahman/Chhetree  Madhesi Dalit  Madhesi Other - OC A  \\\n",
       "0                      26.0            0.0                1267.0   \n",
       "1                     317.0           13.0                 209.0   \n",
       "2                    7562.0        21416.0               61535.0   \n",
       "3                     313.0            0.0                 249.0   \n",
       "4                     404.0           32.0               13172.0   \n",
       "\n",
       "   Madhesi Other - OC B  Mtn/Hill Janajati A  Mtn/Hill Janajati B  Musalman  \\\n",
       "0                   0.0               1782.0                679.0     257.0   \n",
       "1                   0.0              38212.0               6863.0    1773.0   \n",
       "2               11062.0              32853.0               3166.0   93298.0   \n",
       "3                   0.0              82780.0               2569.0     742.0   \n",
       "4                   0.0                971.0                155.0      21.0   \n",
       "\n",
       "    Newar  Other (MPB)  Other undefined  Tarai Janajati  \\\n",
       "0   127.0        449.0          41773.0           258.0   \n",
       "1  5528.0          0.0            225.0           234.0   \n",
       "2  6344.0       2498.0          12182.0         77636.0   \n",
       "3  2880.0          0.0            480.0           171.0   \n",
       "4   121.0         34.0          16804.0           250.0   \n",
       "\n",
       "                                            geometry      area  \\\n",
       "0  POLYGON ((81.17229242753619 29.38594791966788,...  0.157596   \n",
       "1  POLYGON ((83.00438676076416 28.11207481910646,...  0.113578   \n",
       "2  POLYGON ((81.68570664532412 28.33800927472859,...  0.172655   \n",
       "3  POLYGON ((83.0995479013139 28.63461191368992, ...  0.168926   \n",
       "4  POLYGON ((80.75732036088453 29.70588803774486,...  0.138882   \n",
       "\n",
       "   Total Population      District  \n",
       "0          272064.0        Achham  \n",
       "1          244257.0  Arghakhanchi  \n",
       "2          484266.0         Banke  \n",
       "3          315702.0       Baglung  \n",
       "4          275839.0       Baitadi  "
      ]
     },
     "execution_count": 47,
     "metadata": {},
     "output_type": "execute_result"
    }
   ],
   "source": [
    "normed.head()"
   ]
  },
  {
   "cell_type": "code",
   "execution_count": 48,
   "metadata": {
    "collapsed": false
   },
   "outputs": [],
   "source": [
    "normed.iloc[:,[1, 2, 3, 4, 5, 6, 7, 8, 9, 10, 11, 12, 13, 14, 15]] = normed.iloc[:,[1, 2, 3, 4, 5, 6, 7, 8, 9, 10, 11, 12, 13, 14, 15]].div(normed['Total Population'], axis=0)"
   ]
  },
  {
   "cell_type": "code",
   "execution_count": 49,
   "metadata": {
    "collapsed": false
   },
   "outputs": [],
   "source": [
    "normed = normed[normed.columns[::-1]]"
   ]
  },
  {
   "cell_type": "code",
   "execution_count": 50,
   "metadata": {
    "collapsed": false
   },
   "outputs": [
    {
     "data": {
      "text/html": [
       "<div>\n",
       "<table border=\"1\" class=\"dataframe\">\n",
       "  <thead>\n",
       "    <tr style=\"text-align: right;\">\n",
       "      <th></th>\n",
       "      <th>District</th>\n",
       "      <th>Total Population</th>\n",
       "      <th>area</th>\n",
       "      <th>geometry</th>\n",
       "      <th>Tarai Janajati</th>\n",
       "      <th>Other undefined</th>\n",
       "      <th>Other (MPB)</th>\n",
       "      <th>Newar</th>\n",
       "      <th>Musalman</th>\n",
       "      <th>Mtn/Hill Janajati B</th>\n",
       "      <th>Mtn/Hill Janajati A</th>\n",
       "      <th>Madhesi Other - OC B</th>\n",
       "      <th>Madhesi Other - OC A</th>\n",
       "      <th>Madhesi Dalit</th>\n",
       "      <th>Madhesi Brahman/Chhetree</th>\n",
       "      <th>Hill Dalit</th>\n",
       "      <th>Hill Chhetree</th>\n",
       "      <th>Hill Brahman</th>\n",
       "      <th>Foreigner</th>\n",
       "      <th>HDI</th>\n",
       "    </tr>\n",
       "  </thead>\n",
       "  <tbody>\n",
       "    <tr>\n",
       "      <th>0</th>\n",
       "      <td>Achham</td>\n",
       "      <td>272064.0</td>\n",
       "      <td>0.157596</td>\n",
       "      <td>POLYGON ((81.17229242753619 29.38594791966788,...</td>\n",
       "      <td>0.000948</td>\n",
       "      <td>0.153541</td>\n",
       "      <td>0.00165</td>\n",
       "      <td>0.000467</td>\n",
       "      <td>0.000945</td>\n",
       "      <td>0.002496</td>\n",
       "      <td>0.006550</td>\n",
       "      <td>0.0</td>\n",
       "      <td>0.004657</td>\n",
       "      <td>0.000000</td>\n",
       "      <td>0.000096</td>\n",
       "      <td>0.127911</td>\n",
       "      <td>0.550558</td>\n",
       "      <td>0.096566</td>\n",
       "      <td>0.0</td>\n",
       "      <td>0.378</td>\n",
       "    </tr>\n",
       "    <tr>\n",
       "      <th>1</th>\n",
       "      <td>Arghakhanchi</td>\n",
       "      <td>244257.0</td>\n",
       "      <td>0.113578</td>\n",
       "      <td>POLYGON ((83.00438676076416 28.11207481910646,...</td>\n",
       "      <td>0.000958</td>\n",
       "      <td>0.000921</td>\n",
       "      <td>0.00000</td>\n",
       "      <td>0.022632</td>\n",
       "      <td>0.007259</td>\n",
       "      <td>0.028097</td>\n",
       "      <td>0.156442</td>\n",
       "      <td>0.0</td>\n",
       "      <td>0.000856</td>\n",
       "      <td>0.000053</td>\n",
       "      <td>0.001298</td>\n",
       "      <td>0.169121</td>\n",
       "      <td>0.156360</td>\n",
       "      <td>0.265118</td>\n",
       "      <td>0.0</td>\n",
       "      <td>0.482</td>\n",
       "    </tr>\n",
       "  </tbody>\n",
       "</table>\n",
       "</div>"
      ],
      "text/plain": [
       "       District  Total Population      area  \\\n",
       "0        Achham          272064.0  0.157596   \n",
       "1  Arghakhanchi          244257.0  0.113578   \n",
       "\n",
       "                                            geometry  Tarai Janajati  \\\n",
       "0  POLYGON ((81.17229242753619 29.38594791966788,...        0.000948   \n",
       "1  POLYGON ((83.00438676076416 28.11207481910646,...        0.000958   \n",
       "\n",
       "   Other undefined  Other (MPB)     Newar  Musalman  Mtn/Hill Janajati B  \\\n",
       "0         0.153541      0.00165  0.000467  0.000945             0.002496   \n",
       "1         0.000921      0.00000  0.022632  0.007259             0.028097   \n",
       "\n",
       "   Mtn/Hill Janajati A  Madhesi Other - OC B  Madhesi Other - OC A  \\\n",
       "0             0.006550                   0.0              0.004657   \n",
       "1             0.156442                   0.0              0.000856   \n",
       "\n",
       "   Madhesi Dalit  Madhesi Brahman/Chhetree  Hill Dalit  Hill Chhetree  \\\n",
       "0       0.000000                  0.000096    0.127911       0.550558   \n",
       "1       0.000053                  0.001298    0.169121       0.156360   \n",
       "\n",
       "   Hill Brahman  Foreigner   HDI   \n",
       "0      0.096566        0.0  0.378  \n",
       "1      0.265118        0.0  0.482  "
      ]
     },
     "execution_count": 50,
     "metadata": {},
     "output_type": "execute_result"
    }
   ],
   "source": [
    "normed.head(2)"
   ]
  },
  {
   "cell_type": "code",
   "execution_count": 51,
   "metadata": {
    "collapsed": true
   },
   "outputs": [],
   "source": [
    "normed = normed.dropna()"
   ]
  },
  {
   "cell_type": "code",
   "execution_count": 52,
   "metadata": {
    "collapsed": true
   },
   "outputs": [],
   "source": [
    "from sklearn.cluster import KMeans\n",
    "from scipy.spatial.distance import cdist, pdist\n",
    "import numpy as np"
   ]
  },
  {
   "cell_type": "code",
   "execution_count": 53,
   "metadata": {
    "collapsed": true
   },
   "outputs": [],
   "source": [
    "X = normed.iloc[:,4:]"
   ]
  },
  {
   "cell_type": "code",
   "execution_count": 54,
   "metadata": {
    "collapsed": true
   },
   "outputs": [],
   "source": [
    "def elbow(data,K):\n",
    "#data is your input as numpy form\n",
    "#K is a list of number of clusters you would like to show.\n",
    "    # Run the KMeans model and save all the results for each number of clusters\n",
    "    KM = [KMeans(n_clusters=k).fit(data) for k in K]\n",
    "    \n",
    "    # Save the centroids for each model with a increasing k\n",
    "    centroids = [k.cluster_centers_ for k in KM]\n",
    "\n",
    "    # For each k, get the distance between the data with each center. \n",
    "    D_k = [cdist(data, cent, 'euclidean') for cent in centroids]\n",
    "    \n",
    "    # But we only need the distance to the nearest centroid since we only calculate dist(x,ci) for its own cluster.\n",
    "    globals()['dist'] = [np.min(D,axis=1) for D in D_k]\n",
    "    \n",
    "    # Calculate the Average SSE.\n",
    "    avgWithinSS = [sum(d)/data.shape[0] for d in dist]\n",
    "    \n",
    "    \n",
    "    # elbow curve\n",
    "    fig = plt.figure()\n",
    "    ax = fig.add_subplot(111)\n",
    "    ax.plot(K, avgWithinSS, 'b*-')\n",
    "    plt.grid(True)\n",
    "    plt.xlabel('Number of clusters')\n",
    "    plt.ylabel('Average within-cluster sum of squares')\n",
    "    plt.title('Elbow for KMeans clustering')\n",
    "    plt.show()"
   ]
  },
  {
   "cell_type": "code",
   "execution_count": 55,
   "metadata": {
    "collapsed": false
   },
   "outputs": [
    {
     "data": {
      "image/png": "[encoded data removed]",
      "text/plain": [
       "<matplotlib.figure.Figure at 0x11bbbd650>"
      ]
     },
     "metadata": {},
     "output_type": "display_data"
    }
   ],
   "source": [
    "elbow(X, range(1,30))"
   ]
  },
  {
   "cell_type": "code",
   "execution_count": 56,
   "metadata": {
    "collapsed": false
   },
   "outputs": [],
   "source": [
    "n = 7\n",
    "km = KMeans(n_clusters=n, random_state=324)\n",
    "km.fit(X)\n",
    "features_stand_KM = km.predict(X)\n",
    "centers = km.cluster_centers_\n",
    "labels = km.labels_"
   ]
  },
  {
   "cell_type": "code",
   "execution_count": 57,
   "metadata": {
    "collapsed": false
   },
   "outputs": [],
   "source": [
    "normed['labels'] = labels"
   ]
  },
  {
   "cell_type": "code",
   "execution_count": 58,
   "metadata": {
    "collapsed": false
   },
   "outputs": [
    {
     "data": {
      "text/plain": [
       "geopandas.geodataframe.GeoDataFrame"
      ]
     },
     "execution_count": 58,
     "metadata": {},
     "output_type": "execute_result"
    }
   ],
   "source": [
    "type(normed)"
   ]
  },
  {
   "cell_type": "code",
   "execution_count": 59,
   "metadata": {
    "collapsed": false
   },
   "outputs": [
    {
     "data": {
      "text/plain": [
       "<matplotlib.axes._subplots.AxesSubplot at 0x11bc34490>"
      ]
     },
     "execution_count": 59,
     "metadata": {},
     "output_type": "execute_result"
    },
    {
     "data": {
      "image/png": "[encoded data removed]",
      "text/plain": [
       "<matplotlib.figure.Figure at 0x11bc42590>"
      ]
     },
     "metadata": {},
     "output_type": "display_data"
    }
   ],
   "source": [
    "f, (ax1) = plt.subplots(figsize=(12,8))\n",
    "normed.plot(column='labels',cmap='gnuplot',alpha=.9,linewidth=0.4,ax=ax1)\n",
    "ax1.set_title('Nepal Clustered by Caste/Ethnicity', fontsize=20)\n",
    "normed.plot(alpha=0.01, linewidth=0.25, ax=ax1)"
   ]
  },
  {
   "cell_type": "code",
   "execution_count": 60,
   "metadata": {
    "collapsed": true
   },
   "outputs": [],
   "source": [
    "n = 5\n",
    "km = KMeans(n_clusters=n, random_state=324)\n",
    "km.fit(X)\n",
    "features_stand_KM = km.predict(X)\n",
    "centers = km.cluster_centers_\n",
    "labels = km.labels_"
   ]
  },
  {
   "cell_type": "code",
   "execution_count": 61,
   "metadata": {
    "collapsed": true
   },
   "outputs": [],
   "source": [
    "normed['labels'] = labels"
   ]
  },
  {
   "cell_type": "code",
   "execution_count": 62,
   "metadata": {
    "collapsed": false
   },
   "outputs": [
    {
     "data": {
      "text/plain": [
       "<matplotlib.axes._subplots.AxesSubplot at 0x11daeed90>"
      ]
     },
     "execution_count": 62,
     "metadata": {},
     "output_type": "execute_result"
    },
    {
     "data": {
      "image/png": "[encoded data removed]",
      "text/plain": [
       "<matplotlib.figure.Figure at 0x11daee110>"
      ]
     },
     "metadata": {},
     "output_type": "display_data"
    }
   ],
   "source": [
    "f, (ax1) = plt.subplots(figsize=(12,8))\n",
    "normed.plot(column='labels',cmap='gnuplot',alpha=.9,linewidth=0.4,ax=ax1)\n",
    "ax1.set_title('Nepal Clustered by Caste/Ethnicity', fontsize=20)\n",
    "normed.plot(alpha=0.01, linewidth=0.25, ax=ax1)"
   ]
  },
  {
   "cell_type": "code",
   "execution_count": 63,
   "metadata": {
    "collapsed": false
   },
   "outputs": [
    {
     "data": {
      "text/html": [
       "<div>\n",
       "<table border=\"1\" class=\"dataframe\">\n",
       "  <thead>\n",
       "    <tr style=\"text-align: right;\">\n",
       "      <th></th>\n",
       "      <th>District</th>\n",
       "      <th>Total Population</th>\n",
       "      <th>area</th>\n",
       "      <th>geometry</th>\n",
       "      <th>Tarai Janajati</th>\n",
       "      <th>Other undefined</th>\n",
       "      <th>Other (MPB)</th>\n",
       "      <th>Newar</th>\n",
       "      <th>Musalman</th>\n",
       "      <th>Mtn/Hill Janajati B</th>\n",
       "      <th>...</th>\n",
       "      <th>Madhesi Other - OC B</th>\n",
       "      <th>Madhesi Other - OC A</th>\n",
       "      <th>Madhesi Dalit</th>\n",
       "      <th>Madhesi Brahman/Chhetree</th>\n",
       "      <th>Hill Dalit</th>\n",
       "      <th>Hill Chhetree</th>\n",
       "      <th>Hill Brahman</th>\n",
       "      <th>Foreigner</th>\n",
       "      <th>HDI</th>\n",
       "      <th>labels</th>\n",
       "    </tr>\n",
       "  </thead>\n",
       "  <tbody>\n",
       "    <tr>\n",
       "      <th>0</th>\n",
       "      <td>Achham</td>\n",
       "      <td>272064.0</td>\n",
       "      <td>0.157596</td>\n",
       "      <td>POLYGON ((81.17229242753619 29.38594791966788,...</td>\n",
       "      <td>0.000948</td>\n",
       "      <td>0.153541</td>\n",
       "      <td>0.00165</td>\n",
       "      <td>0.000467</td>\n",
       "      <td>0.000945</td>\n",
       "      <td>0.002496</td>\n",
       "      <td>...</td>\n",
       "      <td>0.0</td>\n",
       "      <td>0.004657</td>\n",
       "      <td>0.000000</td>\n",
       "      <td>0.000096</td>\n",
       "      <td>0.127911</td>\n",
       "      <td>0.550558</td>\n",
       "      <td>0.096566</td>\n",
       "      <td>0.0</td>\n",
       "      <td>0.378</td>\n",
       "      <td>0</td>\n",
       "    </tr>\n",
       "    <tr>\n",
       "      <th>1</th>\n",
       "      <td>Arghakhanchi</td>\n",
       "      <td>244257.0</td>\n",
       "      <td>0.113578</td>\n",
       "      <td>POLYGON ((83.00438676076416 28.11207481910646,...</td>\n",
       "      <td>0.000958</td>\n",
       "      <td>0.000921</td>\n",
       "      <td>0.00000</td>\n",
       "      <td>0.022632</td>\n",
       "      <td>0.007259</td>\n",
       "      <td>0.028097</td>\n",
       "      <td>...</td>\n",
       "      <td>0.0</td>\n",
       "      <td>0.000856</td>\n",
       "      <td>0.000053</td>\n",
       "      <td>0.001298</td>\n",
       "      <td>0.169121</td>\n",
       "      <td>0.156360</td>\n",
       "      <td>0.265118</td>\n",
       "      <td>0.0</td>\n",
       "      <td>0.482</td>\n",
       "      <td>1</td>\n",
       "    </tr>\n",
       "  </tbody>\n",
       "</table>\n",
       "<p>2 rows × 21 columns</p>\n",
       "</div>"
      ],
      "text/plain": [
       "       District  Total Population      area  \\\n",
       "0        Achham          272064.0  0.157596   \n",
       "1  Arghakhanchi          244257.0  0.113578   \n",
       "\n",
       "                                            geometry  Tarai Janajati  \\\n",
       "0  POLYGON ((81.17229242753619 29.38594791966788,...        0.000948   \n",
       "1  POLYGON ((83.00438676076416 28.11207481910646,...        0.000958   \n",
       "\n",
       "   Other undefined  Other (MPB)     Newar  Musalman  Mtn/Hill Janajati B  \\\n",
       "0         0.153541      0.00165  0.000467  0.000945             0.002496   \n",
       "1         0.000921      0.00000  0.022632  0.007259             0.028097   \n",
       "\n",
       "    ...    Madhesi Other - OC B  Madhesi Other - OC A  Madhesi Dalit  \\\n",
       "0   ...                     0.0              0.004657       0.000000   \n",
       "1   ...                     0.0              0.000856       0.000053   \n",
       "\n",
       "   Madhesi Brahman/Chhetree  Hill Dalit  Hill Chhetree  Hill Brahman  \\\n",
       "0                  0.000096    0.127911       0.550558      0.096566   \n",
       "1                  0.001298    0.169121       0.156360      0.265118   \n",
       "\n",
       "   Foreigner   HDI   labels  \n",
       "0        0.0  0.378       0  \n",
       "1        0.0  0.482       1  \n",
       "\n",
       "[2 rows x 21 columns]"
      ]
     },
     "execution_count": 63,
     "metadata": {},
     "output_type": "execute_result"
    }
   ],
   "source": [
    "normed.head(2)"
   ]
  },
  {
   "cell_type": "code",
   "execution_count": 64,
   "metadata": {
    "collapsed": false
   },
   "outputs": [],
   "source": [
    "for_export = normed.iloc[:,[0, 4, 5, 6, 7, 8, 9, 10, 11, 12, 13, 14, 15, 16, 17, 18]]"
   ]
  },
  {
   "cell_type": "code",
   "execution_count": 65,
   "metadata": {
    "collapsed": false
   },
   "outputs": [
    {
     "name": "stdout",
     "output_type": "stream",
     "text": [
      "70\n"
     ]
    }
   ],
   "source": [
    "print len(for_export)"
   ]
  },
  {
   "cell_type": "code",
   "execution_count": 66,
   "metadata": {
    "collapsed": true
   },
   "outputs": [],
   "source": [
    "for_export.to_csv('Data/normalized_ce.csv')"
   ]
  },
  {
   "cell_type": "code",
   "execution_count": 67,
   "metadata": {
    "collapsed": true
   },
   "outputs": [],
   "source": [
    "caste = pd.read_csv('Data/caste_percent.csv')"
   ]
  },
  {
   "cell_type": "code",
   "execution_count": 68,
   "metadata": {
    "collapsed": false
   },
   "outputs": [
    {
     "data": {
      "text/html": [
       "<div>\n",
       "<table border=\"1\" class=\"dataframe\">\n",
       "  <thead>\n",
       "    <tr style=\"text-align: right;\">\n",
       "      <th></th>\n",
       "      <th>Unnamed: 0</th>\n",
       "      <th>Aathpariya</th>\n",
       "      <th>Amat</th>\n",
       "      <th>Badhaee</th>\n",
       "      <th>Badi</th>\n",
       "      <th>Bahing</th>\n",
       "      <th>Bangali</th>\n",
       "      <th>Bantaba</th>\n",
       "      <th>Bantar/Sardar</th>\n",
       "      <th>Baraee</th>\n",
       "      <th>...</th>\n",
       "      <th>Thami</th>\n",
       "      <th>Tharu</th>\n",
       "      <th>Thulung</th>\n",
       "      <th>Topkegola</th>\n",
       "      <th>Undefined Others</th>\n",
       "      <th>Walung</th>\n",
       "      <th>Yadav</th>\n",
       "      <th>Yakkha</th>\n",
       "      <th>Yamphu</th>\n",
       "      <th>Tot_Pop</th>\n",
       "    </tr>\n",
       "  </thead>\n",
       "  <tbody>\n",
       "    <tr>\n",
       "      <th>0</th>\n",
       "      <td>Achham</td>\n",
       "      <td>0.0</td>\n",
       "      <td>0.0</td>\n",
       "      <td>0.0</td>\n",
       "      <td>0.304105</td>\n",
       "      <td>0.0</td>\n",
       "      <td>0.174385</td>\n",
       "      <td>0.0</td>\n",
       "      <td>0.0</td>\n",
       "      <td>0.0</td>\n",
       "      <td>...</td>\n",
       "      <td>0.0</td>\n",
       "      <td>0.095543</td>\n",
       "      <td>0.0</td>\n",
       "      <td>0.0</td>\n",
       "      <td>0.0</td>\n",
       "      <td>0.0</td>\n",
       "      <td>0.00000</td>\n",
       "      <td>0.0</td>\n",
       "      <td>0.0</td>\n",
       "      <td>257477</td>\n",
       "    </tr>\n",
       "    <tr>\n",
       "      <th>1</th>\n",
       "      <td>Arghakhanchi</td>\n",
       "      <td>0.0</td>\n",
       "      <td>0.0</td>\n",
       "      <td>0.0</td>\n",
       "      <td>0.141677</td>\n",
       "      <td>0.0</td>\n",
       "      <td>0.000000</td>\n",
       "      <td>0.0</td>\n",
       "      <td>0.0</td>\n",
       "      <td>0.0</td>\n",
       "      <td>...</td>\n",
       "      <td>0.0</td>\n",
       "      <td>0.118402</td>\n",
       "      <td>0.0</td>\n",
       "      <td>0.0</td>\n",
       "      <td>0.0</td>\n",
       "      <td>0.0</td>\n",
       "      <td>0.00759</td>\n",
       "      <td>0.0</td>\n",
       "      <td>0.0</td>\n",
       "      <td>197632</td>\n",
       "    </tr>\n",
       "  </tbody>\n",
       "</table>\n",
       "<p>2 rows × 133 columns</p>\n",
       "</div>"
      ],
      "text/plain": [
       "     Unnamed: 0  Aathpariya  Amat  Badhaee      Badi  Bahing   Bangali  \\\n",
       "0        Achham         0.0   0.0      0.0  0.304105     0.0  0.174385   \n",
       "1  Arghakhanchi         0.0   0.0      0.0  0.141677     0.0  0.000000   \n",
       "\n",
       "   Bantaba  Bantar/Sardar  Baraee   ...     Thami     Tharu  Thulung  \\\n",
       "0      0.0            0.0     0.0   ...       0.0  0.095543      0.0   \n",
       "1      0.0            0.0     0.0   ...       0.0  0.118402      0.0   \n",
       "\n",
       "   Topkegola  Undefined Others  Walung    Yadav  Yakkha  Yamphu  Tot_Pop  \n",
       "0        0.0               0.0     0.0  0.00000     0.0     0.0   257477  \n",
       "1        0.0               0.0     0.0  0.00759     0.0     0.0   197632  \n",
       "\n",
       "[2 rows x 133 columns]"
      ]
     },
     "execution_count": 68,
     "metadata": {},
     "output_type": "execute_result"
    }
   ],
   "source": [
    "caste.head(2)"
   ]
  },
  {
   "cell_type": "code",
   "execution_count": 69,
   "metadata": {
    "collapsed": false
   },
   "outputs": [],
   "source": [
    "caste = caste.drop('Tot_Pop',axis=1)"
   ]
  },
  {
   "cell_type": "code",
   "execution_count": 70,
   "metadata": {
    "collapsed": true
   },
   "outputs": [],
   "source": [
    "X = caste.iloc[:,1:]"
   ]
  },
  {
   "cell_type": "code",
   "execution_count": 71,
   "metadata": {
    "collapsed": false
   },
   "outputs": [
    {
     "data": {
      "image/png": "[encoded data removed]",
      "text/plain": [
       "<matplotlib.figure.Figure at 0x11eed7ed0>"
      ]
     },
     "metadata": {},
     "output_type": "display_data"
    }
   ],
   "source": [
    "elbow(X, range(1,30))"
   ]
  },
  {
   "cell_type": "code",
   "execution_count": 72,
   "metadata": {
    "collapsed": true
   },
   "outputs": [],
   "source": [
    "n = 5\n",
    "km = KMeans(n_clusters=n, random_state=324)\n",
    "km.fit(X)\n",
    "features_stand_KM = km.predict(X)\n",
    "centers = km.cluster_centers_\n",
    "labels = km.labels_"
   ]
  },
  {
   "cell_type": "code",
   "execution_count": 73,
   "metadata": {
    "collapsed": true
   },
   "outputs": [],
   "source": [
    "caste['labels'] = labels"
   ]
  },
  {
   "cell_type": "code",
   "execution_count": 74,
   "metadata": {
    "collapsed": true
   },
   "outputs": [],
   "source": [
    "caste = pd.merge(caste, nepal, left_on='Unnamed: 0', right_on='DISTRICT')"
   ]
  },
  {
   "cell_type": "code",
   "execution_count": 75,
   "metadata": {
    "collapsed": false
   },
   "outputs": [
    {
     "data": {
      "text/html": [
       "<div>\n",
       "<table border=\"1\" class=\"dataframe\">\n",
       "  <thead>\n",
       "    <tr style=\"text-align: right;\">\n",
       "      <th></th>\n",
       "      <th>Unnamed: 0</th>\n",
       "      <th>Aathpariya</th>\n",
       "      <th>Amat</th>\n",
       "      <th>Badhaee</th>\n",
       "      <th>Badi</th>\n",
       "      <th>Bahing</th>\n",
       "      <th>Bangali</th>\n",
       "      <th>Bantaba</th>\n",
       "      <th>Bantar/Sardar</th>\n",
       "      <th>Baraee</th>\n",
       "      <th>...</th>\n",
       "      <th>Topkegola</th>\n",
       "      <th>Undefined Others</th>\n",
       "      <th>Walung</th>\n",
       "      <th>Yadav</th>\n",
       "      <th>Yakkha</th>\n",
       "      <th>Yamphu</th>\n",
       "      <th>labels</th>\n",
       "      <th>DISTRICT</th>\n",
       "      <th>geometry</th>\n",
       "      <th>area</th>\n",
       "    </tr>\n",
       "  </thead>\n",
       "  <tbody>\n",
       "    <tr>\n",
       "      <th>0</th>\n",
       "      <td>Achham</td>\n",
       "      <td>0.0</td>\n",
       "      <td>0.0</td>\n",
       "      <td>0.0</td>\n",
       "      <td>0.304105</td>\n",
       "      <td>0.0</td>\n",
       "      <td>0.174385</td>\n",
       "      <td>0.0</td>\n",
       "      <td>0.0</td>\n",
       "      <td>0.0</td>\n",
       "      <td>...</td>\n",
       "      <td>0.0</td>\n",
       "      <td>0.0</td>\n",
       "      <td>0.0</td>\n",
       "      <td>0.00000</td>\n",
       "      <td>0.0</td>\n",
       "      <td>0.0</td>\n",
       "      <td>1</td>\n",
       "      <td>Achham</td>\n",
       "      <td>POLYGON ((81.17229242753619 29.38594791966788,...</td>\n",
       "      <td>0.157596</td>\n",
       "    </tr>\n",
       "    <tr>\n",
       "      <th>1</th>\n",
       "      <td>Arghakhanchi</td>\n",
       "      <td>0.0</td>\n",
       "      <td>0.0</td>\n",
       "      <td>0.0</td>\n",
       "      <td>0.141677</td>\n",
       "      <td>0.0</td>\n",
       "      <td>0.000000</td>\n",
       "      <td>0.0</td>\n",
       "      <td>0.0</td>\n",
       "      <td>0.0</td>\n",
       "      <td>...</td>\n",
       "      <td>0.0</td>\n",
       "      <td>0.0</td>\n",
       "      <td>0.0</td>\n",
       "      <td>0.00759</td>\n",
       "      <td>0.0</td>\n",
       "      <td>0.0</td>\n",
       "      <td>4</td>\n",
       "      <td>Arghakhanchi</td>\n",
       "      <td>POLYGON ((83.00438676076416 28.11207481910646,...</td>\n",
       "      <td>0.113578</td>\n",
       "    </tr>\n",
       "  </tbody>\n",
       "</table>\n",
       "<p>2 rows × 136 columns</p>\n",
       "</div>"
      ],
      "text/plain": [
       "     Unnamed: 0  Aathpariya  Amat  Badhaee      Badi  Bahing   Bangali  \\\n",
       "0        Achham         0.0   0.0      0.0  0.304105     0.0  0.174385   \n",
       "1  Arghakhanchi         0.0   0.0      0.0  0.141677     0.0  0.000000   \n",
       "\n",
       "   Bantaba  Bantar/Sardar  Baraee    ...     Topkegola  Undefined Others  \\\n",
       "0      0.0            0.0     0.0    ...           0.0               0.0   \n",
       "1      0.0            0.0     0.0    ...           0.0               0.0   \n",
       "\n",
       "   Walung    Yadav  Yakkha  Yamphu  labels      DISTRICT  \\\n",
       "0     0.0  0.00000     0.0     0.0       1        Achham   \n",
       "1     0.0  0.00759     0.0     0.0       4  Arghakhanchi   \n",
       "\n",
       "                                            geometry      area  \n",
       "0  POLYGON ((81.17229242753619 29.38594791966788,...  0.157596  \n",
       "1  POLYGON ((83.00438676076416 28.11207481910646,...  0.113578  \n",
       "\n",
       "[2 rows x 136 columns]"
      ]
     },
     "execution_count": 75,
     "metadata": {},
     "output_type": "execute_result"
    }
   ],
   "source": [
    "caste = gpd.GeoDataFrame(caste, geometry=caste['geometry'])\n",
    "caste.crs = {'init' :'epsg:4326'}\n",
    "caste.head(2)"
   ]
  },
  {
   "cell_type": "code",
   "execution_count": 76,
   "metadata": {
    "collapsed": false
   },
   "outputs": [
    {
     "data": {
      "text/plain": [
       "<matplotlib.axes._subplots.AxesSubplot at 0x11eec6d90>"
      ]
     },
     "execution_count": 76,
     "metadata": {},
     "output_type": "execute_result"
    },
    {
     "data": {
      "image/png": "[encoded data removed]",
      "text/plain": [
       "<matplotlib.figure.Figure at 0x11dafc910>"
      ]
     },
     "metadata": {},
     "output_type": "display_data"
    }
   ],
   "source": [
    "f, (ax1) = plt.subplots(figsize=(12,8))\n",
    "caste.plot(column='labels',cmap='gnuplot',alpha=.9,linewidth=0.4,ax=ax1)\n",
    "ax1.set_title('Nepal Clustered by Caste/Ethnicity', fontsize=20)\n",
    "caste.plot(alpha=0.01, linewidth=0.25, ax=ax1)"
   ]
  }
 ],
 "metadata": {
  "kernelspec": {
   "display_name": "Python 2",
   "language": "python",
   "name": "python2"
  },
  "language_info": {
   "codemirror_mode": {
    "name": "ipython",
    "version": 2
   },
   "file_extension": ".py",
   "mimetype": "text/x-python",
   "name": "python",
   "nbconvert_exporter": "python",
   "pygments_lexer": "ipython2",
   "version": "2.7.12"
  }
 },
 "nbformat": 4,
 "nbformat_minor": 1
}

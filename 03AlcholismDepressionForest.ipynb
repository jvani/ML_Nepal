{
 "cells": [
  {
   "cell_type": "code",
   "execution_count": 1,
   "metadata": {
    "collapsed": true
   },
   "outputs": [],
   "source": [
    "import os\n",
    "import numpy as np\n",
    "import pandas as pd"
   ]
  },
  {
   "cell_type": "code",
   "execution_count": 2,
   "metadata": {
    "collapsed": false
   },
   "outputs": [
    {
     "name": "stdout",
     "output_type": "stream",
     "text": [
      "['caste', 'caste_grouped', 'caste_percent', 'communicabledisease1', 'communicabledisease1T', 'communicabledisease2', 'communicabledisease2T', 'hdi2011', 'master', 'master_updated', 'mentalhealth', 'mentalhealthT', 'poverty1', 'poverty1T', 'poverty2', 'poverty2T', 'sexratio', 'vaccinations', 'vaccinationsT', 'watersanitaion', 'watersanitationT']\n"
     ]
    }
   ],
   "source": [
    "df = {}\n",
    "for data in os.listdir('Data/'):\n",
    "    if data.endswith('.csv'):\n",
    "        df[data[:-4]] = pd.read_csv('Data/' + data)\n",
    "print sorted(df.keys())"
   ]
  },
  {
   "cell_type": "code",
   "execution_count": 6,
   "metadata": {
    "collapsed": false
   },
   "outputs": [
    {
     "name": "stdout",
     "output_type": "stream",
     "text": [
      "(975, 8)\n",
      "(75, 8)\n",
      "(450, 6)\n",
      "(2625, 11)\n",
      "(75, 8)\n",
      "(3300, 8)\n",
      "(1496, 11)\n",
      "(72, 4)\n",
      "(75, 133)\n",
      "(4875, 11)\n",
      "(77, 66)\n",
      "(75, 5)\n",
      "(75, 17)\n",
      "(216, 6)\n",
      "(75, 12)\n",
      "(75, 14)\n",
      "(77, 76)\n",
      "(75, 5)\n",
      "(75, 7)\n",
      "(75, 5)\n",
      "(8556, 9)\n"
     ]
    }
   ],
   "source": [
    "for i in df.keys():\n",
    "    print df[i].shape"
   ]
  },
  {
   "cell_type": "code",
   "execution_count": null,
   "metadata": {
    "collapsed": true
   },
   "outputs": [],
   "source": []
  }
 ],
 "metadata": {
  "kernelspec": {
   "display_name": "Python 2",
   "language": "python",
   "name": "python2"
  },
  "language_info": {
   "codemirror_mode": {
    "name": "ipython",
    "version": 2
   },
   "file_extension": ".py",
   "mimetype": "text/x-python",
   "name": "python",
   "nbconvert_exporter": "python",
   "pygments_lexer": "ipython2",
   "version": "2.7.12"
  }
 },
 "nbformat": 4,
 "nbformat_minor": 1
}
